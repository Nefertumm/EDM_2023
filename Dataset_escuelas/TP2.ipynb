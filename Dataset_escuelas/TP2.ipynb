{
 "cells": [
  {
   "cell_type": "code",
   "execution_count": 3,
   "id": "91e54e01",
   "metadata": {},
   "outputs": [],
   "source": [
    "#install.packages(\"sjmisc\")\n",
    "#install.packages(\"fdth\", quiet=TRUE)\n",
    "\n",
    "library(readxl)\n",
    "library(sjmisc)\n",
    "library(fdth)\n",
    "library(dplyr)"
   ]
  },
  {
   "cell_type": "code",
   "execution_count": 4,
   "id": "0c43ecb8",
   "metadata": {},
   "outputs": [],
   "source": [
    "options(warn=-1)"
   ]
  },
  {
   "cell_type": "code",
   "execution_count": 5,
   "id": "e0a4f39c",
   "metadata": {},
   "outputs": [
    {
     "data": {
      "text/html": [
       "<ol class=list-inline>\n",
       "\t<li>70641</li>\n",
       "\t<li>17</li>\n",
       "</ol>\n"
      ],
      "text/latex": [
       "\\begin{enumerate*}\n",
       "\\item 70641\n",
       "\\item 17\n",
       "\\end{enumerate*}\n"
      ],
      "text/markdown": [
       "1. 70641\n",
       "2. 17\n",
       "\n",
       "\n"
      ],
      "text/plain": [
       "[1] 70641    17"
      ]
     },
     "metadata": {},
     "output_type": "display_data"
    }
   ],
   "source": [
    "dataset <- read_excel(\"./lapaz_troncales_limpio.xlsx\")\n",
    "dim(dataset)"
   ]
  },
  {
   "cell_type": "code",
   "execution_count": 6,
   "id": "36bd18ce",
   "metadata": {},
   "outputs": [
    {
     "name": "stdout",
     "output_type": "stream",
     "text": [
      "Classes 'tbl_df', 'tbl' and 'data.frame':\t70641 obs. of  17 variables:\n",
      " $ CUE               : num  6e+06 6e+06 6e+06 6e+06 6e+06 ...\n",
      " $ EsPrivada         : logi  FALSE FALSE FALSE FALSE FALSE FALSE ...\n",
      " $ turno             : chr  \"MAÑANA\" \"MAÑANA\" \"MAÑANA\" \"MAÑANA\" ...\n",
      " $ periodoEvaluatorio: chr  \"Tercer Trimestre\" \"Tercer Trimestre\" \"Tercer Trimestre\" \"Tercer Trimestre\" ...\n",
      " $ Documento         : num  1.14e+08 1.14e+08 1.14e+08 1.14e+08 1.14e+08 ...\n",
      " $ año               : num  2022 2022 2022 2022 2022 ...\n",
      " $ asignatura        : chr  \"CIENCIAS NATURALES\" \"CIENCIAS SOCIALES\" \"EDUCACIÓN FÍSICA\" \"LENGUA\" ...\n",
      " $ NivelEnseñanza    : chr  \"PRIMARIO\" \"PRIMARIO\" \"PRIMARIO\" \"PRIMARIO\" ...\n",
      " $ Nivel             : num  2 2 2 2 2 2 2 2 2 2 ...\n",
      " $ Modalidad         : chr  \"Primaria\" \"Primaria\" \"Primaria\" \"Primaria\" ...\n",
      " $ ModEnseñanza      : chr  \"Comun\" \"Comun\" \"Comun\" \"Comun\" ...\n",
      " $ AñoCursado        : num  3 3 3 3 3 5 5 5 5 5 ...\n",
      " $ NotasPrimerT      : num  8 8 9 9 10 8 8 7 8 8 ...\n",
      " $ NotasSegundoT     : num  10 10 9 8 9 8 8 6 9 9 ...\n",
      " $ NotasTercerT      : num  10 10 9 10 9 8 9 6 9 9 ...\n",
      " $ Promedio          : num  9.33 9.33 9 9 9.33 ...\n",
      " $ CondicionFinal    : chr  \"APROBADO\" \"APROBADO\" \"APROBADO\" \"APROBADO\" ...\n"
     ]
    }
   ],
   "source": [
    "str(dataset)"
   ]
  },
  {
   "cell_type": "code",
   "execution_count": 7,
   "id": "e03791a1",
   "metadata": {},
   "outputs": [
    {
     "data": {
      "text/plain": [
       "     1     2     3     4     5     6     7\n",
       "                                          \n",
       " 11254 10189 10940 14132 12882 11035   131"
      ]
     },
     "metadata": {},
     "output_type": "display_data"
    }
   ],
   "source": [
    "ftable(dataset$AñoCursado)"
   ]
  },
  {
   "cell_type": "code",
   "execution_count": 8,
   "id": "d79a4389",
   "metadata": {},
   "outputs": [
    {
     "data": {
      "text/plain": [
       " EGB 3 PRIMARIO SECUNDARIO\n",
       "                          \n",
       "  2653    26792      41196"
      ]
     },
     "metadata": {},
     "output_type": "display_data"
    }
   ],
   "source": [
    "ftable(dataset$NivelEnseñanza)"
   ]
  },
  {
   "cell_type": "markdown",
   "id": "28e1a795",
   "metadata": {},
   "source": [
    "## Eliminamos la columna de Nivel, ya que NivelEnseñanza nos brinda más información que la anterior y están relacionadas.\n",
    "## También eliminamos la columna de año ya que todos nuestros datos son del 2022, sería redundante dejarla."
   ]
  },
  {
   "cell_type": "code",
   "execution_count": 9,
   "id": "2632325f",
   "metadata": {
    "scrolled": true
   },
   "outputs": [
    {
     "data": {
      "text/html": [
       "<table>\n",
       "<thead><tr><th scope=col>CUE</th><th scope=col>EsPrivada</th><th scope=col>turno</th><th scope=col>periodoEvaluatorio</th><th scope=col>Documento</th><th scope=col>año</th><th scope=col>asignatura</th><th scope=col>NivelEnseñanza</th><th scope=col>Nivel</th><th scope=col>Modalidad</th><th scope=col>ModEnseñanza</th><th scope=col>AñoCursado</th><th scope=col>NotasPrimerT</th><th scope=col>NotasSegundoT</th><th scope=col>NotasTercerT</th><th scope=col>Promedio</th><th scope=col>CondicionFinal</th></tr></thead>\n",
       "<tbody>\n",
       "\t<tr><td>6003786           </td><td>FALSE             </td><td>MAÑANA            </td><td>Tercer Trimestre  </td><td>113509691         </td><td>2022              </td><td>CIENCIAS NATURALES</td><td>PRIMARIO          </td><td>2                 </td><td>Primaria          </td><td>Comun             </td><td>3                 </td><td> 8                </td><td>10                </td><td>10                </td><td>9.333333          </td><td>APROBADO          </td></tr>\n",
       "\t<tr><td>6003786           </td><td>FALSE             </td><td>MAÑANA            </td><td>Tercer Trimestre  </td><td>113509691         </td><td>2022              </td><td>CIENCIAS SOCIALES </td><td>PRIMARIO          </td><td>2                 </td><td>Primaria          </td><td>Comun             </td><td>3                 </td><td> 8                </td><td>10                </td><td>10                </td><td>9.333333          </td><td>APROBADO          </td></tr>\n",
       "\t<tr><td>6003786           </td><td>FALSE             </td><td>MAÑANA            </td><td>Tercer Trimestre  </td><td>113509691         </td><td>2022              </td><td>EDUCACIÓN FÍSICA  </td><td>PRIMARIO          </td><td>2                 </td><td>Primaria          </td><td>Comun             </td><td>3                 </td><td> 9                </td><td> 9                </td><td> 9                </td><td>9.000000          </td><td>APROBADO          </td></tr>\n",
       "\t<tr><td>6003786           </td><td>FALSE             </td><td>MAÑANA            </td><td>Tercer Trimestre  </td><td>113509691         </td><td>2022              </td><td>LENGUA            </td><td>PRIMARIO          </td><td>2                 </td><td>Primaria          </td><td>Comun             </td><td>3                 </td><td> 9                </td><td> 8                </td><td>10                </td><td>9.000000          </td><td>APROBADO          </td></tr>\n",
       "\t<tr><td>6003786           </td><td>FALSE             </td><td>MAÑANA            </td><td>Tercer Trimestre  </td><td>113509691         </td><td>2022              </td><td>MATEMÁTICA        </td><td>PRIMARIO          </td><td>2                 </td><td>Primaria          </td><td>Comun             </td><td>3                 </td><td>10                </td><td> 9                </td><td> 9                </td><td>9.333333          </td><td>APROBADO          </td></tr>\n",
       "\t<tr><td>6003786           </td><td>FALSE             </td><td>MAÑANA            </td><td>Tercer Trimestre  </td><td> 14082908         </td><td>2022              </td><td>CIENCIAS NATURALES</td><td>PRIMARIO          </td><td>2                 </td><td>Primaria          </td><td>Comun             </td><td>5                 </td><td> 8                </td><td> 8                </td><td> 8                </td><td>8.000000          </td><td>APROBADO          </td></tr>\n",
       "</tbody>\n",
       "</table>\n"
      ],
      "text/latex": [
       "\\begin{tabular}{r|lllllllllllllllll}\n",
       " CUE & EsPrivada & turno & periodoEvaluatorio & Documento & año & asignatura & NivelEnseñanza & Nivel & Modalidad & ModEnseñanza & AñoCursado & NotasPrimerT & NotasSegundoT & NotasTercerT & Promedio & CondicionFinal\\\\\n",
       "\\hline\n",
       "\t 6003786            & FALSE              & MAÑANA             & Tercer Trimestre   & 113509691          & 2022               & CIENCIAS NATURALES & PRIMARIO           & 2                  & Primaria           & Comun              & 3                  &  8                 & 10                 & 10                 & 9.333333           & APROBADO          \\\\\n",
       "\t 6003786            & FALSE              & MAÑANA             & Tercer Trimestre   & 113509691          & 2022               & CIENCIAS SOCIALES  & PRIMARIO           & 2                  & Primaria           & Comun              & 3                  &  8                 & 10                 & 10                 & 9.333333           & APROBADO          \\\\\n",
       "\t 6003786            & FALSE              & MAÑANA             & Tercer Trimestre   & 113509691          & 2022               & EDUCACIÓN FÍSICA   & PRIMARIO           & 2                  & Primaria           & Comun              & 3                  &  9                 &  9                 &  9                 & 9.000000           & APROBADO          \\\\\n",
       "\t 6003786            & FALSE              & MAÑANA             & Tercer Trimestre   & 113509691          & 2022               & LENGUA             & PRIMARIO           & 2                  & Primaria           & Comun              & 3                  &  9                 &  8                 & 10                 & 9.000000           & APROBADO          \\\\\n",
       "\t 6003786            & FALSE              & MAÑANA             & Tercer Trimestre   & 113509691          & 2022               & MATEMÁTICA         & PRIMARIO           & 2                  & Primaria           & Comun              & 3                  & 10                 &  9                 &  9                 & 9.333333           & APROBADO          \\\\\n",
       "\t 6003786            & FALSE              & MAÑANA             & Tercer Trimestre   &  14082908          & 2022               & CIENCIAS NATURALES & PRIMARIO           & 2                  & Primaria           & Comun              & 5                  &  8                 &  8                 &  8                 & 8.000000           & APROBADO          \\\\\n",
       "\\end{tabular}\n"
      ],
      "text/markdown": [
       "\n",
       "| CUE | EsPrivada | turno | periodoEvaluatorio | Documento | año | asignatura | NivelEnseñanza | Nivel | Modalidad | ModEnseñanza | AñoCursado | NotasPrimerT | NotasSegundoT | NotasTercerT | Promedio | CondicionFinal |\n",
       "|---|---|---|---|---|---|---|---|---|---|---|---|---|---|---|---|---|\n",
       "| 6003786            | FALSE              | MAÑANA             | Tercer Trimestre   | 113509691          | 2022               | CIENCIAS NATURALES | PRIMARIO           | 2                  | Primaria           | Comun              | 3                  |  8                 | 10                 | 10                 | 9.333333           | APROBADO           |\n",
       "| 6003786            | FALSE              | MAÑANA             | Tercer Trimestre   | 113509691          | 2022               | CIENCIAS SOCIALES  | PRIMARIO           | 2                  | Primaria           | Comun              | 3                  |  8                 | 10                 | 10                 | 9.333333           | APROBADO           |\n",
       "| 6003786            | FALSE              | MAÑANA             | Tercer Trimestre   | 113509691          | 2022               | EDUCACIÓN FÍSICA   | PRIMARIO           | 2                  | Primaria           | Comun              | 3                  |  9                 |  9                 |  9                 | 9.000000           | APROBADO           |\n",
       "| 6003786            | FALSE              | MAÑANA             | Tercer Trimestre   | 113509691          | 2022               | LENGUA             | PRIMARIO           | 2                  | Primaria           | Comun              | 3                  |  9                 |  8                 | 10                 | 9.000000           | APROBADO           |\n",
       "| 6003786            | FALSE              | MAÑANA             | Tercer Trimestre   | 113509691          | 2022               | MATEMÁTICA         | PRIMARIO           | 2                  | Primaria           | Comun              | 3                  | 10                 |  9                 |  9                 | 9.333333           | APROBADO           |\n",
       "| 6003786            | FALSE              | MAÑANA             | Tercer Trimestre   |  14082908          | 2022               | CIENCIAS NATURALES | PRIMARIO           | 2                  | Primaria           | Comun              | 5                  |  8                 |  8                 |  8                 | 8.000000           | APROBADO           |\n",
       "\n"
      ],
      "text/plain": [
       "  CUE     EsPrivada turno  periodoEvaluatorio Documento año  asignatura        \n",
       "1 6003786 FALSE     MAÑANA Tercer Trimestre   113509691 2022 CIENCIAS NATURALES\n",
       "2 6003786 FALSE     MAÑANA Tercer Trimestre   113509691 2022 CIENCIAS SOCIALES \n",
       "3 6003786 FALSE     MAÑANA Tercer Trimestre   113509691 2022 EDUCACIÓN FÍSICA  \n",
       "4 6003786 FALSE     MAÑANA Tercer Trimestre   113509691 2022 LENGUA            \n",
       "5 6003786 FALSE     MAÑANA Tercer Trimestre   113509691 2022 MATEMÁTICA        \n",
       "6 6003786 FALSE     MAÑANA Tercer Trimestre    14082908 2022 CIENCIAS NATURALES\n",
       "  NivelEnseñanza Nivel Modalidad ModEnseñanza AñoCursado NotasPrimerT\n",
       "1 PRIMARIO       2     Primaria  Comun        3           8          \n",
       "2 PRIMARIO       2     Primaria  Comun        3           8          \n",
       "3 PRIMARIO       2     Primaria  Comun        3           9          \n",
       "4 PRIMARIO       2     Primaria  Comun        3           9          \n",
       "5 PRIMARIO       2     Primaria  Comun        3          10          \n",
       "6 PRIMARIO       2     Primaria  Comun        5           8          \n",
       "  NotasSegundoT NotasTercerT Promedio CondicionFinal\n",
       "1 10            10           9.333333 APROBADO      \n",
       "2 10            10           9.333333 APROBADO      \n",
       "3  9             9           9.000000 APROBADO      \n",
       "4  8            10           9.000000 APROBADO      \n",
       "5  9             9           9.333333 APROBADO      \n",
       "6  8             8           8.000000 APROBADO      "
      ]
     },
     "metadata": {},
     "output_type": "display_data"
    }
   ],
   "source": [
    "head(dataset)"
   ]
  },
  {
   "cell_type": "code",
   "execution_count": 10,
   "id": "7fd6e4f4",
   "metadata": {},
   "outputs": [
    {
     "data": {
      "text/html": [
       "<ol class=list-inline>\n",
       "\t<li>'CUE'</li>\n",
       "\t<li>'EsPrivada'</li>\n",
       "\t<li>'turno'</li>\n",
       "\t<li>'periodoEvaluatorio'</li>\n",
       "\t<li>'Documento'</li>\n",
       "\t<li>'año'</li>\n",
       "\t<li>'asignatura'</li>\n",
       "\t<li>'NivelEnseñanza'</li>\n",
       "\t<li>'Nivel'</li>\n",
       "\t<li>'Modalidad'</li>\n",
       "\t<li>'ModEnseñanza'</li>\n",
       "\t<li>'AñoCursado'</li>\n",
       "\t<li>'NotasPrimerT'</li>\n",
       "\t<li>'NotasSegundoT'</li>\n",
       "\t<li>'NotasTercerT'</li>\n",
       "\t<li>'Promedio'</li>\n",
       "\t<li>'CondicionFinal'</li>\n",
       "</ol>\n"
      ],
      "text/latex": [
       "\\begin{enumerate*}\n",
       "\\item 'CUE'\n",
       "\\item 'EsPrivada'\n",
       "\\item 'turno'\n",
       "\\item 'periodoEvaluatorio'\n",
       "\\item 'Documento'\n",
       "\\item 'año'\n",
       "\\item 'asignatura'\n",
       "\\item 'NivelEnseñanza'\n",
       "\\item 'Nivel'\n",
       "\\item 'Modalidad'\n",
       "\\item 'ModEnseñanza'\n",
       "\\item 'AñoCursado'\n",
       "\\item 'NotasPrimerT'\n",
       "\\item 'NotasSegundoT'\n",
       "\\item 'NotasTercerT'\n",
       "\\item 'Promedio'\n",
       "\\item 'CondicionFinal'\n",
       "\\end{enumerate*}\n"
      ],
      "text/markdown": [
       "1. 'CUE'\n",
       "2. 'EsPrivada'\n",
       "3. 'turno'\n",
       "4. 'periodoEvaluatorio'\n",
       "5. 'Documento'\n",
       "6. 'año'\n",
       "7. 'asignatura'\n",
       "8. 'NivelEnseñanza'\n",
       "9. 'Nivel'\n",
       "10. 'Modalidad'\n",
       "11. 'ModEnseñanza'\n",
       "12. 'AñoCursado'\n",
       "13. 'NotasPrimerT'\n",
       "14. 'NotasSegundoT'\n",
       "15. 'NotasTercerT'\n",
       "16. 'Promedio'\n",
       "17. 'CondicionFinal'\n",
       "\n",
       "\n"
      ],
      "text/plain": [
       " [1] \"CUE\"                \"EsPrivada\"          \"turno\"             \n",
       " [4] \"periodoEvaluatorio\" \"Documento\"          \"año\"               \n",
       " [7] \"asignatura\"         \"NivelEnseñanza\"     \"Nivel\"             \n",
       "[10] \"Modalidad\"          \"ModEnseñanza\"       \"AñoCursado\"        \n",
       "[13] \"NotasPrimerT\"       \"NotasSegundoT\"      \"NotasTercerT\"      \n",
       "[16] \"Promedio\"           \"CondicionFinal\"    "
      ]
     },
     "metadata": {},
     "output_type": "display_data"
    }
   ],
   "source": [
    "names(dataset)"
   ]
  },
  {
   "cell_type": "code",
   "execution_count": 11,
   "id": "cf9064c2",
   "metadata": {
    "scrolled": true
   },
   "outputs": [
    {
     "data": {
      "text/html": [
       "<ol class=list-inline>\n",
       "\t<li>70641</li>\n",
       "\t<li>17</li>\n",
       "</ol>\n"
      ],
      "text/latex": [
       "\\begin{enumerate*}\n",
       "\\item 70641\n",
       "\\item 17\n",
       "\\end{enumerate*}\n"
      ],
      "text/markdown": [
       "1. 70641\n",
       "2. 17\n",
       "\n",
       "\n"
      ],
      "text/plain": [
       "[1] 70641    17"
      ]
     },
     "metadata": {},
     "output_type": "display_data"
    }
   ],
   "source": [
    "dim(dataset)"
   ]
  },
  {
   "cell_type": "code",
   "execution_count": 12,
   "id": "c48be0af",
   "metadata": {
    "scrolled": true
   },
   "outputs": [],
   "source": [
    "  #<-  filter(dataset, AñoCursado == \"1\" & asignatura == \"MATEMÁTICA\")"
   ]
  },
  {
   "cell_type": "code",
   "execution_count": 13,
   "id": "2b4b0ae7",
   "metadata": {},
   "outputs": [
    {
     "data": {
      "image/png": "[encoded data removed]",
      "text/plain": [
       "plot without title"
      ]
     },
     "metadata": {},
     "output_type": "display_data"
    }
   ],
   "source": [
    "histo_mat_primerT <- fdt(dataset$NotasPrimerT,breaks=\"Sturges\",na.rm=TRUE)\n",
    "plot(histo_mat_primerT, type=\"cfph\", col=\"blue\")"
   ]
  },
  {
   "cell_type": "code",
   "execution_count": null,
   "id": "f94cd06a",
   "metadata": {},
   "outputs": [],
   "source": [
    "\n"
   ]
  },
  {
   "cell_type": "code",
   "execution_count": null,
   "id": "c1ad5670",
   "metadata": {},
   "outputs": [],
   "source": [
    "ftable(dataset$Modalidad)"
   ]
  },
  {
   "cell_type": "code",
   "execution_count": null,
   "id": "4ff38247",
   "metadata": {},
   "outputs": [],
   "source": [
    "sectores<-filter(dataset, (AñoCursado == \"1\" |  AñoCursado == \"2\" |  AñoCursado == \"3\" |\n",
    "                     AñoCursado == \"4\" |  AñoCursado == \"5\" |  AñoCursado == \"6\") & Modalidad == \"Primaria\")"
   ]
  },
  {
   "cell_type": "code",
   "execution_count": null,
   "id": "0c65322c",
   "metadata": {},
   "outputs": [],
   "source": [
    "p <- table(sectores$AñoCursado)"
   ]
  },
  {
   "cell_type": "code",
   "execution_count": null,
   "id": "bdb04264",
   "metadata": {},
   "outputs": [],
   "source": [
    "library(ggplot2)\n",
    "pie_commute <- round(100 * table(sectores$AñoCursado) / length(sectores$AñoCursado))\n",
    "pie_commute\n",
    "porc <- c(pie_commute)\n",
    "frec<- c(table(sectores$AñoCursado))\n",
    "D1<-data.frame(frec,porc)\n",
    "D1\n",
    "Años<-rownames(D1)"
   ]
  },
  {
   "cell_type": "code",
   "execution_count": null,
   "id": "a96b6102",
   "metadata": {},
   "outputs": [],
   "source": [
    "ggplot(D1, aes(x=\"\", y=frec, fill=Años)) +\n",
    "  geom_bar(stat=\"identity\", width=1,color=\"white\") +\n",
    "  coord_polar(\"y\", start=0)+\n",
    "  theme_void()+\n",
    "  geom_text(aes(label = paste0(frec,'\\n', porc, ' %'),x = 1), color = \"white\", size=4,\n",
    "            position = position_stack(vjust = 0.5))+\n",
    "  scale_fill_brewer(palette=\"Set2\")+\n",
    "  labs(title=\"Distribucion Porcentual de la Matricula de 2022 en\n",
    "            Entre Ríos por Año de Cursado\")"
   ]
  },
  {
   "cell_type": "code",
   "execution_count": null,
   "id": "ff54517d",
   "metadata": {},
   "outputs": [],
   "source": [
    "sectores_secu<-filter(dataset, (AñoCursado == \"1\" |  AñoCursado == \"2\" |  AñoCursado == \"3\" |\n",
    "                     AñoCursado == \"4\" |  AñoCursado == \"5\" |  AñoCursado == \"6\" | AñoCursado == \"7\") & Modalidad == \"Secundaria\")"
   ]
  },
  {
   "cell_type": "code",
   "execution_count": null,
   "id": "11b0cfe8",
   "metadata": {
    "scrolled": true
   },
   "outputs": [],
   "source": [
    "\n",
    "pie <- round(100 * table(sectores_secu$AñoCursado) / length(sectores_secu$AñoCursado))\n",
    "pie\n",
    "porc <- c(pie)\n",
    "frec<- c(table(sectores_secu$AñoCursado))\n",
    "D1<-data.frame(frec,porc)\n",
    "D1\n",
    "Años<-rownames(D1)"
   ]
  },
  {
   "cell_type": "code",
   "execution_count": null,
   "id": "0f749075",
   "metadata": {},
   "outputs": [],
   "source": [
    "ggplot(D1, aes(x=\"\", y=frec, fill=Años)) +\n",
    "  geom_bar(stat=\"identity\", width=1,color=\"white\") +\n",
    "  coord_polar(\"y\", start=0)+\n",
    "  theme_void()+\n",
    "  geom_text(aes(label = paste0(frec,'\\n', porc, ' %'),x = 1), color = \"white\", size=4,\n",
    "            position = position_stack(vjust = 0.5))+\n",
    "  scale_fill_brewer(palette=\"Set2\")+\n",
    "  labs(title=\"Distribucion Porcentual de la Matricula de 2022 en\n",
    "            Entre Ríos por Año de Cursado\")"
   ]
  },
  {
   "cell_type": "code",
   "execution_count": null,
   "id": "1baddf3d",
   "metadata": {
    "scrolled": true
   },
   "outputs": [],
   "source": [
    "primaria_Mat_1<-filter(dataset, AñoCursado == \"1\" & asignatura==\"MATEMÁTICA\" & Modalidad == \"Primaria\")\n",
    "boxplot(primaria_Mat_1[!is.na(primaria_Mat_1$Promedio),]$Promedio, main =\"Cajas y bigotes para la variable Promedio para Matemática\",horizontal = TRUE)\n",
    "\n",
    "\n",
    "boxplot(primaria_Mat_1[!is.na(primaria_Mat_1$Promedio),]$Promedio,\n",
    "        whisklty = 2,       # Tipo línea bigotes\n",
    "        whisklwd = 2,       # Ancho línea bigotes\n",
    "        whiskcol = \"red\",   # Color bigotes\n",
    "        staplelty = 3,      # Tipo línea barras\n",
    "        staplelwd = 2,      # Ancho línea barras\n",
    "        staplecol = \"blue\") # Color barras"
   ]
  },
  {
   "cell_type": "code",
   "execution_count": null,
   "id": "12cdf9a5",
   "metadata": {
    "scrolled": true
   },
   "outputs": [],
   "source": [
    "primaria_len_1<-filter(dataset, AñoCursado == \"1\" & asignatura==\"LENGUA\" & Modalidad == \"Primaria\")\n",
    "boxplot(primaria_len_1[!is.na(primaria_len_1$Promedio),]$Promedio, main =\"Cajas y bigotes para la variable Promedio para Lengua\",horizontal = TRUE)\n",
    "\n",
    "\n",
    "boxplot(primaria_len_1[!is.na(primaria_len_1$Promedio),]$Promedio,\n",
    "        whisklty = 2,       # Tipo línea bigotes\n",
    "        whisklwd = 2,       # Ancho línea bigotes\n",
    "        whiskcol = \"red\",   # Color bigotes\n",
    "        staplelty = 3,      # Tipo línea barras\n",
    "        staplelwd = 2,      # Ancho línea barras\n",
    "        staplecol = \"blue\") # Color barras"
   ]
  },
  {
   "cell_type": "markdown",
   "id": "c91b793a",
   "metadata": {},
   "source": [
    "## Boxplot secu\n",
    "\n"
   ]
  },
  {
   "cell_type": "code",
   "execution_count": null,
   "id": "7642e0ed",
   "metadata": {
    "scrolled": true
   },
   "outputs": [],
   "source": [
    "secundaria_Mat_1<-filter(dataset, AñoCursado == 1 & asignatura==\"MATEMATICA\" & Modalidad == \"Secundaria\")\n",
    "boxplot(secundaria_Mat_1[!is.na(secundaria_Mat_1$Promedio),]$Promedio, main =\"Cajas y bigotes para la variable Promedio para Matemática - Secundaria\",horizontal = TRUE)\n",
    "\n",
    "\n",
    "boxplot(secundaria_Mat_1[!is.na(secundaria_Mat_1$Promedio),]$Promedio,\n",
    "        whisklty = 2,       # Tipo línea bigotes\n",
    "        whisklwd = 2,       # Ancho línea bigotes\n",
    "        whiskcol = \"red\",   # Color bigotes\n",
    "        staplelty = 3,      # Tipo línea barras\n",
    "        staplelwd = 2,      # Ancho línea barras\n",
    "        staplecol = \"blue\") # Color barras"
   ]
  },
  {
   "cell_type": "code",
   "execution_count": null,
   "id": "4fd5bcef",
   "metadata": {},
   "outputs": [],
   "source": [
    "secundaria_len_1<-filter(dataset, AñoCursado == \"1\" & asignatura==\"LENGUA Y LITERATURA\" & Modalidad == \"Secundaria\")\n",
    "boxplot(secundaria_len_1[!is.na(secundaria_len_1$Promedio),]$Promedio, main =\"Cajas y bigotes para la variable Promedio para Lengua\",horizontal = TRUE)\n",
    "\n",
    "\n",
    "boxplot(secundaria_len_1[!is.na(secundaria_len_1$Promedio),]$Promedio,\n",
    "        whisklty = 2,       # Tipo línea bigotes\n",
    "        whisklwd = 2,       # Ancho línea bigotes\n",
    "        whiskcol = \"red\",   # Color bigotes\n",
    "        staplelty = 3,      # Tipo línea barras\n",
    "        staplelwd = 2,      # Ancho línea barras\n",
    "        staplecol = \"blue\") # Color barras"
   ]
  },
  {
   "cell_type": "code",
   "execution_count": null,
   "id": "de21d62e",
   "metadata": {},
   "outputs": [],
   "source": [
    "#Comparación bivariada usando Histogramas Superpuestos\n",
    "\n",
    "x <- filter(secundaria_Mat_1,EsPrivada==TRUE)$Promedio # Primer grupo\n",
    "y <- filter(secundaria_Mat_1,EsPrivada==FALSE)$Promedio\n",
    "hist(x, col=\"paleturquoise3\",border=\"royalblue\",breaks = \"Sturges\", ylim = c(0, 200),\n",
    "     density=20,angle=70, xlab=\"notas\", ylab=\"frecuencia absoluta\", main=\"Histograma frecuencias relativas\")\n",
    "hist(y, add = TRUE, col = rgb(1, 1, 0, alpha = 0.5))\n",
    "\n",
    "mean_x <- mean(x,na.rm=TRUE)     \n",
    "med_x <- median(x,na.rm=TRUE)   \n",
    "mean_y <- mean(y,na.rm=TRUE)     \n",
    "med_y <- median(y,na.rm=TRUE)   \n",
    "abline(v = mean_x, col = 'blue')\n",
    "abline(v = med_x, col = 'red')\n",
    "abline(v = mean_y, col = 'black')\n",
    "abline(v = med_y, col = 'green')"
   ]
  },
  {
   "cell_type": "code",
   "execution_count": null,
   "id": "9fda7d2c",
   "metadata": {
    "scrolled": true
   },
   "outputs": [],
   "source": [
    "g2 <- ggplot(secundaria_Mat_1, aes(factor(EsPrivada), Promedio))\n",
    "g2 + geom_boxplot(aes(fill = factor(EsPrivada)))"
   ]
  },
  {
   "cell_type": "code",
   "execution_count": null,
   "id": "4d9838da",
   "metadata": {},
   "outputs": [],
   "source": [
    "#diagrama de dispersión\n",
    "#deben tener misma dimension\n",
    "rm(df)\n",
    "dim(dplyr::select(secundaria_Mat_1,\"Documento\",\"Promedio\",\"EsPrivada\"))\n",
    "dim(dplyr::select(filter(dataset,asignatura==\"BIOLOGIA\" & AñoCursado== 1),\"Documento\",\"Promedio\",\"EsPrivada\"))\n",
    "df<- dplyr::select(secundaria_Mat_1,\"Documento\",\"Promedio\",\"EsPrivada\") %>% inner_join(dplyr::select(filter(dataset,asignatura==\"BIOLOGIA\" & AñoCursado== 1),\"Documento\",\"Promedio\",\"EsPrivada\"),by=\"Documento\")\n",
    "df<-rename(df,Prom_Mat=Promedio.x, Prom_Bio=Promedio.y,EsPrivada=EsPrivada.x)\n",
    "head(df)\n",
    "plot(df$Prom_Mat, df$Prom_Bio)"
   ]
  },
  {
   "cell_type": "code",
   "execution_count": null,
   "id": "4cb98efd",
   "metadata": {
    "scrolled": true
   },
   "outputs": [],
   "source": [
    "ggplot(data=df, aes(x=Prom_Mat,y=Prom_Bio))+geom_point(aes(colour=EsPrivada)\n",
    ")+xlab(\"Longitud\")+ylab(\"ancho\")"
   ]
  },
  {
   "cell_type": "code",
   "execution_count": null,
   "id": "ac7c04da",
   "metadata": {
    "scrolled": true
   },
   "outputs": [],
   "source": [
    "ggplot(data=df, aes(x=Prom_Mat,y=Prom_Bio, color = EsPrivada))+geom_point()+ \n",
    "       geom_smooth(method = \"lm\")"
   ]
  },
  {
   "cell_type": "code",
   "execution_count": null,
   "id": "2b7e6890",
   "metadata": {},
   "outputs": [],
   "source": [
    "dataM <- na.omit(data.frame(df$Prom_Mat, df$Prom_Bio)) \n",
    "dataM<-rename(dataM,Prom_Mat=df.Prom_Mat, Prom_Bio=df.Prom_Bio)\n",
    "var(dataM)"
   ]
  },
  {
   "cell_type": "code",
   "execution_count": null,
   "id": "c1ce9ad7",
   "metadata": {},
   "outputs": [],
   "source": [
    "library(\"PerformanceAnalytics\")\n",
    "chart.Correlation(dataM, histogram = TRUE, method = \"pearson\")"
   ]
  },
  {
   "cell_type": "code",
   "execution_count": null,
   "id": "1b0acbd5",
   "metadata": {},
   "outputs": [],
   "source": [
    "#menos de 50 datos\n",
    "shapiro.test(dataM$Prom_Mat)"
   ]
  },
  {
   "cell_type": "code",
   "execution_count": null,
   "id": "27e5a188",
   "metadata": {},
   "outputs": [],
   "source": [
    "#conda install -c conda-forge r-nortest\n",
    "#mas de 50 datos\n",
    "library(nortest)\n",
    "lillie.test(x = dataM$Prom_Mat)"
   ]
  },
  {
   "cell_type": "code",
   "execution_count": null,
   "id": "238a9281",
   "metadata": {},
   "outputs": [],
   "source": [
    "per <- cor(dataM$Prom_Mat, dataM$Prom_Bio, method = \"pearson\")\n",
    "ken <- cor(dataM$Prom_Mat, dataM$Prom_Bio, method = \"kendall\")\n",
    "spe <- cor(dataM$Prom_Mat, dataM$Prom_Bio, method = \"spearman\")\n",
    "\n",
    "data <- data.frame(name=c(\"pearson\",\"kendall\",\"spearman\") , value=c(per,ken,spe))\n",
    "\n",
    "data"
   ]
  },
  {
   "cell_type": "code",
   "execution_count": null,
   "id": "5b6219d4",
   "metadata": {
    "scrolled": true
   },
   "outputs": [],
   "source": [
    "library(corrplot)\n",
    "corrplot.mixed(cor(dataM, method = \"spearman\"),addshade=\"all\")"
   ]
  },
  {
   "cell_type": "code",
   "execution_count": null,
   "id": "78d6e80a",
   "metadata": {},
   "outputs": [],
   "source": [
    "df2<-dplyr::select(secundaria_len_1,\"Documento\",\"Promedio\",\"EsPrivada\")\n",
    "\n",
    "df<- df %>% inner_join(df2,by=\"Documento\")"
   ]
  },
  {
   "cell_type": "code",
   "execution_count": null,
   "id": "ad0e1087",
   "metadata": {
    "scrolled": true
   },
   "outputs": [],
   "source": [
    "\n",
    "dataN <-rename(df,Prom_Len=Promedio)\n",
    "dataN <- na.omit(dataN) \n",
    "dataN <-dplyr::select(dataN,Prom_Mat,Prom_Bio,Prom_Len)\n",
    "dim(dataN)\n",
    "head(dataN)"
   ]
  },
  {
   "cell_type": "code",
   "execution_count": null,
   "id": "4de7433d",
   "metadata": {},
   "outputs": [],
   "source": [
    "library(ppcor)\n",
    "pcor(dataM, method = c(\"spearman\"))"
   ]
  },
  {
   "cell_type": "code",
   "execution_count": null,
   "id": "803e5c83",
   "metadata": {},
   "outputs": [],
   "source": [
    "pcor(dataN, method = c(\"pearson\"))"
   ]
  },
  {
   "cell_type": "code",
   "execution_count": null,
   "id": "81fe87b0",
   "metadata": {},
   "outputs": [],
   "source": [
    "ggm::pcor(c(\"Prom_Mat\",\"Prom_Bio\",\"Prom_Len\"), cov(dataN))\n",
    "pcor1<-ggm::pcor(c(\"Prom_Mat\",\"Prom_Bio\",\"Prom_Len\"), cov(dataN))"
   ]
  },
  {
   "cell_type": "code",
   "execution_count": null,
   "id": "459926a4",
   "metadata": {},
   "outputs": [],
   "source": [
    "library(\"pwr\")\n",
    "pwr.r.test(n = length(row.names(dataN)), r = pcor1, sig.level = .05, power = NULL)\n"
   ]
  }
 ],
 "metadata": {
  "kernelspec": {
   "display_name": "R",
   "language": "R",
   "name": "ir"
  },
  "language_info": {
   "codemirror_mode": "r",
   "file_extension": ".r",
   "mimetype": "text/x-r-source",
   "name": "R",
   "pygments_lexer": "r",
   "version": "3.6.1"
  }
 },
 "nbformat": 4,
 "nbformat_minor": 5
}
