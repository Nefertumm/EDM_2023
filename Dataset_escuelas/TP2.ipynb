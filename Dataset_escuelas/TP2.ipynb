{
 "cells": [
  {
   "cell_type": "code",
   "execution_count": 1,
   "id": "91e54e01",
   "metadata": {},
   "outputs": [
    {
     "name": "stderr",
     "output_type": "stream",
     "text": [
      "Warning message:\n",
      "\"package 'sjmisc' was built under R version 3.6.3\"\n",
      "Attaching package: 'fdth'\n",
      "\n",
      "The following objects are masked from 'package:stats':\n",
      "\n",
      "    sd, var\n",
      "\n"
     ]
    }
   ],
   "source": [
    "#install.packages(\"sjmisc\")\n",
    "#install.packages(\"fdth\", quiet=TRUE)\n",
    "\n",
    "library(readxl)\n",
    "library(sjmisc)\n",
    "library(fdth)"
   ]
  },
  {
   "cell_type": "code",
   "execution_count": 2,
   "id": "0c43ecb8",
   "metadata": {},
   "outputs": [],
   "source": [
    "options(warn=-1)"
   ]
  },
  {
   "cell_type": "code",
   "execution_count": 3,
   "id": "e0a4f39c",
   "metadata": {},
   "outputs": [
    {
     "data": {
      "text/html": [
       "<ol class=list-inline>\n",
       "\t<li>70641</li>\n",
       "\t<li>17</li>\n",
       "</ol>\n"
      ],
      "text/latex": [
       "\\begin{enumerate*}\n",
       "\\item 70641\n",
       "\\item 17\n",
       "\\end{enumerate*}\n"
      ],
      "text/markdown": [
       "1. 70641\n",
       "2. 17\n",
       "\n",
       "\n"
      ],
      "text/plain": [
       "[1] 70641    17"
      ]
     },
     "metadata": {},
     "output_type": "display_data"
    }
   ],
   "source": [
    "dataset <- read_excel(\"./lapaz_troncales_limpio.xlsx\")\n",
    "dim(dataset)"
   ]
  },
  {
   "cell_type": "code",
   "execution_count": 4,
   "id": "36bd18ce",
   "metadata": {},
   "outputs": [
    {
     "name": "stdout",
     "output_type": "stream",
     "text": [
      "Classes 'tbl_df', 'tbl' and 'data.frame':\t70641 obs. of  17 variables:\n",
      " $ CUE               : num  6e+06 6e+06 6e+06 6e+06 6e+06 ...\n",
      " $ EsPrivada         : logi  FALSE FALSE FALSE FALSE FALSE FALSE ...\n",
      " $ turno             : chr  \"MAÑANA\" \"MAÑANA\" \"MAÑANA\" \"MAÑANA\" ...\n",
      " $ periodoEvaluatorio: chr  \"Tercer Trimestre\" \"Tercer Trimestre\" \"Tercer Trimestre\" \"Tercer Trimestre\" ...\n",
      " $ Documento         : num  1.14e+08 1.14e+08 1.14e+08 1.14e+08 1.14e+08 ...\n",
      " $ año               : num  2022 2022 2022 2022 2022 ...\n",
      " $ asignatura        : chr  \"CIENCIAS NATURALES\" \"CIENCIAS SOCIALES\" \"EDUCACIÓN FÍSICA\" \"LENGUA\" ...\n",
      " $ NivelEnseñanza    : chr  \"PRIMARIO\" \"PRIMARIO\" \"PRIMARIO\" \"PRIMARIO\" ...\n",
      " $ Nivel             : num  2 2 2 2 2 2 2 2 2 2 ...\n",
      " $ Modalidad         : chr  \"Primaria\" \"Primaria\" \"Primaria\" \"Primaria\" ...\n",
      " $ ModEnseñanza      : chr  \"Comun\" \"Comun\" \"Comun\" \"Comun\" ...\n",
      " $ AñoCursado        : num  3 3 3 3 3 5 5 5 5 5 ...\n",
      " $ NotasPrimerT      : num  8 8 9 9 10 8 8 7 8 8 ...\n",
      " $ NotasSegundoT     : num  10 10 9 8 9 8 8 6 9 9 ...\n",
      " $ NotasTercerT      : num  10 10 9 10 9 8 9 6 9 9 ...\n",
      " $ Promedio          : num  9.33 9.33 9 9 9.33 ...\n",
      " $ CondicionFinal    : chr  \"APROBADO\" \"APROBADO\" \"APROBADO\" \"APROBADO\" ...\n"
     ]
    }
   ],
   "source": [
    "str(dataset)"
   ]
  },
  {
   "cell_type": "code",
   "execution_count": 6,
   "id": "e03791a1",
   "metadata": {},
   "outputs": [
    {
     "data": {
      "text/plain": [
       "     2     3\n",
       "            \n",
       " 26704 43937"
      ]
     },
     "metadata": {},
     "output_type": "display_data"
    }
   ],
   "source": [
    "ftable(dataset$Nivel)"
   ]
  },
  {
   "cell_type": "code",
   "execution_count": 7,
   "id": "d79a4389",
   "metadata": {},
   "outputs": [
    {
     "data": {
      "text/plain": [
       " EGB 3 PRIMARIO SECUNDARIO\n",
       "                          \n",
       "  2653    26792      41196"
      ]
     },
     "metadata": {},
     "output_type": "display_data"
    }
   ],
   "source": [
    "ftable(dataset$NivelEnseñanza)"
   ]
  },
  {
   "cell_type": "markdown",
   "id": "28e1a795",
   "metadata": {},
   "source": [
    "## Eliminamos la columna de Nivel, ya que NivelEnseñanza nos brinda más información que la anterior y están relacionadas.\n",
    "## También eliminamos la columna de año ya que todos nuestros datos son del 2022, sería redundante dejarla."
   ]
  },
  {
   "cell_type": "code",
   "execution_count": null,
   "id": "2632325f",
   "metadata": {},
   "outputs": [],
   "source": []
  }
 ],
 "metadata": {
  "kernelspec": {
   "display_name": "R",
   "language": "R",
   "name": "ir"
  },
  "language_info": {
   "codemirror_mode": "r",
   "file_extension": ".r",
   "mimetype": "text/x-r-source",
   "name": "R",
   "pygments_lexer": "r",
   "version": "3.6.1"
  }
 },
 "nbformat": 4,
 "nbformat_minor": 5
}
