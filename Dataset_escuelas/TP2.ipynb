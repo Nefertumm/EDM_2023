{
 "cells": [
  {
   "cell_type": "code",
   "execution_count": 5,
   "id": "91e54e01",
   "metadata": {},
   "outputs": [
    {
     "name": "stderr",
     "output_type": "stream",
     "text": [
      "Warning message:\n",
      "\"package 'sjmisc' was built under R version 3.6.3\""
     ]
    },
    {
     "ename": "ERROR",
     "evalue": "Error in library(fdth): there is no package called 'fdth'\n",
     "output_type": "error",
     "traceback": [
      "Error in library(fdth): there is no package called 'fdth'\nTraceback:\n",
      "1. library(fdth)"
     ]
    }
   ],
   "source": [
    "#install.packages(\"sjmisc\")\n",
    "#install.packages(\"fdth\", quiet=TRUE)\n",
    "\n",
    "library(readxl)\n",
    "library(sjmisc)\n",
    "library(fdth)"
   ]
  },
  {
   "cell_type": "code",
   "execution_count": null,
   "id": "0c43ecb8",
   "metadata": {},
   "outputs": [],
   "source": []
  }
 ],
 "metadata": {
  "kernelspec": {
   "display_name": "R",
   "language": "R",
   "name": "ir"
  },
  "language_info": {
   "codemirror_mode": "r",
   "file_extension": ".r",
   "mimetype": "text/x-r-source",
   "name": "R",
   "pygments_lexer": "r",
   "version": "3.6.1"
  }
 },
 "nbformat": 4,
 "nbformat_minor": 5
}
