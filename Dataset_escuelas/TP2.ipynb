{
 "cells": [
  {
   "cell_type": "code",
   "execution_count": null,
   "id": "91e54e01",
   "metadata": {},
   "outputs": [],
   "source": [
    "#install.packages(\"sjmisc\")\n",
    "#install.packages(\"fdth\", quiet=TRUE)\n",
    "\n",
    "library(readxl)\n",
    "library(sjmisc)\n",
    "library(fdth)\n",
    "library(dplyr)"
   ]
  },
  {
   "cell_type": "code",
   "execution_count": null,
   "id": "0c43ecb8",
   "metadata": {},
   "outputs": [],
   "source": [
    "options(warn=-1)"
   ]
  },
  {
   "cell_type": "code",
   "execution_count": null,
   "id": "e0a4f39c",
   "metadata": {
    "scrolled": true
   },
   "outputs": [],
   "source": [
    "dataset <- read_excel(\"./lapaz_troncales_limpio.xlsx\")\n",
    "dim(dataset)"
   ]
  },
  {
   "cell_type": "code",
   "execution_count": null,
   "id": "36bd18ce",
   "metadata": {
    "scrolled": false
   },
   "outputs": [],
   "source": [
    "str(dataset)"
   ]
  },
  {
   "cell_type": "code",
   "execution_count": null,
   "id": "d3a7eee5",
   "metadata": {
    "scrolled": true
   },
   "outputs": [],
   "source": [
    "ftable(dataset$turno )"
   ]
  },
  {
   "cell_type": "code",
   "execution_count": null,
   "id": "e03791a1",
   "metadata": {
    "scrolled": false
   },
   "outputs": [],
   "source": [
    "ftable(dataset$AñoCursado)"
   ]
  },
  {
   "cell_type": "code",
   "execution_count": null,
   "id": "d79a4389",
   "metadata": {
    "scrolled": true
   },
   "outputs": [],
   "source": [
    "ftable(dataset$NivelEnseñanza)"
   ]
  },
  {
   "cell_type": "markdown",
   "id": "28e1a795",
   "metadata": {},
   "source": [
    "## Eliminamos la columna de Nivel, ya que NivelEnseñanza nos brinda más información que la anterior y están relacionadas.\n",
    "## También eliminamos la columna de año ya que todos nuestros datos son del 2022, sería redundante dejarla."
   ]
  },
  {
   "cell_type": "code",
   "execution_count": null,
   "id": "e770a0ae",
   "metadata": {},
   "outputs": [],
   "source": [
    "dataset_mas_limpio <- dplyr::select(dataset, -c(año, Nivel))"
   ]
  },
  {
   "cell_type": "code",
   "execution_count": null,
   "id": "2632325f",
   "metadata": {
    "scrolled": true
   },
   "outputs": [],
   "source": [
    "head(dataset_mas_limpio)"
   ]
  },
  {
   "cell_type": "code",
   "execution_count": null,
   "id": "7fd6e4f4",
   "metadata": {
    "scrolled": true
   },
   "outputs": [],
   "source": [
    "names(dataset_mas_limpio)"
   ]
  },
  {
   "cell_type": "code",
   "execution_count": null,
   "id": "cf9064c2",
   "metadata": {
    "scrolled": true
   },
   "outputs": [],
   "source": [
    "dim(dataset_mas_limpio)"
   ]
  },
  {
   "cell_type": "markdown",
   "id": "99816d44",
   "metadata": {},
   "source": [
    "# Gráficos"
   ]
  },
  {
   "cell_type": "code",
   "execution_count": null,
   "id": "c1ad5670",
   "metadata": {
    "scrolled": false
   },
   "outputs": [],
   "source": [
    "ftable(dataset_mas_limpio$Modalidad)"
   ]
  },
  {
   "cell_type": "markdown",
   "id": "75517d95",
   "metadata": {},
   "source": [
    "### Graficos de sectores, primaria y secundaria, para analizar la distribución de estudiantes"
   ]
  },
  {
   "cell_type": "markdown",
   "id": "5350d152",
   "metadata": {},
   "source": [
    "### Primaria"
   ]
  },
  {
   "cell_type": "code",
   "execution_count": null,
   "id": "4ff38247",
   "metadata": {},
   "outputs": [],
   "source": [
    "dataset_mas_limpio_matricula <- dataset_mas_limpio %>% dplyr::distinct(Documento, .keep_all = TRUE)\n",
    "sectores<-filter(dataset_mas_limpio_matricula, (AñoCursado == \"1\" |  AñoCursado == \"2\" |  AñoCursado == \"3\" |\n",
    "                     AñoCursado == \"4\" |  AñoCursado == \"5\" |  AñoCursado == \"6\") & Modalidad == \"Primaria\")"
   ]
  },
  {
   "cell_type": "code",
   "execution_count": null,
   "id": "bdb04264",
   "metadata": {},
   "outputs": [],
   "source": [
    "library(ggplot2)\n",
    "pie_commute <- round(100 * table(sectores$AñoCursado) / length(sectores$AñoCursado))\n",
    "pie_commute\n",
    "porc <- c(pie_commute)\n",
    "frec<- c(table(sectores$AñoCursado))\n",
    "D1<-data.frame(frec,porc)\n",
    "D1\n",
    "Años<-rownames(D1)"
   ]
  },
  {
   "cell_type": "code",
   "execution_count": null,
   "id": "a96b6102",
   "metadata": {
    "scrolled": false
   },
   "outputs": [],
   "source": [
    "ggplot(D1, aes(x=\"\", y=frec, fill=Años)) +\n",
    "  geom_bar(stat=\"identity\", width=1,color=\"white\") +\n",
    "  coord_polar(\"y\", start=0)+\n",
    "  theme_void()+\n",
    "  geom_text(aes(label = paste0(frec,'\\n', porc, ' %'),x = 1), color = \"white\", size=4,\n",
    "            position = position_stack(vjust = 0.5))+\n",
    "  scale_fill_brewer(palette=\"Set2\")+\n",
    "  labs(title=\"Distribucion Porcentual de la Matricula de Primaria de 2022 en\n",
    "            el Departamento La Paz por Año de Cursado\")"
   ]
  },
  {
   "cell_type": "markdown",
   "id": "6d7cf4f1",
   "metadata": {},
   "source": [
    "### Secundaria"
   ]
  },
  {
   "cell_type": "code",
   "execution_count": null,
   "id": "ff54517d",
   "metadata": {},
   "outputs": [],
   "source": [
    "sectores_secu<-filter(dataset_mas_limpio_matricula, (AñoCursado == \"1\" |  AñoCursado == \"2\" |  AñoCursado == \"3\" |\n",
    "                     AñoCursado == \"4\" |  AñoCursado == \"5\" |  AñoCursado == \"6\") & Modalidad == \"Secundaria\")"
   ]
  },
  {
   "cell_type": "code",
   "execution_count": null,
   "id": "11b0cfe8",
   "metadata": {
    "scrolled": true
   },
   "outputs": [],
   "source": [
    "pie <- round(100 * table(sectores_secu$AñoCursado) / length(sectores_secu$AñoCursado))\n",
    "pie\n",
    "porc <- c(pie)\n",
    "frec<- c(table(sectores_secu$AñoCursado))\n",
    "D1<-data.frame(frec,porc)\n",
    "D1\n",
    "Años<-rownames(D1)"
   ]
  },
  {
   "cell_type": "code",
   "execution_count": null,
   "id": "0f749075",
   "metadata": {
    "scrolled": false
   },
   "outputs": [],
   "source": [
    "ggplot(D1, aes(x=\"\", y=frec, fill=Años)) +\n",
    "  geom_bar(stat=\"identity\", width=1,color=\"white\") +\n",
    "  coord_polar(\"y\", start=0)+\n",
    "  theme_void()+\n",
    "  geom_text(aes(label = paste0(frec,'\\n', porc, ' %'),x = 1), color = \"white\", size=4,\n",
    "            position = position_stack(vjust = 0.5))+\n",
    "  scale_fill_brewer(palette=\"Set2\")+\n",
    "  labs(title=\"Distribucion Porcentual de la Matricula de secundaria de 2022 en\n",
    "            departamento La Paz por Año de Cursado\")"
   ]
  },
  {
   "cell_type": "markdown",
   "id": "eaa187a9",
   "metadata": {},
   "source": [
    "### Distribución por turno "
   ]
  },
  {
   "cell_type": "markdown",
   "id": "805ad03f",
   "metadata": {},
   "source": [
    "### Primaria"
   ]
  },
  {
   "cell_type": "code",
   "execution_count": null,
   "id": "7edbf1d3",
   "metadata": {},
   "outputs": [],
   "source": [
    "sector_por_turno_p <- filter(dataset_mas_limpio_matricula, Modalidad == 'Primaria')"
   ]
  },
  {
   "cell_type": "code",
   "execution_count": null,
   "id": "955b2d82",
   "metadata": {},
   "outputs": [],
   "source": [
    "sector_por_turno_p$turno <- ifelse(sector_por_turno_p$turno %in% c(\"INTERMEDIO\", \"ROTATIVO\", \"COMPLETO\"), \"OTROS\", sector_por_turno_p$turno)\n",
    "ftable(sector_por_turno_p$turno)"
   ]
  },
  {
   "cell_type": "code",
   "execution_count": null,
   "id": "69f494f5",
   "metadata": {},
   "outputs": [],
   "source": [
    "pie <- round(100 * table(sector_por_turno_p$turno) / length(sector_por_turno_p$turno))\n",
    "porc <- c(pie)\n",
    "frec <- c(table(sector_por_turno_p$turno))\n",
    "D1 <- data.frame(frec, porc)\n",
    "rownames(D1) <- names(table(sector_por_turno_p$turno))\n",
    "D1\n",
    "turnos<-rownames(D1)"
   ]
  },
  {
   "cell_type": "code",
   "execution_count": null,
   "id": "006f9231",
   "metadata": {
    "scrolled": true
   },
   "outputs": [],
   "source": [
    "pie <- round(100 * table(sector_por_turno_p$turno) / length(sector_por_turno_p$turno))\n",
    "pie\n",
    "porc <- c(pie)\n",
    "frec<- c(table(sector_por_turno_p$turno))\n",
    "D1<-data.frame(frec,porc)\n",
    "D1\n",
    "turnos<-rownames(D1)"
   ]
  },
  {
   "cell_type": "code",
   "execution_count": null,
   "id": "f4239ae2",
   "metadata": {
    "scrolled": false
   },
   "outputs": [],
   "source": [
    "ggplot(D1, aes(x=\"\", y=frec, fill=turnos)) +\n",
    "  geom_bar(stat=\"identity\", width=1,color=\"white\") +\n",
    "  coord_polar(\"y\", start=0)+\n",
    "  theme_void()+\n",
    "  geom_text(aes(label = paste0(frec,'\\n', porc, ' %'),x = 1), color = \"white\", size=4,\n",
    "            position = position_stack(vjust = 0.50))+\n",
    "  scale_fill_brewer(palette=\"Set2\")+\n",
    "  labs(title=\"Distribucion Porcentual de la Matricula de Primaria de 2022 en\n",
    "            el Departamento La Paz por Turnos\")"
   ]
  },
  {
   "cell_type": "markdown",
   "id": "09a68790",
   "metadata": {},
   "source": [
    "### Secundaria"
   ]
  },
  {
   "cell_type": "code",
   "execution_count": null,
   "id": "35f777eb",
   "metadata": {
    "scrolled": true
   },
   "outputs": [],
   "source": [
    "sector_por_turno_s <- filter(dataset_mas_limpio_matricula, Modalidad == 'Secundaria')\n",
    "ftable(sector_por_turno_s$turno)"
   ]
  },
  {
   "cell_type": "code",
   "execution_count": null,
   "id": "a911ee84",
   "metadata": {},
   "outputs": [],
   "source": [
    "sector_por_turno_s$turno <- ifelse(sector_por_turno_s$turno %in% c(\"DIURNO\", \"NOCHE\", \"ROTATIVO\",\"VESPERTINO\"), \"OTROS\", sector_por_turno_s$turno)\n",
    "ftable(sector_por_turno_p$turno)\n",
    "pie <- round(100 * table(sector_por_turno_s$turno) / length(sector_por_turno_s$turno))\n",
    "pie\n",
    "porc <- c(pie)\n",
    "frec<- c(table(sector_por_turno_s$turno))\n",
    "D1<-data.frame(frec,porc)\n",
    "D1\n",
    "Turnos<-rownames(D1)"
   ]
  },
  {
   "cell_type": "code",
   "execution_count": null,
   "id": "e9eca152",
   "metadata": {},
   "outputs": [],
   "source": [
    "ggplot(D1, aes(x=\"\", y=frec, fill=Turnos)) +\n",
    "  geom_bar(stat=\"identity\", width=1,color=\"white\") +\n",
    "  coord_polar(\"y\", start=0)+\n",
    "  theme_void()+\n",
    "  geom_text(aes(label = paste0(frec,'\\n', porc, ' %'),x = 1), color = \"white\", size=4,\n",
    "            position = position_stack(vjust = 0.5))+\n",
    "  scale_fill_brewer(palette=\"Set2\")+\n",
    "  labs(title=\"Distribucion Porcentual de la Matricula de Secundaria de 2022 en\n",
    "            el Departamento La Paz por Turnos\")"
   ]
  },
  {
   "cell_type": "markdown",
   "id": "1a67c240",
   "metadata": {},
   "source": [
    "# Distribucion por sector publico y privado"
   ]
  },
  {
   "cell_type": "code",
   "execution_count": null,
   "id": "9fa8b261",
   "metadata": {},
   "outputs": [],
   "source": [
    "#Gráfico de barras de frecuencia absoluta\n",
    "nombres <- c(\"Publica\", \"Privada\")\n",
    "escu_primaria <- filter(dataset_mas_limpio_matricula,Modalidad == \"Primaria\")\n",
    "tabla <- table(escu_primaria$EsPrivada)\n",
    "tabla\n",
    "#barplot(tabla,main=\"Distribucion segmentado por publicas y privadas\",col=rainbow(6),ylim=c(0,30000),las=2)\n",
    "# Crear el gráfico de barras con nombres de columnas\n",
    "barplot(tabla, \n",
    "        main = \"Distribución de Notas Segmentada por Públicas y Privadas\",\n",
    "        col = rainbow(7), \n",
    "        ylim = c(0, 5000), \n",
    "        las = 1,\n",
    "        names.arg = nombres)"
   ]
  },
  {
   "cell_type": "code",
   "execution_count": null,
   "id": "227de5e0",
   "metadata": {},
   "outputs": [],
   "source": [
    "sector_pp <- filter(dataset_mas_limpio_matricula, Modalidad == 'Primaria')\n",
    "pie <- round(100 * table(sector_pp$EsPrivada) / length(sector_pp$EsPrivada))\n",
    "pie\n",
    "porc <- c(pie)\n",
    "frec<- c(table(sector_pp$EsPrivada))\n",
    "D1<-data.frame(frec,porc)\n",
    "D1\n",
    "\n",
    "Sector<-rownames(D1)"
   ]
  },
  {
   "cell_type": "code",
   "execution_count": null,
   "id": "f8f4e860",
   "metadata": {
    "scrolled": false
   },
   "outputs": [],
   "source": [
    "ggplot(D1, aes(x=\"\", y=frec, fill=Sector)) +\n",
    "  geom_bar(stat=\"identity\", width=1,color=\"white\") +\n",
    "  coord_polar(\"y\", start=0)+\n",
    "  theme_void()+\n",
    "  geom_text(aes(label = paste0(frec,'\\n', porc, ' %'),x = 1), color = \"white\", size=4,\n",
    "            position = position_stack(vjust = 0.5))+\n",
    "    scale_fill_manual(values=c(\"#F8766D\", \"#7CAE00\"), labels=c(\"Pública\",\"Privada\"))+\n",
    "  #scale_fill_brewer(palette=\"Set2\")+\n",
    "  labs(title=\"Distribución Porcentual de Estudiantes de Primaria Segmentado por Sector\")\n",
    "\n"
   ]
  },
  {
   "cell_type": "code",
   "execution_count": null,
   "id": "d8401a37",
   "metadata": {},
   "outputs": [],
   "source": [
    "escu_secu<- filter(dataset_mas_limpio_matricula, Modalidad == 'Secundaria')\n",
    "pie <- round(100 * table(escu_secu$EsPrivada) / length(escu_secu$EsPrivada))\n",
    "pie\n",
    "porc <- c(pie)\n",
    "frec<- c(table(escu_secu$EsPrivada))\n",
    "D1_s<-data.frame(frec,porc)\n",
    "D1_s\n",
    "\n",
    "Sector<-rownames(D1_s)"
   ]
  },
  {
   "cell_type": "code",
   "execution_count": null,
   "id": "df20e152",
   "metadata": {
    "scrolled": false
   },
   "outputs": [],
   "source": [
    "ggplot(D1_s, aes(x=\"\", y=frec, fill=Sector)) +\n",
    "  geom_bar(stat=\"identity\", width=1,color=\"white\") +\n",
    "  coord_polar(\"y\", start=0)+\n",
    "  theme_void()+\n",
    "  geom_text(aes(label = paste0(frec,'\\n', porc, ' %'),x = 1), color = \"white\", size=4,\n",
    "            position = position_stack(vjust = 0.5))+\n",
    "    scale_fill_manual(values=c(\"#F8766D\", \"#7CAE00\"), labels=c(\"Pública\",\"Privada\"))+\n",
    "  #scale_fill_brewer(palette=\"Set2\")+\n",
    "  labs(title=\"Distribución Porcentual de Estudiantes de Secundaria Segmentado por Sector\")"
   ]
  },
  {
   "cell_type": "markdown",
   "id": "6a30e2f5",
   "metadata": {},
   "source": [
    "# Segmentado por nivel, año y materia de la variable promedio"
   ]
  },
  {
   "cell_type": "markdown",
   "id": "994f5fee",
   "metadata": {},
   "source": [
    "### Materia matemática, primer año - Primaria"
   ]
  },
  {
   "cell_type": "code",
   "execution_count": null,
   "id": "1baddf3d",
   "metadata": {
    "scrolled": false
   },
   "outputs": [],
   "source": [
    "primaria_Mat_1<-filter(dataset_mas_limpio, AñoCursado == \"1\" & asignatura==\"MATEMÁTICA\" & Modalidad == \"Primaria\")\n",
    "\n",
    "boxplot(primaria_Mat_1[!is.na(primaria_Mat_1$Promedio),]$Promedio,\n",
    "        whisklty = 2,       # Tipo línea bigotes\n",
    "        whisklwd = 2,       # Ancho línea bigotes\n",
    "        whiskcol = \"red\",   # Color bigotes\n",
    "        staplelty = 3,      # Tipo línea barras\n",
    "        staplelwd = 2,      # Ancho línea barras\n",
    "        staplecol = \"blue\", # Color barras\n",
    "        main =\"Cajas y bigotes de Promedio para Matemáticas - Primaria\", # Tìtulo\n",
    "        horizontal = TRUE\n",
    "       )"
   ]
  },
  {
   "cell_type": "markdown",
   "id": "eaeffaed",
   "metadata": {},
   "source": [
    "### Materia Lengua, primer año - Primaria"
   ]
  },
  {
   "cell_type": "code",
   "execution_count": null,
   "id": "12cdf9a5",
   "metadata": {
    "scrolled": false
   },
   "outputs": [],
   "source": [
    "primaria_len_1<-filter(dataset_mas_limpio, AñoCursado == \"1\" & asignatura==\"LENGUA\" & Modalidad == \"Primaria\")\n",
    "\n",
    "boxplot(primaria_len_1[!is.na(primaria_len_1$Promedio),]$Promedio,\n",
    "        whisklty = 2,       # Tipo línea bigotes\n",
    "        whisklwd = 2,       # Ancho línea bigotes\n",
    "        whiskcol = \"red\",   # Color bigotes\n",
    "        staplelty = 3,      # Tipo línea barras\n",
    "        staplelwd = 2,      # Ancho línea barras\n",
    "        staplecol = \"blue\", # Color barras\n",
    "        main =\"Cajas y Bigotes de Promedio para Lengua - Primaria\", # Tìtulo\n",
    "        horizontal = TRUE\n",
    "       )"
   ]
  },
  {
   "cell_type": "markdown",
   "id": "c91b793a",
   "metadata": {},
   "source": [
    "### Materia matemática, primer año - Secundaria\n",
    "\n"
   ]
  },
  {
   "cell_type": "code",
   "execution_count": null,
   "id": "7642e0ed",
   "metadata": {
    "scrolled": false
   },
   "outputs": [],
   "source": [
    "secundaria_Mat_1<-filter(dataset_mas_limpio, AñoCursado == 1 & asignatura==\"MATEMATICA\" & Modalidad == \"Secundaria\")\n",
    "\n",
    "boxplot(secundaria_Mat_1[!is.na(secundaria_Mat_1$Promedio),]$Promedio,\n",
    "        whisklty = 2,       # Tipo línea bigotes\n",
    "        whisklwd = 2,       # Ancho línea bigotes\n",
    "        whiskcol = \"red\",   # Color bigotes\n",
    "        staplelty = 3,      # Tipo línea barras\n",
    "        staplelwd = 2,      # Ancho línea barras\n",
    "        staplecol = \"blue\", # Color barras\n",
    "        main =\"Cajas y Bigotes de Promedio para Matemática - Secundaria\", # Tìtulo\n",
    "        horizontal = TRUE\n",
    "       )"
   ]
  },
  {
   "cell_type": "markdown",
   "id": "7b317283",
   "metadata": {},
   "source": [
    "### Materia Lengua y Literatura, primer año - Secundaria"
   ]
  },
  {
   "cell_type": "code",
   "execution_count": null,
   "id": "4fd5bcef",
   "metadata": {
    "scrolled": false
   },
   "outputs": [],
   "source": [
    "secundaria_len_1<-filter(dataset_mas_limpio, AñoCursado == \"1\" & asignatura==\"LENGUA Y LITERATURA\" & Modalidad == \"Secundaria\")\n",
    "\n",
    "boxplot(secundaria_len_1[!is.na(secundaria_len_1$Promedio),]$Promedio,\n",
    "        whisklty = 2,       # Tipo línea bigotes\n",
    "        whisklwd = 2,       # Ancho línea bigotes\n",
    "        whiskcol = \"red\",   # Color bigotes\n",
    "        staplelty = 3,      # Tipo línea barras\n",
    "        staplelwd = 2,      # Ancho línea barras\n",
    "        staplecol = \"blue\", # Color barras\n",
    "        main =\"Cajas y Bigotes de Promedio para Lengua y Literatura - Secundaria\", # Tìtulo\n",
    "        horizontal = TRUE\n",
    "       )"
   ]
  },
  {
   "cell_type": "markdown",
   "id": "4efa4343",
   "metadata": {},
   "source": [
    "## Histogramas segmentados por nivel, año y materia de la variable promedio para matemática y lengua"
   ]
  },
  {
   "cell_type": "markdown",
   "id": "4b80c7e0",
   "metadata": {},
   "source": [
    "## Primaria\n",
    "### Materia: matemática"
   ]
  },
  {
   "cell_type": "code",
   "execution_count": null,
   "id": "4dd6e9fe",
   "metadata": {
    "scrolled": false
   },
   "outputs": [],
   "source": [
    "for (i in 1:6)\n",
    "{\n",
    "    print(paste0(\"Año cursado: \", i))\n",
    "    primaria_mat <- filter(dataset_mas_limpio, AñoCursado == i & asignatura == \"MATEMÁTICA\" & Modalidad == 'Primaria')\n",
    "    histo_p_1 <- fdt(primaria_mat$Promedio,breaks=\"Sturges\",na.rm=TRUE)\n",
    "    histo_p <- ggplot(primaria_mat[!is.na(primaria_mat$Promedio),],aes(x= Promedio))+\n",
    "        geom_histogram(fill=\"pink\",colour=\"brown\",name=\"matemática\", bins=10)+\n",
    "            scale_y_continuous(breaks = seq(0, 500,50), name = \"Frecuencia Absoluta\") +\n",
    "      scale_x_continuous(breaks = seq(0,10,1), name = \"Notas\" ) + geom_vline(aes(xintercept = median(Promedio),\n",
    "                      color = \"mediana\"),\n",
    "                  linetype = \"dashed\",\n",
    "                  size = 1) +\n",
    "       geom_vline(aes(xintercept = mean(Promedio),\n",
    "                      color = \"media\"),\n",
    "                  linetype = \"dashed\",\n",
    "                  size = 1) +\n",
    "       geom_vline(\n",
    "         aes(xintercept = quantile(Promedio, 0.25),\n",
    "             color = \"cuantil_25\"),\n",
    "         linetype = \"dashed\",\n",
    "         size = 1\n",
    "       ) +\n",
    "       geom_vline(\n",
    "         aes(xintercept = quantile(Promedio, 0.75),\n",
    "             color = \"cuantil_75\"),\n",
    "         linetype = \"dashed\",\n",
    "         size = 1\n",
    "       )  +\n",
    "       scale_color_manual(\n",
    "         name = \"estadisticos\",\n",
    "         values = c(\n",
    "           mediana = \"blue\",\n",
    "           media = \"red\",\n",
    "           cuantil_25 = \"black\",\n",
    "           cuantil_75 = \"orange\"\n",
    "         )\n",
    "       ) +\n",
    "       xlab(\"Longitud\") + ylab(\"n\") +\n",
    "    ggtitle(paste0(\"Primaria - Histograma de promedio de Matemática - \", i, \" año.\")) +\n",
    "   theme(plot.title = element_text(hjust = 0.5))\n",
    "    print(histo_p)\n",
    "}\n"
   ]
  },
  {
   "cell_type": "markdown",
   "id": "3757bc6b",
   "metadata": {},
   "source": [
    "### Materia: Lengua"
   ]
  },
  {
   "cell_type": "code",
   "execution_count": null,
   "id": "b4076d3b",
   "metadata": {
    "scrolled": false
   },
   "outputs": [],
   "source": [
    "for (i in 1:6)\n",
    "{\n",
    "    print(paste0(\"Año cursado: \", i))\n",
    "    primaria_len <- filter(dataset_mas_limpio, AñoCursado == i & asignatura == \"LENGUA\" & Modalidad == 'Primaria')\n",
    "    histo_p_1 <- fdt(primaria_len$Promedio,breaks=\"Sturges\",na.rm=TRUE)\n",
    "    histo_p <- ggplot(primaria_len[!is.na(primaria_len$Promedio),],aes(x= Promedio))+\n",
    "        geom_histogram(fill=\"pink\",colour=\"brown\",name=\"lengua\", bins=10)+\n",
    "            scale_y_continuous(breaks = seq(0, 500,50), name = \"Frecuencia Absoluta\") +\n",
    "      scale_x_continuous(breaks = seq(0,10,1), name = \"Notas\" ) + geom_vline(aes(xintercept = median(Promedio),\n",
    "                      color = \"mediana\"),\n",
    "                  linetype = \"dashed\",\n",
    "                  size = 1) +\n",
    "       geom_vline(aes(xintercept = mean(Promedio),\n",
    "                      color = \"media\"),\n",
    "                  linetype = \"dashed\",\n",
    "                  size = 1) +\n",
    "       geom_vline(\n",
    "         aes(xintercept = quantile(Promedio, 0.25),\n",
    "             color = \"cuantil_25\"),\n",
    "         linetype = \"dashed\",\n",
    "         size = 1\n",
    "       ) +\n",
    "       geom_vline(\n",
    "         aes(xintercept = quantile(Promedio, 0.75),\n",
    "             color = \"cuantil_75\"),\n",
    "         linetype = \"dashed\",\n",
    "         size = 1\n",
    "       )  +\n",
    "       scale_color_manual(\n",
    "         name = \"estadisticos\",\n",
    "         values = c(\n",
    "           mediana = \"blue\",\n",
    "           media = \"red\",\n",
    "           cuantil_25 = \"black\",\n",
    "           cuantil_75 = \"orange\"\n",
    "         )\n",
    "       ) +\n",
    "       xlab(\"Longitud\") + ylab(\"n\") +\n",
    "    ggtitle(paste0(\"Primaria - Histograma de promedio de Lengua - \", i, \" año.\")) +\n",
    "   theme(plot.title = element_text(hjust = 0.5))\n",
    "    print(histo_p)\n",
    "}\n"
   ]
  },
  {
   "cell_type": "markdown",
   "id": "3b2ff8d9",
   "metadata": {},
   "source": [
    "## Secundaria\n",
    "### Materia: matemática"
   ]
  },
  {
   "cell_type": "code",
   "execution_count": null,
   "id": "ddd49663",
   "metadata": {
    "scrolled": false
   },
   "outputs": [],
   "source": [
    "for (i in 1:7)\n",
    "{\n",
    "    print(paste0(\"Año cursado: \", i))\n",
    "    secundaria_mat<- filter(dataset_mas_limpio, AñoCursado == i & asignatura == \"MATEMATICA\" & Modalidad == 'Secundaria')\n",
    "    histo_s_1 <- fdt(secundaria_mat$Promedio,breaks=\"Sturges\",na.rm=TRUE)\n",
    "    histo_s <- ggplot(secundaria_mat[!is.na(secundaria_mat$Promedio),],aes(x= Promedio))+\n",
    "        geom_histogram(fill=\"pink\",colour=\"brown\",name=\"matematica\", bins=10)+\n",
    "            scale_y_continuous(breaks = seq(0, 500,50), name = \"Frecuencia Absoluta\") +\n",
    "      scale_x_continuous(breaks = seq(0,10,1), name = \"Notas\" ) + geom_vline(aes(xintercept = median(Promedio),\n",
    "                      color = \"mediana\"),\n",
    "                  linetype = \"dashed\",\n",
    "                  size = 1) +\n",
    "       geom_vline(aes(xintercept = mean(Promedio),\n",
    "                      color = \"media\"),\n",
    "                  linetype = \"dashed\",\n",
    "                  size = 1) +\n",
    "       geom_vline(\n",
    "         aes(xintercept = quantile(Promedio, 0.25),\n",
    "             color = \"cuantil_25\"),\n",
    "         linetype = \"dashed\",\n",
    "         size = 1\n",
    "       ) +\n",
    "       geom_vline(\n",
    "         aes(xintercept = quantile(Promedio, 0.75),\n",
    "             color = \"cuantil_75\"),\n",
    "         linetype = \"dashed\",\n",
    "         size = 1\n",
    "       )  +\n",
    "       scale_color_manual(\n",
    "         name = \"estadisticos\",\n",
    "         values = c(\n",
    "           mediana = \"blue\",\n",
    "           media = \"red\",\n",
    "           cuantil_25 = \"black\",\n",
    "           cuantil_75 = \"orange\"\n",
    "         )\n",
    "       ) +\n",
    "       xlab(\"Longitud\") + ylab(\"n\") +\n",
    "        ggtitle(paste0(\"Secundaria - Histograma de promedio de Matemática - \", i, \" año.\")) +\n",
    "       theme(plot.title = element_text(hjust = 0.5))\n",
    "    print(histo_s)\n",
    "}"
   ]
  },
  {
   "cell_type": "markdown",
   "id": "a81cece2",
   "metadata": {},
   "source": [
    "### Materia: Lengua y literatura"
   ]
  },
  {
   "cell_type": "code",
   "execution_count": null,
   "id": "d2a979d9",
   "metadata": {
    "scrolled": false
   },
   "outputs": [],
   "source": [
    "for (i in 1:7)\n",
    "{\n",
    "    print(paste0(\"Año cursado: \", i))\n",
    "    secundaria_len<- filter(dataset_mas_limpio, AñoCursado == i & asignatura == \"LENGUA Y LITERATURA\" & Modalidad == 'Secundaria')\n",
    "    histo_s_1 <- fdt(secundaria_len$Promedio,breaks=\"Sturges\",na.rm=TRUE)\n",
    "    histo_s <- ggplot(secundaria_len[!is.na(secundaria_len$Promedio),],aes(x= Promedio))+\n",
    "        geom_histogram(fill=\"pink\",colour=\"brown\",name=\"Lengua y literatura\", bins=10)+\n",
    "            scale_y_continuous(breaks = seq(0, 500,50), name = \"Frecuencia Absoluta\") +\n",
    "      scale_x_continuous(breaks = seq(0,10,1), name = \"Notas\" ) + geom_vline(aes(xintercept = median(Promedio),\n",
    "                      color = \"mediana\"),\n",
    "                  linetype = \"dashed\",\n",
    "                  size = 1) +\n",
    "       geom_vline(aes(xintercept = mean(Promedio),\n",
    "                      color = \"media\"),\n",
    "                  linetype = \"dashed\",\n",
    "                  size = 1) +\n",
    "       geom_vline(\n",
    "         aes(xintercept = quantile(Promedio, 0.25),\n",
    "             color = \"cuantil_25\"),\n",
    "         linetype = \"dashed\",\n",
    "         size = 1\n",
    "       ) +\n",
    "       geom_vline(\n",
    "         aes(xintercept = quantile(Promedio, 0.75),\n",
    "             color = \"cuantil_75\"),\n",
    "         linetype = \"dashed\",\n",
    "         size = 1\n",
    "       )  +\n",
    "       scale_color_manual(\n",
    "         name = \"estadisticos\",\n",
    "         values = c(\n",
    "           mediana = \"blue\",\n",
    "           media = \"red\",\n",
    "           cuantil_25 = \"black\",\n",
    "           cuantil_75 = \"orange\"\n",
    "         )\n",
    "       ) +\n",
    "       xlab(\"Longitud\") + ylab(\"n\") +\n",
    "        ggtitle(paste0(\"Secundaria - Histograma de promedio de Lengua y Literatura - \", i, \" año.\")) +\n",
    "       theme(plot.title = element_text(hjust = 0.5))\n",
    "    print(histo_s)}\n"
   ]
  },
  {
   "cell_type": "code",
   "execution_count": null,
   "id": "e209c567",
   "metadata": {},
   "outputs": [],
   "source": [
    "secundaria_len<- filter(dataset_mas_limpio, AñoCursado == 7 & asignatura == \"LENGUA Y LITERATURA\" & Modalidad == 'Secundaria')\n",
    "ftable(secundaria_len$Promedio)"
   ]
  },
  {
   "cell_type": "markdown",
   "id": "e0bd5ce1",
   "metadata": {},
   "source": [
    "## Guía 4"
   ]
  },
  {
   "cell_type": "markdown",
   "id": "ca066669",
   "metadata": {},
   "source": [
    "### a. ¿Son las correlaciones iguales?\n",
    "### b. A partir de lo que vimos en teoría, \n",
    "### ¿usted podría informar todas las correlaciones comocorrelaciones lineales fuertes?\n",
    "### c. ¿Qué importancia tiene el graficar los datos?"
   ]
  },
  {
   "cell_type": "code",
   "execution_count": null,
   "id": "4f5b6bde",
   "metadata": {},
   "outputs": [],
   "source": [
    "library(dplyr)\n",
    "library(gridExtra)\n",
    "anscombe_data = read.delim(file=\"https://goo.gl/mVLz5L\", header = T)\n",
    "# Calcular la correlación\n",
    "cor_1 = cor(anscombe_data$x1, anscombe_data$y1)\n",
    "cor_2 = cor(anscombe_data$x2, anscombe_data$y2)\n",
    "cor_3 = cor(anscombe_data$x3, anscombe_data$y3)\n",
    "cor_4 = cor(anscombe_data$x4, anscombe_data$y4)\n",
    "# Definir la función\n",
    "plot_anscombe <- function(x, y, value, type)\n",
    "{ # 'anscombe_data' es una variable global, esto es\n",
    "# una mala práctica de programación ;)\n",
    "p=ggplot(anscombe_data, aes_string(x,y)) +\n",
    "geom_smooth(method='lm', fill=NA) +\n",
    "geom_point(aes(colour=factor(1),\n",
    "fill = factor(1)),\n",
    "shape=21, size = 2\n",
    ") +\n",
    "ylim(2, 13) +\n",
    "xlim(4, 19) +\n",
    "theme_minimal() +\n",
    "theme(legend.position=\"none\") +\n",
    "annotate(\"text\",\n",
    "x = 12,\n",
    "y =4.5,\n",
    "label =\n",
    "sprintf(\"%s: %s\",\n",
    "type,\n",
    "round(value,2)\n",
    ")\n",
    ")\n",
    "return(p)\n",
    "}\n",
    "# Graficar en una cuadrícula de 2x2\n",
    "grid.arrange(plot_anscombe(\"x1\", \"y1\", cor_1, \"Correlación\"),\n",
    "plot_anscombe(\"x2\", \"y2\", cor_2, \"Correlación\"),\n",
    "plot_anscombe(\"x3\", \"y3\", cor_3, \"Correlación\"),\n",
    "plot_anscombe(\"x4\", \"y4\", cor_4, \"Correlación\"),\n",
    "ncol=2, nrow=2)\n"
   ]
  },
  {
   "cell_type": "markdown",
   "id": "a8129660",
   "metadata": {},
   "source": [
    "## Punto 4\n",
    "### Comparación mediante histograma"
   ]
  },
  {
   "cell_type": "markdown",
   "id": "30d1feeb",
   "metadata": {},
   "source": [
    "### Secundaria - primer año"
   ]
  },
  {
   "cell_type": "code",
   "execution_count": null,
   "id": "15b1d427",
   "metadata": {},
   "outputs": [],
   "source": [
    "secundaria_Mat_1<-filter(dataset_mas_limpio, AñoCursado == 1 & asignatura==\"MATEMATICA\" & Modalidad == \"Secundaria\")"
   ]
  },
  {
   "cell_type": "markdown",
   "id": "722e7d72",
   "metadata": {},
   "source": [
    "### Comparación mediante Boxplot"
   ]
  },
  {
   "cell_type": "code",
   "execution_count": null,
   "id": "9fda7d2c",
   "metadata": {
    "scrolled": false
   },
   "outputs": [],
   "source": [
    "g2 <- ggplot(secundaria_Mat_1, aes(factor(EsPrivada), Promedio))\n",
    "g2 + geom_boxplot(aes(fill = factor(EsPrivada)))"
   ]
  },
  {
   "cell_type": "markdown",
   "id": "8fb1985f",
   "metadata": {},
   "source": [
    "## Punto 5"
   ]
  },
  {
   "cell_type": "markdown",
   "id": "e6604ebf",
   "metadata": {},
   "source": [
    "### Comparación de promedios de matemáticas de los diferentes años en distintos turnos"
   ]
  },
  {
   "cell_type": "code",
   "execution_count": null,
   "id": "495ba971",
   "metadata": {
    "scrolled": true
   },
   "outputs": [],
   "source": [
    "ftable(filter(dataset_mas_limpio, asignatura == \"MATEMÁTICA\" & Modalidad == \"Primaria\")$turno)"
   ]
  },
  {
   "cell_type": "code",
   "execution_count": null,
   "id": "26fec393",
   "metadata": {
    "scrolled": true
   },
   "outputs": [],
   "source": [
    "ftable(filter(dataset_mas_limpio, asignatura == \"LENGUA\" & Modalidad == \"Primaria\")$turno)"
   ]
  },
  {
   "cell_type": "markdown",
   "id": "e302c33e",
   "metadata": {},
   "source": [
    "### Primaria"
   ]
  },
  {
   "cell_type": "code",
   "execution_count": null,
   "id": "379a555f",
   "metadata": {
    "scrolled": false
   },
   "outputs": [],
   "source": [
    "#g2 <- ggplot(filter(dataset_mas_limpio,asignatura==\"MATEMÁTICA\" & Modalidad=='Primaria'),aes(factor(turno),Promedio))\n",
    "#g2 + geom_boxplot(aes(fill = factor(turno))\n",
    "para_nombres<- filter(dataset_mas_limpio,asignatura==\"MATEMÁTICA\" & Modalidad=='Primaria')\n",
    "Turnos <- factor(para_nombres$turno)\n",
    "\n",
    "g2 <- ggplot(filter(dataset_mas_limpio,asignatura==\"MATEMÁTICA\" & Modalidad=='Primaria'),aes(Turnos,Promedio))\n",
    "g2 + \n",
    "  geom_boxplot(aes(fill = Turnos)) +\n",
    "  labs(title = \"Distribución de Notas de Matemática por Turnos en Educación Primaria\")\n"
   ]
  },
  {
   "cell_type": "markdown",
   "id": "8da97cb3",
   "metadata": {},
   "source": [
    "### Secundaria"
   ]
  },
  {
   "cell_type": "code",
   "execution_count": null,
   "id": "ed44f02a",
   "metadata": {},
   "outputs": [],
   "source": [
    "ftable(filter(dataset_mas_limpio, asignatura == \"MATEMATICA\" & Modalidad == \"Secundaria\")$turno)"
   ]
  },
  {
   "cell_type": "code",
   "execution_count": null,
   "id": "160bd4a7",
   "metadata": {},
   "outputs": [],
   "source": [
    "ftable(filter(dataset_mas_limpio, asignatura == \"LENGUA Y LITERATURA\" & Modalidad == \"Secundaria\")$turno)"
   ]
  },
  {
   "cell_type": "code",
   "execution_count": null,
   "id": "a3ba0647",
   "metadata": {
    "scrolled": false
   },
   "outputs": [],
   "source": [
    "#g2 <- ggplot(filter(dataset_mas_limpio,asignatura==\"MATEMATICA\" & Modalidad=='Secundaria'),aes(factor(turno),Promedio))\n",
    "#g2 + geom_boxplot(aes(fill = factor(turno)))\n",
    "v<- filter(dataset_mas_limpio,asignatura==\"MATEMATICA\" & Modalidad=='Secundaria')\n",
    "Turnos <- factor(v$turno)\n",
    "\n",
    "g2 <- ggplot(filter(dataset_mas_limpio,asignatura==\"MATEMATICA\" & Modalidad=='Secundaria'),aes(Turnos,Promedio))\n",
    "g2 + \n",
    "  geom_boxplot(aes(fill = Turnos)) +\n",
    "  labs(title = \"Distribución de Notas de Matemática por Turnos en Educación Secundaria\")"
   ]
  },
  {
   "cell_type": "markdown",
   "id": "f4fdab17",
   "metadata": {},
   "source": [
    "### Comparación de los promedios de lengua en distintos turnos"
   ]
  },
  {
   "cell_type": "code",
   "execution_count": null,
   "id": "178088a7",
   "metadata": {},
   "outputs": [],
   "source": [
    "v<- filter(dataset_mas_limpio,asignatura==\"LENGUA\" & Modalidad=='Primaria')\n",
    "Turnos <- factor(v$turno)\n",
    "\n",
    "g2 <- ggplot(filter(dataset_mas_limpio,asignatura==\"LENGUA\" & Modalidad=='Primaria'),aes(Turnos,Promedio))\n",
    "g2 + \n",
    "  geom_boxplot(aes(fill = Turnos)) +\n",
    "  labs(title = \"Distribución de Notas de Lengua por Turnos en Educación Primaria\")"
   ]
  },
  {
   "cell_type": "code",
   "execution_count": null,
   "id": "0c8f77fc",
   "metadata": {},
   "outputs": [],
   "source": [
    "v<- filter(dataset_mas_limpio,asignatura==\"LENGUA Y LITERATURA\" & Modalidad=='Secundaria')\n",
    "Turnos <- factor(v$turno)\n",
    "\n",
    "g2 <- ggplot(filter(dataset_mas_limpio,asignatura==\"LENGUA Y LITERATURA\" & Modalidad=='Secundaria'),aes(Turnos,Promedio))\n",
    "g2 + \n",
    "  geom_boxplot(aes(fill = Turnos)) +\n",
    "  labs(title = \"Distribución de Notas de Lengua y Literatura por Turnos en Secundaria\")"
   ]
  },
  {
   "cell_type": "markdown",
   "id": "fca9d952",
   "metadata": {},
   "source": [
    "## Punto 6"
   ]
  },
  {
   "cell_type": "code",
   "execution_count": null,
   "id": "4d9838da",
   "metadata": {},
   "outputs": [],
   "source": [
    "#diagrama de dispersión\n",
    "#deben tener misma dimension\n",
    "rm(df)\n",
    "dim(dplyr::select(secundaria_Mat_1,\"Documento\",\"Promedio\",\"EsPrivada\"))\n",
    "dim(dplyr::select(filter(dataset_mas_limpio,asignatura==\"BIOLOGIA\" & AñoCursado == 1),\"Documento\",\"Promedio\",\"EsPrivada\"))\n",
    "df<- dplyr::select(secundaria_Mat_1,\"Documento\",\"Promedio\",\"EsPrivada\") %>% inner_join(dplyr::select(filter(dataset_mas_limpio,asignatura==\"BIOLOGIA\" & AñoCursado== 1),\"Documento\",\"Promedio\",\"EsPrivada\"),by=\"Documento\")\n",
    "df<-rename(df,Prom_Mat=Promedio.x, Prom_Bio=Promedio.y,EsPrivada=EsPrivada.x)\n",
    "head(df)\n",
    "plot(df$Prom_Mat, df$Prom_Bio)"
   ]
  },
  {
   "cell_type": "code",
   "execution_count": null,
   "id": "4cb98efd",
   "metadata": {
    "scrolled": false
   },
   "outputs": [],
   "source": [
    "ggplot(data=df, aes(x=Prom_Mat,y=Prom_Bio))+geom_point(aes(colour=EsPrivada)\n",
    ")+xlab(\"Longitud\")+ylab(\"ancho\")"
   ]
  },
  {
   "cell_type": "markdown",
   "id": "cb2316ca",
   "metadata": {},
   "source": [
    "### Diagrama de dispersión para todos los años de secundaria de matematica vs biologia"
   ]
  },
  {
   "cell_type": "code",
   "execution_count": null,
   "id": "1dc1ada4",
   "metadata": {
    "scrolled": false
   },
   "outputs": [],
   "source": [
    "#diagrama de dispersión\n",
    "#deben tener misma dimension\n",
    "rm(df2)\n",
    "\n",
    "secundaria_mat_todos_no_7 <- dplyr::filter(dataset_mas_limpio, asignatura == \"MATEMATICA\" & Modalidad == \"Secundaria\" & AñoCursado %in% c(1, 2, 3, 4, 5, 6))\n",
    "dim(dplyr::select(secundaria_mat_todos_no_7,\"Documento\",\"Promedio\"))\n",
    "dim(dplyr::select(filter(dataset_mas_limpio,asignatura==\"BIOLOGIA\"),\"Documento\",\"Promedio\"))\n",
    "df2<- dplyr::select(secundaria_mat_todos_no_7,\"Documento\",\"Promedio\",\"AñoCursado\") %>% inner_join(dplyr::select(filter(dataset_mas_limpio,asignatura==\"BIOLOGIA\"),\"Documento\",\"Promedio\",\"AñoCursado\"),by=\"Documento\")\n",
    "df2<-rename(df2,Prom_Mat=Promedio.x, Prom_Bio=Promedio.y, AñoCursado=AñoCursado.x)\n",
    "df2$AñoCursado <- as.factor(df2$AñoCursado)\n",
    "head(df2)\n",
    "ggplot(data=df2, aes(x=Prom_Mat,y=Prom_Bio))+ geom_point(aes(colour=AñoCursado)\n",
    ")+xlab(\"Promedio Biología\")+ylab(\"Promedio Matemáticas\")+scale_color_manual(values = c(\"red\", \"blue\", \"green\", \"purple\", \"pink\", \"yellow\"))"
   ]
  },
  {
   "cell_type": "markdown",
   "id": "98eec533",
   "metadata": {},
   "source": [
    "### Como observamos claramente, el año más prometedor para una posible correlación es primero. Por lo que a partir de este momento centraremos el estudio en este año."
   ]
  },
  {
   "cell_type": "code",
   "execution_count": null,
   "id": "3923727b",
   "metadata": {
    "scrolled": true
   },
   "outputs": [],
   "source": [
    "df2_primero <- dplyr::filter(df2, AñoCursado == \"1\")\n",
    "head(df2_primero)"
   ]
  },
  {
   "cell_type": "markdown",
   "id": "85f92678",
   "metadata": {},
   "source": [
    "### Graficamos nuevamamente solamente primer año"
   ]
  },
  {
   "cell_type": "code",
   "execution_count": null,
   "id": "e34c5bd9",
   "metadata": {
    "scrolled": false
   },
   "outputs": [],
   "source": [
    "ggplot(data=df2_primero, aes(x=Prom_Mat,y=Prom_Bio))+geom_point()+ \n",
    "       geom_smooth(method = \"lm\")+xlab(\"Promedio Biología\")+ylab(\"Promedio Matemáticas\")"
   ]
  },
  {
   "cell_type": "markdown",
   "id": "e8324ee1",
   "metadata": {},
   "source": [
    "### Matriz de Varianza"
   ]
  },
  {
   "cell_type": "code",
   "execution_count": null,
   "id": "2b7e6890",
   "metadata": {
    "scrolled": true
   },
   "outputs": [],
   "source": [
    "dataM <- na.omit(data.frame(df2_primero$Prom_Mat, df2_primero$Prom_Bio)) \n",
    "dataM <-rename(dataM,Prom_Mat=df2_primero.Prom_Mat, Prom_Bio=df2_primero.Prom_Bio)\n",
    "var(dataM)"
   ]
  },
  {
   "cell_type": "markdown",
   "id": "244ea13b",
   "metadata": {},
   "source": [
    "### Primero debemos verificar normalidad de las variables a utilizar, Prom_Mat y Prom_Bio\n",
    "### Usamos Lilliefors (Kolmogorov-Smirnov) para realizarlo ya que nuestra muestra es mayor a 50"
   ]
  },
  {
   "cell_type": "code",
   "execution_count": null,
   "id": "27e5a188",
   "metadata": {},
   "outputs": [],
   "source": [
    "#conda install -c conda-forge r-nortest\n",
    "library(nortest)\n",
    "lillie.test(x = dataM$Prom_Mat)\n",
    "lillie.test(x = dataM$Prom_Bio)"
   ]
  },
  {
   "cell_type": "markdown",
   "id": "d0c55489",
   "metadata": {},
   "source": [
    "### El p-value para ambas variables es menor a 0.05, lo que significa que rechazamos H0 y podemos decir que las variables no presentan una distribución normal, por lo que usaremos el método de Spearman para comprobar linealidad entre las mismas"
   ]
  },
  {
   "cell_type": "code",
   "execution_count": null,
   "id": "4a6d753b",
   "metadata": {
    "scrolled": true
   },
   "outputs": [],
   "source": [
    "cor_spearman <- cor(dataM$Prom_Mat, dataM$Prom_Bio, method = \"spearman\")\n",
    "cor_spearman"
   ]
  },
  {
   "cell_type": "markdown",
   "id": "af756b42",
   "metadata": {},
   "source": [
    "### Podemos ver gráficamente el resultado también"
   ]
  },
  {
   "cell_type": "code",
   "execution_count": null,
   "id": "e7b251ea",
   "metadata": {
    "scrolled": false
   },
   "outputs": [],
   "source": [
    "library(\"PerformanceAnalytics\")\n",
    "chart.Correlation(dataM, histogram = TRUE, method = \"spearman\")\n",
    "mtext(\"Gráfico de Relación entre Promedios de Matemáticas y Biología\", side=3, line=3)"
   ]
  },
  {
   "cell_type": "markdown",
   "id": "69c1e638",
   "metadata": {},
   "source": [
    "### Podemos decir que las variables presentan una correlación buena, esto significa que si a un alumno le va bien en matemáticas, le irá bien en biología y lo mismo inversamente."
   ]
  },
  {
   "cell_type": "code",
   "execution_count": null,
   "id": "238a9281",
   "metadata": {},
   "outputs": [],
   "source": [
    "per <- cor(dataM$Prom_Mat, dataM$Prom_Bio, method = \"pearson\")\n",
    "ken <- cor(dataM$Prom_Mat, dataM$Prom_Bio, method = \"kendall\")\n",
    "spe <- cor(dataM$Prom_Mat, dataM$Prom_Bio, method = \"spearman\")\n",
    "\n",
    "data <- data.frame(name=c(\"pearson\",\"kendall\",\"spearman\") , value=c(per,ken,spe))\n",
    "\n",
    "data"
   ]
  },
  {
   "cell_type": "code",
   "execution_count": null,
   "id": "5b6219d4",
   "metadata": {
    "scrolled": false
   },
   "outputs": [],
   "source": [
    "library(corrplot)\n",
    "corrplot.mixed(cor(dataM, method = \"spearman\"),addshade=\"all\")"
   ]
  },
  {
   "cell_type": "markdown",
   "id": "8e7aab24",
   "metadata": {},
   "source": [
    "### Añadimos lengua como tercera variable de estudio"
   ]
  },
  {
   "cell_type": "code",
   "execution_count": null,
   "id": "78d6e80a",
   "metadata": {},
   "outputs": [],
   "source": [
    "rm(df3)\n",
    "df3 <- dplyr::select(secundaria_len_1,\"Documento\",\"Promedio\", \"AñoCursado\")\n",
    "\n",
    "df2<- df2 %>% inner_join(df3,by=\"Documento\")"
   ]
  },
  {
   "cell_type": "code",
   "execution_count": null,
   "id": "f334566e",
   "metadata": {
    "scrolled": true
   },
   "outputs": [],
   "source": [
    "head(df2)"
   ]
  },
  {
   "cell_type": "code",
   "execution_count": null,
   "id": "ad0e1087",
   "metadata": {
    "scrolled": true
   },
   "outputs": [],
   "source": [
    "\n",
    "dataN <-rename(df2,Prom_Len=Promedio)\n",
    "dataN <- na.omit(dataN) \n",
    "dataN <-dplyr::select(dataN,Prom_Mat,Prom_Bio,Prom_Len)\n",
    "dim(dataN)\n",
    "head(dataN)"
   ]
  },
  {
   "cell_type": "code",
   "execution_count": null,
   "id": "4de7433d",
   "metadata": {
    "scrolled": false
   },
   "outputs": [],
   "source": [
    "library(ppcor)\n",
    "pcor(dataM, method = c(\"spearman\"))"
   ]
  },
  {
   "cell_type": "code",
   "execution_count": null,
   "id": "803e5c83",
   "metadata": {},
   "outputs": [],
   "source": [
    "pcor(dataN, method = c(\"spearman\"))"
   ]
  },
  {
   "cell_type": "code",
   "execution_count": null,
   "id": "81fe87b0",
   "metadata": {},
   "outputs": [],
   "source": [
    "ggm::pcor(c(\"Prom_Mat\",\"Prom_Bio\",\"Prom_Len\"), cov(dataN))\n",
    "pcor1<-ggm::pcor(c(\"Prom_Mat\",\"Prom_Bio\",\"Prom_Len\"), cov(dataN))"
   ]
  },
  {
   "cell_type": "code",
   "execution_count": null,
   "id": "459926a4",
   "metadata": {},
   "outputs": [],
   "source": [
    "library(\"pwr\")\n",
    "pwr.r.test(n = length(row.names(dataN)), r = pcor1, sig.level = .05, power = NULL)\n"
   ]
  }
 ],
 "metadata": {
  "kernelspec": {
   "display_name": "R",
   "language": "R",
   "name": "ir"
  },
  "language_info": {
   "codemirror_mode": "r",
   "file_extension": ".r",
   "mimetype": "text/x-r-source",
   "name": "R",
   "pygments_lexer": "r",
   "version": "3.6.1"
  }
 },
 "nbformat": 4,
 "nbformat_minor": 5
}
