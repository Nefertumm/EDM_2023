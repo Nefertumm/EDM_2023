{
 "cells": [
  {
   "cell_type": "code",
   "execution_count": 4,
   "id": "91e54e01",
   "metadata": {},
   "outputs": [
    {
     "name": "stderr",
     "output_type": "stream",
     "text": [
      "Warning message:\n",
      "\"package 'sjmisc' was built under R version 3.6.3\"Learn more about sjmisc with 'browseVignettes(\"sjmisc\")'.\n",
      "\n",
      "Attaching package: 'fdth'\n",
      "\n",
      "The following objects are masked from 'package:stats':\n",
      "\n",
      "    sd, var\n",
      "\n",
      "\n",
      "Attaching package: 'dplyr'\n",
      "\n",
      "The following objects are masked from 'package:stats':\n",
      "\n",
      "    filter, lag\n",
      "\n",
      "The following objects are masked from 'package:base':\n",
      "\n",
      "    intersect, setdiff, setequal, union\n",
      "\n"
     ]
    }
   ],
   "source": [
    "#install.packages(\"sjmisc\")\n",
    "#install.packages(\"fdth\", quiet=TRUE)\n",
    "\n",
    "library(readxl)\n",
    "library(sjmisc)\n",
    "library(fdth)\n",
    "library(dplyr)"
   ]
  },
  {
   "cell_type": "code",
   "execution_count": 5,
   "id": "0c43ecb8",
   "metadata": {},
   "outputs": [],
   "source": [
    "options(warn=-1)"
   ]
  },
  {
   "cell_type": "code",
   "execution_count": 6,
   "id": "e0a4f39c",
   "metadata": {},
   "outputs": [
    {
     "data": {
      "text/html": [
       "<ol class=list-inline>\n",
       "\t<li>70641</li>\n",
       "\t<li>17</li>\n",
       "</ol>\n"
      ],
      "text/latex": [
       "\\begin{enumerate*}\n",
       "\\item 70641\n",
       "\\item 17\n",
       "\\end{enumerate*}\n"
      ],
      "text/markdown": [
       "1. 70641\n",
       "2. 17\n",
       "\n",
       "\n"
      ],
      "text/plain": [
       "[1] 70641    17"
      ]
     },
     "metadata": {},
     "output_type": "display_data"
    }
   ],
   "source": [
    "dataset <- read_excel(\"./lapaz_troncales_limpio.xlsx\")\n",
    "dim(dataset)"
   ]
  },
  {
   "cell_type": "code",
   "execution_count": 7,
   "id": "36bd18ce",
   "metadata": {
    "scrolled": true
   },
   "outputs": [
    {
     "name": "stdout",
     "output_type": "stream",
     "text": [
      "Classes 'tbl_df', 'tbl' and 'data.frame':\t70641 obs. of  17 variables:\n",
      " $ CUE               : num  6e+06 6e+06 6e+06 6e+06 6e+06 ...\n",
      " $ EsPrivada         : logi  FALSE FALSE FALSE FALSE FALSE FALSE ...\n",
      " $ turno             : chr  \"MAÑANA\" \"MAÑANA\" \"MAÑANA\" \"MAÑANA\" ...\n",
      " $ periodoEvaluatorio: chr  \"Tercer Trimestre\" \"Tercer Trimestre\" \"Tercer Trimestre\" \"Tercer Trimestre\" ...\n",
      " $ Documento         : num  1.14e+08 1.14e+08 1.14e+08 1.14e+08 1.14e+08 ...\n",
      " $ año               : num  2022 2022 2022 2022 2022 ...\n",
      " $ asignatura        : chr  \"CIENCIAS NATURALES\" \"CIENCIAS SOCIALES\" \"EDUCACIÓN FÍSICA\" \"LENGUA\" ...\n",
      " $ NivelEnseñanza    : chr  \"PRIMARIO\" \"PRIMARIO\" \"PRIMARIO\" \"PRIMARIO\" ...\n",
      " $ Nivel             : num  2 2 2 2 2 2 2 2 2 2 ...\n",
      " $ Modalidad         : chr  \"Primaria\" \"Primaria\" \"Primaria\" \"Primaria\" ...\n",
      " $ ModEnseñanza      : chr  \"Comun\" \"Comun\" \"Comun\" \"Comun\" ...\n",
      " $ AñoCursado        : num  3 3 3 3 3 5 5 5 5 5 ...\n",
      " $ NotasPrimerT      : num  8 8 9 9 10 8 8 7 8 8 ...\n",
      " $ NotasSegundoT     : num  10 10 9 8 9 8 8 6 9 9 ...\n",
      " $ NotasTercerT      : num  10 10 9 10 9 8 9 6 9 9 ...\n",
      " $ Promedio          : num  9.33 9.33 9 9 9.33 ...\n",
      " $ CondicionFinal    : chr  \"APROBADO\" \"APROBADO\" \"APROBADO\" \"APROBADO\" ...\n"
     ]
    }
   ],
   "source": [
    "str(dataset)"
   ]
  },
  {
   "cell_type": "code",
   "execution_count": 73,
   "id": "d3a7eee5",
   "metadata": {},
   "outputs": [
    {
     "ename": "ERROR",
     "evalue": "Error in ftable(dataset$turno & Modalidad == \"Primaria\"): objeto 'Modalidad' no encontrado\n",
     "output_type": "error",
     "traceback": [
      "Error in ftable(dataset$turno & Modalidad == \"Primaria\"): objeto 'Modalidad' no encontrado\nTraceback:\n",
      "1. ftable(dataset$turno & Modalidad == \"Primaria\")"
     ]
    }
   ],
   "source": [
    "ftable(dataset$turno "
   ]
  },
  {
   "cell_type": "code",
   "execution_count": 8,
   "id": "e03791a1",
   "metadata": {},
   "outputs": [
    {
     "data": {
      "text/plain": [
       "     1     2     3     4     5     6     7\n",
       "                                          \n",
       " 11254 10189 10940 14132 12882 11035   131"
      ]
     },
     "metadata": {},
     "output_type": "display_data"
    }
   ],
   "source": [
    "ftable(dataset$AñoCursado)"
   ]
  },
  {
   "cell_type": "code",
   "execution_count": 9,
   "id": "d79a4389",
   "metadata": {},
   "outputs": [
    {
     "data": {
      "text/plain": [
       " EGB 3 PRIMARIO SECUNDARIO\n",
       "                          \n",
       "  2653    26792      41196"
      ]
     },
     "metadata": {},
     "output_type": "display_data"
    }
   ],
   "source": [
    "ftable(dataset$NivelEnseñanza)"
   ]
  },
  {
   "cell_type": "markdown",
   "id": "28e1a795",
   "metadata": {},
   "source": [
    "## Eliminamos la columna de Nivel, ya que NivelEnseñanza nos brinda más información que la anterior y están relacionadas.\n",
    "## También eliminamos la columna de año ya que todos nuestros datos son del 2022, sería redundante dejarla."
   ]
  },
  {
   "cell_type": "code",
   "execution_count": 10,
   "id": "e770a0ae",
   "metadata": {},
   "outputs": [],
   "source": [
    "dataset_mas_limpio <- dplyr::select(dataset, -c(año, Nivel))"
   ]
  },
  {
   "cell_type": "code",
   "execution_count": 11,
   "id": "2632325f",
   "metadata": {
    "scrolled": true
   },
   "outputs": [
    {
     "data": {
      "text/html": [
       "<table>\n",
       "<thead><tr><th scope=col>CUE</th><th scope=col>EsPrivada</th><th scope=col>turno</th><th scope=col>periodoEvaluatorio</th><th scope=col>Documento</th><th scope=col>asignatura</th><th scope=col>NivelEnseñanza</th><th scope=col>Modalidad</th><th scope=col>ModEnseñanza</th><th scope=col>AñoCursado</th><th scope=col>NotasPrimerT</th><th scope=col>NotasSegundoT</th><th scope=col>NotasTercerT</th><th scope=col>Promedio</th><th scope=col>CondicionFinal</th></tr></thead>\n",
       "<tbody>\n",
       "\t<tr><td>6003786           </td><td>FALSE             </td><td>MAÑANA            </td><td>Tercer Trimestre  </td><td>113509691         </td><td>CIENCIAS NATURALES</td><td>PRIMARIO          </td><td>Primaria          </td><td>Comun             </td><td>3                 </td><td> 8                </td><td>10                </td><td>10                </td><td>9.333333          </td><td>APROBADO          </td></tr>\n",
       "\t<tr><td>6003786           </td><td>FALSE             </td><td>MAÑANA            </td><td>Tercer Trimestre  </td><td>113509691         </td><td>CIENCIAS SOCIALES </td><td>PRIMARIO          </td><td>Primaria          </td><td>Comun             </td><td>3                 </td><td> 8                </td><td>10                </td><td>10                </td><td>9.333333          </td><td>APROBADO          </td></tr>\n",
       "\t<tr><td>6003786           </td><td>FALSE             </td><td>MAÑANA            </td><td>Tercer Trimestre  </td><td>113509691         </td><td>EDUCACIÓN FÍSICA  </td><td>PRIMARIO          </td><td>Primaria          </td><td>Comun             </td><td>3                 </td><td> 9                </td><td> 9                </td><td> 9                </td><td>9.000000          </td><td>APROBADO          </td></tr>\n",
       "\t<tr><td>6003786           </td><td>FALSE             </td><td>MAÑANA            </td><td>Tercer Trimestre  </td><td>113509691         </td><td>LENGUA            </td><td>PRIMARIO          </td><td>Primaria          </td><td>Comun             </td><td>3                 </td><td> 9                </td><td> 8                </td><td>10                </td><td>9.000000          </td><td>APROBADO          </td></tr>\n",
       "\t<tr><td>6003786           </td><td>FALSE             </td><td>MAÑANA            </td><td>Tercer Trimestre  </td><td>113509691         </td><td>MATEMÁTICA        </td><td>PRIMARIO          </td><td>Primaria          </td><td>Comun             </td><td>3                 </td><td>10                </td><td> 9                </td><td> 9                </td><td>9.333333          </td><td>APROBADO          </td></tr>\n",
       "\t<tr><td>6003786           </td><td>FALSE             </td><td>MAÑANA            </td><td>Tercer Trimestre  </td><td> 14082908         </td><td>CIENCIAS NATURALES</td><td>PRIMARIO          </td><td>Primaria          </td><td>Comun             </td><td>5                 </td><td> 8                </td><td> 8                </td><td> 8                </td><td>8.000000          </td><td>APROBADO          </td></tr>\n",
       "</tbody>\n",
       "</table>\n"
      ],
      "text/latex": [
       "\\begin{tabular}{r|lllllllllllllll}\n",
       " CUE & EsPrivada & turno & periodoEvaluatorio & Documento & asignatura & NivelEnseñanza & Modalidad & ModEnseñanza & AñoCursado & NotasPrimerT & NotasSegundoT & NotasTercerT & Promedio & CondicionFinal\\\\\n",
       "\\hline\n",
       "\t 6003786            & FALSE              & MAÑANA             & Tercer Trimestre   & 113509691          & CIENCIAS NATURALES & PRIMARIO           & Primaria           & Comun              & 3                  &  8                 & 10                 & 10                 & 9.333333           & APROBADO          \\\\\n",
       "\t 6003786            & FALSE              & MAÑANA             & Tercer Trimestre   & 113509691          & CIENCIAS SOCIALES  & PRIMARIO           & Primaria           & Comun              & 3                  &  8                 & 10                 & 10                 & 9.333333           & APROBADO          \\\\\n",
       "\t 6003786            & FALSE              & MAÑANA             & Tercer Trimestre   & 113509691          & EDUCACIÓN FÍSICA   & PRIMARIO           & Primaria           & Comun              & 3                  &  9                 &  9                 &  9                 & 9.000000           & APROBADO          \\\\\n",
       "\t 6003786            & FALSE              & MAÑANA             & Tercer Trimestre   & 113509691          & LENGUA             & PRIMARIO           & Primaria           & Comun              & 3                  &  9                 &  8                 & 10                 & 9.000000           & APROBADO          \\\\\n",
       "\t 6003786            & FALSE              & MAÑANA             & Tercer Trimestre   & 113509691          & MATEMÁTICA         & PRIMARIO           & Primaria           & Comun              & 3                  & 10                 &  9                 &  9                 & 9.333333           & APROBADO          \\\\\n",
       "\t 6003786            & FALSE              & MAÑANA             & Tercer Trimestre   &  14082908          & CIENCIAS NATURALES & PRIMARIO           & Primaria           & Comun              & 5                  &  8                 &  8                 &  8                 & 8.000000           & APROBADO          \\\\\n",
       "\\end{tabular}\n"
      ],
      "text/markdown": [
       "\n",
       "| CUE | EsPrivada | turno | periodoEvaluatorio | Documento | asignatura | NivelEnseñanza | Modalidad | ModEnseñanza | AñoCursado | NotasPrimerT | NotasSegundoT | NotasTercerT | Promedio | CondicionFinal |\n",
       "|---|---|---|---|---|---|---|---|---|---|---|---|---|---|---|\n",
       "| 6003786            | FALSE              | MAÑANA             | Tercer Trimestre   | 113509691          | CIENCIAS NATURALES | PRIMARIO           | Primaria           | Comun              | 3                  |  8                 | 10                 | 10                 | 9.333333           | APROBADO           |\n",
       "| 6003786            | FALSE              | MAÑANA             | Tercer Trimestre   | 113509691          | CIENCIAS SOCIALES  | PRIMARIO           | Primaria           | Comun              | 3                  |  8                 | 10                 | 10                 | 9.333333           | APROBADO           |\n",
       "| 6003786            | FALSE              | MAÑANA             | Tercer Trimestre   | 113509691          | EDUCACIÓN FÍSICA   | PRIMARIO           | Primaria           | Comun              | 3                  |  9                 |  9                 |  9                 | 9.000000           | APROBADO           |\n",
       "| 6003786            | FALSE              | MAÑANA             | Tercer Trimestre   | 113509691          | LENGUA             | PRIMARIO           | Primaria           | Comun              | 3                  |  9                 |  8                 | 10                 | 9.000000           | APROBADO           |\n",
       "| 6003786            | FALSE              | MAÑANA             | Tercer Trimestre   | 113509691          | MATEMÁTICA         | PRIMARIO           | Primaria           | Comun              | 3                  | 10                 |  9                 |  9                 | 9.333333           | APROBADO           |\n",
       "| 6003786            | FALSE              | MAÑANA             | Tercer Trimestre   |  14082908          | CIENCIAS NATURALES | PRIMARIO           | Primaria           | Comun              | 5                  |  8                 |  8                 |  8                 | 8.000000           | APROBADO           |\n",
       "\n"
      ],
      "text/plain": [
       "  CUE     EsPrivada turno  periodoEvaluatorio Documento asignatura        \n",
       "1 6003786 FALSE     MAÑANA Tercer Trimestre   113509691 CIENCIAS NATURALES\n",
       "2 6003786 FALSE     MAÑANA Tercer Trimestre   113509691 CIENCIAS SOCIALES \n",
       "3 6003786 FALSE     MAÑANA Tercer Trimestre   113509691 EDUCACIÓN FÍSICA  \n",
       "4 6003786 FALSE     MAÑANA Tercer Trimestre   113509691 LENGUA            \n",
       "5 6003786 FALSE     MAÑANA Tercer Trimestre   113509691 MATEMÁTICA        \n",
       "6 6003786 FALSE     MAÑANA Tercer Trimestre    14082908 CIENCIAS NATURALES\n",
       "  NivelEnseñanza Modalidad ModEnseñanza AñoCursado NotasPrimerT NotasSegundoT\n",
       "1 PRIMARIO       Primaria  Comun        3           8           10           \n",
       "2 PRIMARIO       Primaria  Comun        3           8           10           \n",
       "3 PRIMARIO       Primaria  Comun        3           9            9           \n",
       "4 PRIMARIO       Primaria  Comun        3           9            8           \n",
       "5 PRIMARIO       Primaria  Comun        3          10            9           \n",
       "6 PRIMARIO       Primaria  Comun        5           8            8           \n",
       "  NotasTercerT Promedio CondicionFinal\n",
       "1 10           9.333333 APROBADO      \n",
       "2 10           9.333333 APROBADO      \n",
       "3  9           9.000000 APROBADO      \n",
       "4 10           9.000000 APROBADO      \n",
       "5  9           9.333333 APROBADO      \n",
       "6  8           8.000000 APROBADO      "
      ]
     },
     "metadata": {},
     "output_type": "display_data"
    }
   ],
   "source": [
    "head(dataset_mas_limpio)"
   ]
  },
  {
   "cell_type": "code",
   "execution_count": 12,
   "id": "7fd6e4f4",
   "metadata": {},
   "outputs": [
    {
     "data": {
      "text/html": [
       "<ol class=list-inline>\n",
       "\t<li>'CUE'</li>\n",
       "\t<li>'EsPrivada'</li>\n",
       "\t<li>'turno'</li>\n",
       "\t<li>'periodoEvaluatorio'</li>\n",
       "\t<li>'Documento'</li>\n",
       "\t<li>'asignatura'</li>\n",
       "\t<li>'NivelEnseñanza'</li>\n",
       "\t<li>'Modalidad'</li>\n",
       "\t<li>'ModEnseñanza'</li>\n",
       "\t<li>'AñoCursado'</li>\n",
       "\t<li>'NotasPrimerT'</li>\n",
       "\t<li>'NotasSegundoT'</li>\n",
       "\t<li>'NotasTercerT'</li>\n",
       "\t<li>'Promedio'</li>\n",
       "\t<li>'CondicionFinal'</li>\n",
       "</ol>\n"
      ],
      "text/latex": [
       "\\begin{enumerate*}\n",
       "\\item 'CUE'\n",
       "\\item 'EsPrivada'\n",
       "\\item 'turno'\n",
       "\\item 'periodoEvaluatorio'\n",
       "\\item 'Documento'\n",
       "\\item 'asignatura'\n",
       "\\item 'NivelEnseñanza'\n",
       "\\item 'Modalidad'\n",
       "\\item 'ModEnseñanza'\n",
       "\\item 'AñoCursado'\n",
       "\\item 'NotasPrimerT'\n",
       "\\item 'NotasSegundoT'\n",
       "\\item 'NotasTercerT'\n",
       "\\item 'Promedio'\n",
       "\\item 'CondicionFinal'\n",
       "\\end{enumerate*}\n"
      ],
      "text/markdown": [
       "1. 'CUE'\n",
       "2. 'EsPrivada'\n",
       "3. 'turno'\n",
       "4. 'periodoEvaluatorio'\n",
       "5. 'Documento'\n",
       "6. 'asignatura'\n",
       "7. 'NivelEnseñanza'\n",
       "8. 'Modalidad'\n",
       "9. 'ModEnseñanza'\n",
       "10. 'AñoCursado'\n",
       "11. 'NotasPrimerT'\n",
       "12. 'NotasSegundoT'\n",
       "13. 'NotasTercerT'\n",
       "14. 'Promedio'\n",
       "15. 'CondicionFinal'\n",
       "\n",
       "\n"
      ],
      "text/plain": [
       " [1] \"CUE\"                \"EsPrivada\"          \"turno\"             \n",
       " [4] \"periodoEvaluatorio\" \"Documento\"          \"asignatura\"        \n",
       " [7] \"NivelEnseñanza\"     \"Modalidad\"          \"ModEnseñanza\"      \n",
       "[10] \"AñoCursado\"         \"NotasPrimerT\"       \"NotasSegundoT\"     \n",
       "[13] \"NotasTercerT\"       \"Promedio\"           \"CondicionFinal\"    "
      ]
     },
     "metadata": {},
     "output_type": "display_data"
    }
   ],
   "source": [
    "names(dataset_mas_limpio)"
   ]
  },
  {
   "cell_type": "code",
   "execution_count": 13,
   "id": "cf9064c2",
   "metadata": {
    "scrolled": false
   },
   "outputs": [
    {
     "data": {
      "text/html": [
       "<ol class=list-inline>\n",
       "\t<li>70641</li>\n",
       "\t<li>15</li>\n",
       "</ol>\n"
      ],
      "text/latex": [
       "\\begin{enumerate*}\n",
       "\\item 70641\n",
       "\\item 15\n",
       "\\end{enumerate*}\n"
      ],
      "text/markdown": [
       "1. 70641\n",
       "2. 15\n",
       "\n",
       "\n"
      ],
      "text/plain": [
       "[1] 70641    15"
      ]
     },
     "metadata": {},
     "output_type": "display_data"
    }
   ],
   "source": [
    "dim(dataset_mas_limpio)"
   ]
  },
  {
   "cell_type": "markdown",
   "id": "99816d44",
   "metadata": {},
   "source": [
    "# Gráficos"
   ]
  },
  {
   "cell_type": "markdown",
   "id": "9a0eac68",
   "metadata": {},
   "source": [
    "### Variables cualitativas"
   ]
  },
  {
   "cell_type": "code",
   "execution_count": null,
   "id": "1181901e",
   "metadata": {},
   "outputs": [],
   "source": []
  },
  {
   "cell_type": "code",
   "execution_count": 14,
   "id": "c48be0af",
   "metadata": {
    "scrolled": true
   },
   "outputs": [],
   "source": [
    "dataset_mate_1 <-  filter(dataset_mas_limpio, AñoCursado == \"1\" & asignatura == \"MATEMÁTICA\" & Modalidad == 'Primaria')"
   ]
  },
  {
   "cell_type": "code",
   "execution_count": 15,
   "id": "2b4b0ae7",
   "metadata": {},
   "outputs": [
    {
     "data": {
      "image/png": "[encoded data removed]",
      "text/plain": [
       "plot without title"
      ]
     },
     "metadata": {},
     "output_type": "display_data"
    }
   ],
   "source": []
  },
  {
   "cell_type": "code",
   "execution_count": 16,
   "id": "c1ad5670",
   "metadata": {
    "scrolled": true
   },
   "outputs": [
    {
     "data": {
      "text/plain": [
       " Primaria Secundaria\n",
       "                    \n",
       "    26704      43937"
      ]
     },
     "metadata": {},
     "output_type": "display_data"
    }
   ],
   "source": [
    "ftable(dataset_mas_limpio$Modalidad)"
   ]
  },
  {
   "cell_type": "markdown",
   "id": "75517d95",
   "metadata": {},
   "source": [
    "### Graficos de sectores, primaria y secundaria, para analizar la distribución de estudiantes"
   ]
  },
  {
   "cell_type": "markdown",
   "id": "5350d152",
   "metadata": {},
   "source": [
    "### Primaria"
   ]
  },
  {
   "cell_type": "code",
   "execution_count": 55,
   "id": "4ff38247",
   "metadata": {},
   "outputs": [],
   "source": [
    "sectores<-filter(dataset_mas_limpio, (AñoCursado == \"1\" |  AñoCursado == \"2\" |  AñoCursado == \"3\" |\n",
    "                     AñoCursado == \"4\" |  AñoCursado == \"5\" |  AñoCursado == \"6\") & Modalidad == \"Primaria\")"
   ]
  },
  {
   "cell_type": "code",
   "execution_count": 60,
   "id": "bdb04264",
   "metadata": {},
   "outputs": [
    {
     "data": {
      "text/plain": [
       "\n",
       " 1  2  3  4  5  6 \n",
       "19 16 16 16 16 17 "
      ]
     },
     "metadata": {},
     "output_type": "display_data"
    },
    {
     "data": {
      "text/html": [
       "<table>\n",
       "<thead><tr><th scope=col>frec</th><th scope=col>porc</th></tr></thead>\n",
       "<tbody>\n",
       "\t<tr><td>5027</td><td>19  </td></tr>\n",
       "\t<tr><td>4225</td><td>16  </td></tr>\n",
       "\t<tr><td>4326</td><td>16  </td></tr>\n",
       "\t<tr><td>4338</td><td>16  </td></tr>\n",
       "\t<tr><td>4169</td><td>16  </td></tr>\n",
       "\t<tr><td>4619</td><td>17  </td></tr>\n",
       "</tbody>\n",
       "</table>\n"
      ],
      "text/latex": [
       "\\begin{tabular}{r|ll}\n",
       " frec & porc\\\\\n",
       "\\hline\n",
       "\t 5027 & 19  \\\\\n",
       "\t 4225 & 16  \\\\\n",
       "\t 4326 & 16  \\\\\n",
       "\t 4338 & 16  \\\\\n",
       "\t 4169 & 16  \\\\\n",
       "\t 4619 & 17  \\\\\n",
       "\\end{tabular}\n"
      ],
      "text/markdown": [
       "\n",
       "| frec | porc |\n",
       "|---|---|\n",
       "| 5027 | 19   |\n",
       "| 4225 | 16   |\n",
       "| 4326 | 16   |\n",
       "| 4338 | 16   |\n",
       "| 4169 | 16   |\n",
       "| 4619 | 17   |\n",
       "\n"
      ],
      "text/plain": [
       "  frec porc\n",
       "1 5027 19  \n",
       "2 4225 16  \n",
       "3 4326 16  \n",
       "4 4338 16  \n",
       "5 4169 16  \n",
       "6 4619 17  "
      ]
     },
     "metadata": {},
     "output_type": "display_data"
    }
   ],
   "source": [
    "library(ggplot2)\n",
    "pie_commute <- round(100 * table(sectores$AñoCursado) / length(sectores$AñoCursado))\n",
    "pie_commute\n",
    "porc <- c(pie_commute)\n",
    "frec<- c(table(sectores$AñoCursado))\n",
    "D1<-data.frame(frec,porc)\n",
    "D1\n",
    "Años<-rownames(D1)"
   ]
  },
  {
   "cell_type": "code",
   "execution_count": 61,
   "id": "a96b6102",
   "metadata": {
    "scrolled": true
   },
   "outputs": [
    {
     "data": {
      "image/png": "[encoded data removed]",
      "text/plain": [
       "plot without title"
      ]
     },
     "metadata": {},
     "output_type": "display_data"
    }
   ],
   "source": [
    "ggplot(D1, aes(x=\"\", y=frec, fill=Años)) +\n",
    "  geom_bar(stat=\"identity\", width=1,color=\"white\") +\n",
    "  coord_polar(\"y\", start=0)+\n",
    "  theme_void()+\n",
    "  geom_text(aes(label = paste0(frec,'\\n', porc, ' %'),x = 1), color = \"white\", size=4,\n",
    "            position = position_stack(vjust = 0.5))+\n",
    "  scale_fill_brewer(palette=\"Set2\")+\n",
    "  labs(title=\"Distribucion Porcentual de la Matricula de primaria de 2022 en\n",
    "            departamento La Paz por Año de Cursado\")"
   ]
  },
  {
   "cell_type": "markdown",
   "id": "6d7cf4f1",
   "metadata": {},
   "source": [
    "### Secundaria"
   ]
  },
  {
   "cell_type": "code",
   "execution_count": 62,
   "id": "ff54517d",
   "metadata": {},
   "outputs": [],
   "source": [
    "sectores_secu<-filter(dataset_mas_limpio, (AñoCursado == \"1\" |  AñoCursado == \"2\" |  AñoCursado == \"3\" |\n",
    "                     AñoCursado == \"4\" |  AñoCursado == \"5\" |  AñoCursado == \"6\" | AñoCursado == \"7\") & Modalidad == \"Secundaria\")"
   ]
  },
  {
   "cell_type": "code",
   "execution_count": 63,
   "id": "11b0cfe8",
   "metadata": {
    "scrolled": true
   },
   "outputs": [
    {
     "data": {
      "text/plain": [
       "\n",
       " 1  2  3  4  5  6  7 \n",
       "14 14 15 22 20 15  0 "
      ]
     },
     "metadata": {},
     "output_type": "display_data"
    },
    {
     "data": {
      "text/html": [
       "<table>\n",
       "<thead><tr><th scope=col>frec</th><th scope=col>porc</th></tr></thead>\n",
       "<tbody>\n",
       "\t<tr><td>6227</td><td>14  </td></tr>\n",
       "\t<tr><td>5964</td><td>14  </td></tr>\n",
       "\t<tr><td>6614</td><td>15  </td></tr>\n",
       "\t<tr><td>9794</td><td>22  </td></tr>\n",
       "\t<tr><td>8713</td><td>20  </td></tr>\n",
       "\t<tr><td>6416</td><td>15  </td></tr>\n",
       "\t<tr><td> 131</td><td> 0  </td></tr>\n",
       "</tbody>\n",
       "</table>\n"
      ],
      "text/latex": [
       "\\begin{tabular}{r|ll}\n",
       " frec & porc\\\\\n",
       "\\hline\n",
       "\t 6227 & 14  \\\\\n",
       "\t 5964 & 14  \\\\\n",
       "\t 6614 & 15  \\\\\n",
       "\t 9794 & 22  \\\\\n",
       "\t 8713 & 20  \\\\\n",
       "\t 6416 & 15  \\\\\n",
       "\t  131 &  0  \\\\\n",
       "\\end{tabular}\n"
      ],
      "text/markdown": [
       "\n",
       "| frec | porc |\n",
       "|---|---|\n",
       "| 6227 | 14   |\n",
       "| 5964 | 14   |\n",
       "| 6614 | 15   |\n",
       "| 9794 | 22   |\n",
       "| 8713 | 20   |\n",
       "| 6416 | 15   |\n",
       "|  131 |  0   |\n",
       "\n"
      ],
      "text/plain": [
       "  frec porc\n",
       "1 6227 14  \n",
       "2 5964 14  \n",
       "3 6614 15  \n",
       "4 9794 22  \n",
       "5 8713 20  \n",
       "6 6416 15  \n",
       "7  131  0  "
      ]
     },
     "metadata": {},
     "output_type": "display_data"
    }
   ],
   "source": [
    "\n",
    "pie <- round(100 * table(sectores_secu$AñoCursado) / length(sectores_secu$AñoCursado))\n",
    "pie\n",
    "porc <- c(pie)\n",
    "frec<- c(table(sectores_secu$AñoCursado))\n",
    "D1<-data.frame(frec,porc)\n",
    "D1\n",
    "Años<-rownames(D1)"
   ]
  },
  {
   "cell_type": "code",
   "execution_count": 64,
   "id": "0f749075",
   "metadata": {
    "scrolled": true
   },
   "outputs": [
    {
     "data": {
      "image/png": "[encoded data removed]",
      "text/plain": [
       "plot without title"
      ]
     },
     "metadata": {},
     "output_type": "display_data"
    }
   ],
   "source": [
    "ggplot(D1, aes(x=\"\", y=frec, fill=Años)) +\n",
    "  geom_bar(stat=\"identity\", width=1,color=\"white\") +\n",
    "  coord_polar(\"y\", start=0)+\n",
    "  theme_void()+\n",
    "  geom_text(aes(label = paste0(frec,'\\n', porc, ' %'),x = 1), color = \"white\", size=4,\n",
    "            position = position_stack(vjust = 0.5))+\n",
    "  scale_fill_brewer(palette=\"Set2\")+\n",
    "  labs(title=\"Distribucion Porcentual de la Matricula de secundaria de 2022 en\n",
    "            departamento La Paz por Año de Cursado\")"
   ]
  },
  {
   "cell_type": "markdown",
   "id": "eaa187a9",
   "metadata": {},
   "source": [
    "### Distribución por turno "
   ]
  },
  {
   "cell_type": "markdown",
   "id": "805ad03f",
   "metadata": {},
   "source": [
    "### Primaria"
   ]
  },
  {
   "cell_type": "code",
   "execution_count": 74,
   "id": "7edbf1d3",
   "metadata": {},
   "outputs": [],
   "source": [
    "sector_por_turno_p <- filter(dataset_mas_limpio, Modalidad == 'Primaria')"
   ]
  },
  {
   "cell_type": "code",
   "execution_count": 83,
   "id": "006f9231",
   "metadata": {},
   "outputs": [
    {
     "data": {
      "text/plain": [
       "\n",
       "  COMPLETO INTERMEDIO     MAÑANA   ROTATIVO      TARDE \n",
       "         2          0         38          3         57 "
      ]
     },
     "metadata": {},
     "output_type": "display_data"
    },
    {
     "data": {
      "text/html": [
       "<table>\n",
       "<thead><tr><th></th><th scope=col>frec</th><th scope=col>porc</th></tr></thead>\n",
       "<tbody>\n",
       "\t<tr><th scope=row>COMPLETO</th><td>  631</td><td> 2   </td></tr>\n",
       "\t<tr><th scope=row>INTERMEDIO</th><td>   10</td><td> 0   </td></tr>\n",
       "\t<tr><th scope=row>MAÑANA</th><td>10016</td><td>38   </td></tr>\n",
       "\t<tr><th scope=row>ROTATIVO</th><td>  785</td><td> 3   </td></tr>\n",
       "\t<tr><th scope=row>TARDE</th><td>15262</td><td>57   </td></tr>\n",
       "</tbody>\n",
       "</table>\n"
      ],
      "text/latex": [
       "\\begin{tabular}{r|ll}\n",
       "  & frec & porc\\\\\n",
       "\\hline\n",
       "\tCOMPLETO &   631 &  2   \\\\\n",
       "\tINTERMEDIO &    10 &  0   \\\\\n",
       "\tMAÑANA & 10016 & 38   \\\\\n",
       "\tROTATIVO &   785 &  3   \\\\\n",
       "\tTARDE & 15262 & 57   \\\\\n",
       "\\end{tabular}\n"
      ],
      "text/markdown": [
       "\n",
       "| <!--/--> | frec | porc |\n",
       "|---|---|---|\n",
       "| COMPLETO |   631 |  2    |\n",
       "| INTERMEDIO |    10 |  0    |\n",
       "| MAÑANA | 10016 | 38    |\n",
       "| ROTATIVO |   785 |  3    |\n",
       "| TARDE | 15262 | 57    |\n",
       "\n"
      ],
      "text/plain": [
       "           frec  porc\n",
       "COMPLETO     631  2  \n",
       "INTERMEDIO    10  0  \n",
       "MAÑANA     10016 38  \n",
       "ROTATIVO     785  3  \n",
       "TARDE      15262 57  "
      ]
     },
     "metadata": {},
     "output_type": "display_data"
    }
   ],
   "source": [
    "pie <- round(100 * table(sector_por_turno_p$turno) / length(sector_por_turno_p$turno))\n",
    "pie\n",
    "porc <- c(pie)\n",
    "frec<- c(table(sector_por_turno_p$turno))\n",
    "D1<-data.frame(frec,porc)\n",
    "D1\n",
    "turnos<-rownames(D1)"
   ]
  },
  {
   "cell_type": "code",
   "execution_count": 84,
   "id": "f4239ae2",
   "metadata": {
    "scrolled": true
   },
   "outputs": [
    {
     "data": {
      "image/png": "[encoded data removed]",
      "text/plain": [
       "plot without title"
      ]
     },
     "metadata": {},
     "output_type": "display_data"
    }
   ],
   "source": [
    "ggplot(D1, aes(x=\"\", y=frec, fill=turnos)) +\n",
    "  geom_bar(stat=\"identity\", width=1,color=\"white\") +\n",
    "  coord_polar(\"y\", start=0)+\n",
    "  theme_void()+\n",
    "  geom_text(aes(label = paste0(frec,'\\n', porc, ' %'),x = 1), color = \"white\", size=4,\n",
    "            position = position_stack(vjust = 0.5))+\n",
    "  scale_fill_brewer(palette=\"Set2\")+\n",
    "  labs(title=\"Distribucion Porcentual de la Matricula de primaria de 2022 en\n",
    "            departamento La Paz por turnos\")"
   ]
  },
  {
   "cell_type": "markdown",
   "id": "f3996a43",
   "metadata": {},
   "source": [
    "### Secundaria"
   ]
  },
  {
   "cell_type": "code",
   "execution_count": 87,
   "id": "a911ee84",
   "metadata": {},
   "outputs": [
    {
     "data": {
      "text/plain": [
       "\n",
       "    DIURNO     MAÑANA      NOCHE   ROTATIVO      TARDE VESPERTINO \n",
       "         1         77          0          0         20          0 "
      ]
     },
     "metadata": {},
     "output_type": "display_data"
    },
    {
     "data": {
      "text/html": [
       "<table>\n",
       "<thead><tr><th></th><th scope=col>frec</th><th scope=col>porc</th></tr></thead>\n",
       "<tbody>\n",
       "\t<tr><th scope=row>DIURNO</th><td>  649</td><td> 1   </td></tr>\n",
       "\t<tr><th scope=row>MAÑANA</th><td>34001</td><td>77   </td></tr>\n",
       "\t<tr><th scope=row>NOCHE</th><td>  198</td><td> 0   </td></tr>\n",
       "\t<tr><th scope=row>ROTATIVO</th><td>   78</td><td> 0   </td></tr>\n",
       "\t<tr><th scope=row>TARDE</th><td> 8927</td><td>20   </td></tr>\n",
       "\t<tr><th scope=row>VESPERTINO</th><td>   84</td><td> 0   </td></tr>\n",
       "</tbody>\n",
       "</table>\n"
      ],
      "text/latex": [
       "\\begin{tabular}{r|ll}\n",
       "  & frec & porc\\\\\n",
       "\\hline\n",
       "\tDIURNO &   649 &  1   \\\\\n",
       "\tMAÑANA & 34001 & 77   \\\\\n",
       "\tNOCHE &   198 &  0   \\\\\n",
       "\tROTATIVO &    78 &  0   \\\\\n",
       "\tTARDE &  8927 & 20   \\\\\n",
       "\tVESPERTINO &    84 &  0   \\\\\n",
       "\\end{tabular}\n"
      ],
      "text/markdown": [
       "\n",
       "| <!--/--> | frec | porc |\n",
       "|---|---|---|\n",
       "| DIURNO |   649 |  1    |\n",
       "| MAÑANA | 34001 | 77    |\n",
       "| NOCHE |   198 |  0    |\n",
       "| ROTATIVO |    78 |  0    |\n",
       "| TARDE |  8927 | 20    |\n",
       "| VESPERTINO |    84 |  0    |\n",
       "\n"
      ],
      "text/plain": [
       "           frec  porc\n",
       "DIURNO       649  1  \n",
       "MAÑANA     34001 77  \n",
       "NOCHE        198  0  \n",
       "ROTATIVO      78  0  \n",
       "TARDE       8927 20  \n",
       "VESPERTINO    84  0  "
      ]
     },
     "metadata": {},
     "output_type": "display_data"
    }
   ],
   "source": [
    "sector_por_turno_s <- filter(dataset_mas_limpio, Modalidad == 'Secundaria')\n",
    "pie <- round(100 * table(sector_por_turno_s$turno) / length(sector_por_turno_s$turno))\n",
    "pie\n",
    "porc <- c(pie)\n",
    "frec<- c(table(sector_por_turno_s$turno))\n",
    "D1<-data.frame(frec,porc)\n",
    "D1\n",
    "turnos<-rownames(D1)"
   ]
  },
  {
   "cell_type": "code",
   "execution_count": 88,
   "id": "e9eca152",
   "metadata": {},
   "outputs": [
    {
     "data": {
      "image/png": "[encoded data removed]",
      "text/plain": [
       "plot without title"
      ]
     },
     "metadata": {},
     "output_type": "display_data"
    }
   ],
   "source": [
    "ggplot(D1, aes(x=\"\", y=frec, fill=turnos)) +\n",
    "  geom_bar(stat=\"identity\", width=1,color=\"white\") +\n",
    "  coord_polar(\"y\", start=0)+\n",
    "  theme_void()+\n",
    "  geom_text(aes(label = paste0(frec,'\\n', porc, ' %'),x = 1), color = \"white\", size=4,\n",
    "            position = position_stack(vjust = 0.5))+\n",
    "  scale_fill_brewer(palette=\"Set2\")+\n",
    "  labs(title=\"Distribucion Porcentual de la Matricula de secundaria de 2022 en\n",
    "            departamento La Paz por turnos\")"
   ]
  },
  {
   "cell_type": "markdown",
   "id": "1a67c240",
   "metadata": {},
   "source": [
    "# Distribucion por sector publico y privado"
   ]
  },
  {
   "cell_type": "code",
   "execution_count": 107,
   "id": "9fa8b261",
   "metadata": {},
   "outputs": [
    {
     "data": {
      "image/png": "[encoded data removed]",
      "text/plain": [
       "Plot with title \"Distribucion de escuelas primarias del departamento La Paz en 2022 por publicas y privadas\""
      ]
     },
     "metadata": {},
     "output_type": "display_data"
    }
   ],
   "source": [
    "#Gráfico de barras de frecuencia absoluta\n",
    "escu_primaria <- filter(dataset_mas_limpio,Modalidad == \"Primaria\")\n",
    "tabla <- table(escu_primaria$EsPrivada)\n",
    "barplot(tabla,main=\"Distribucion de escuelas primarias del departamento La Paz en 2022 por publicas y privadas\",col=rainbow(6),ylim=c(0,30000),las=2)"
   ]
  },
  {
   "cell_type": "code",
   "execution_count": 108,
   "id": "b901ba2d",
   "metadata": {},
   "outputs": [
    {
     "data": {
      "image/png": "[encoded data removed]",
      "text/plain": [
       "Plot with title \"Distribucion de escuelas primarias del departamento La Paz en 2022 por publicas y privadas\""
      ]
     },
     "metadata": {},
     "output_type": "display_data"
    }
   ],
   "source": [
    "#Gráfico de barras de frecuencia absoluta\n",
    "escu_primaria <- filter(dataset_mas_limpio,Modalidad == \"Secundaria\")\n",
    "tabla <- table(escu_primaria$EsPrivada)\n",
    "barplot(tabla,main=\"Distribucion de escuelas primarias del departamento La Paz en 2022 por publicas y privadas\",col=rainbow(6),ylim=c(0,30000),las=2)"
   ]
  },
  {
   "cell_type": "markdown",
   "id": "6a30e2f5",
   "metadata": {},
   "source": [
    "# Segmentado por nivel,año y materia.De la variable promedio"
   ]
  },
  {
   "cell_type": "markdown",
   "id": "994f5fee",
   "metadata": {},
   "source": [
    "### Materia matemática, primer año - Primaria"
   ]
  },
  {
   "cell_type": "code",
   "execution_count": 24,
   "id": "1baddf3d",
   "metadata": {
    "scrolled": true
   },
   "outputs": [
    {
     "data": {
      "image/png": "[encoded data removed]",
      "text/plain": [
       "Plot with title \"Cajas y bigotes para la variable Promedio para Matemática\""
      ]
     },
     "metadata": {},
     "output_type": "display_data"
    },
    {
     "data": {
      "image/png": "[encoded data removed]",
      "text/plain": [
       "plot without title"
      ]
     },
     "metadata": {},
     "output_type": "display_data"
    }
   ],
   "source": [
    "primaria_Mat_1<-filter(dataset_mas_limpio, AñoCursado == \"1\" & asignatura==\"MATEMÁTICA\" & Modalidad == \"Primaria\")\n",
    "boxplot(primaria_Mat_1[!is.na(primaria_Mat_1$Promedio),]$Promedio, main =\"Cajas y bigotes para la variable Promedio para Matemática\",horizontal = TRUE)\n",
    "\n",
    "\n",
    "boxplot(primaria_Mat_1[!is.na(primaria_Mat_1$Promedio),]$Promedio,\n",
    "        whisklty = 2,       # Tipo línea bigotes\n",
    "        whisklwd = 2,       # Ancho línea bigotes\n",
    "        whiskcol = \"red\",   # Color bigotes\n",
    "        staplelty = 3,      # Tipo línea barras\n",
    "        staplelwd = 2,      # Ancho línea barras\n",
    "        staplecol = \"blue\") # Color barras"
   ]
  },
  {
   "cell_type": "markdown",
   "id": "eaeffaed",
   "metadata": {},
   "source": [
    "### Materia Lengua, primer año - Primaria"
   ]
  },
  {
   "cell_type": "code",
   "execution_count": 25,
   "id": "12cdf9a5",
   "metadata": {
    "scrolled": true
   },
   "outputs": [
    {
     "data": {
      "image/png": "[encoded data removed]",
      "text/plain": [
       "Plot with title \"Cajas y bigotes para la variable Promedio para Lengua\""
      ]
     },
     "metadata": {},
     "output_type": "display_data"
    },
    {
     "data": {
      "image/png": "[encoded data removed]",
      "text/plain": [
       "plot without title"
      ]
     },
     "metadata": {},
     "output_type": "display_data"
    }
   ],
   "source": [
    "primaria_len_1<-filter(dataset_mas_limpio, AñoCursado == \"1\" & asignatura==\"LENGUA\" & Modalidad == \"Primaria\")\n",
    "boxplot(primaria_len_1[!is.na(primaria_len_1$Promedio),]$Promedio, main =\"Cajas y bigotes para la variable Promedio para Lengua\",horizontal = TRUE)\n",
    "\n",
    "\n",
    "boxplot(primaria_len_1[!is.na(primaria_len_1$Promedio),]$Promedio,\n",
    "        whisklty = 2,       # Tipo línea bigotes\n",
    "        whisklwd = 2,       # Ancho línea bigotes\n",
    "        whiskcol = \"red\",   # Color bigotes\n",
    "        staplelty = 3,      # Tipo línea barras\n",
    "        staplelwd = 2,      # Ancho línea barras\n",
    "        staplecol = \"blue\") # Color barras"
   ]
  },
  {
   "cell_type": "markdown",
   "id": "c91b793a",
   "metadata": {},
   "source": [
    "### Materia matemática, primer año - Secundaria\n",
    "\n"
   ]
  },
  {
   "cell_type": "code",
   "execution_count": 26,
   "id": "7642e0ed",
   "metadata": {
    "scrolled": true
   },
   "outputs": [
    {
     "data": {
      "image/png": "[encoded data removed]",
      "text/plain": [
       "Plot with title \"Cajas y bigotes para la variable Promedio para Matemática - Secundaria\""
      ]
     },
     "metadata": {},
     "output_type": "display_data"
    },
    {
     "data": {
      "image/png": "[encoded data removed]",
      "text/plain": [
       "plot without title"
      ]
     },
     "metadata": {},
     "output_type": "display_data"
    }
   ],
   "source": [
    "secundaria_Mat_1<-filter(dataset_mas_limpio, AñoCursado == 1 & asignatura==\"MATEMATICA\" & Modalidad == \"Secundaria\")\n",
    "boxplot(secundaria_Mat_1[!is.na(secundaria_Mat_1$Promedio),]$Promedio, main =\"Cajas y bigotes para la variable Promedio para Matemática - Secundaria\",horizontal = TRUE)\n",
    "\n",
    "\n",
    "boxplot(secundaria_Mat_1[!is.na(secundaria_Mat_1$Promedio),]$Promedio,\n",
    "        whisklty = 2,       # Tipo línea bigotes\n",
    "        whisklwd = 2,       # Ancho línea bigotes\n",
    "        whiskcol = \"red\",   # Color bigotes\n",
    "        staplelty = 3,      # Tipo línea barras\n",
    "        staplelwd = 2,      # Ancho línea barras\n",
    "        staplecol = \"blue\") # Color barras"
   ]
  },
  {
   "cell_type": "markdown",
   "id": "7b317283",
   "metadata": {},
   "source": [
    "### Materia Lengua y Literatura, primer año - Secundaria"
   ]
  },
  {
   "cell_type": "code",
   "execution_count": 27,
   "id": "4fd5bcef",
   "metadata": {
    "scrolled": true
   },
   "outputs": [
    {
     "data": {
      "image/png": "[encoded data removed]",
      "text/plain": [
       "Plot with title \"Cajas y bigotes para la variable Promedio para Lengua\""
      ]
     },
     "metadata": {},
     "output_type": "display_data"
    },
    {
     "data": {
      "image/png": "[encoded data removed]",
      "text/plain": [
       "plot without title"
      ]
     },
     "metadata": {},
     "output_type": "display_data"
    }
   ],
   "source": [
    "secundaria_len_1<-filter(dataset_mas_limpio, AñoCursado == \"1\" & asignatura==\"LENGUA Y LITERATURA\" & Modalidad == \"Secundaria\")\n",
    "boxplot(secundaria_len_1[!is.na(secundaria_len_1$Promedio),]$Promedio, main =\"Cajas y bigotes para la variable Promedio para Lengua\",horizontal = TRUE)\n",
    "\n",
    "\n",
    "boxplot(secundaria_len_1[!is.na(secundaria_len_1$Promedio),]$Promedio,\n",
    "        whisklty = 2,       # Tipo línea bigotes\n",
    "        whisklwd = 2,       # Ancho línea bigotes\n",
    "        whiskcol = \"red\",   # Color bigotes\n",
    "        staplelty = 3,      # Tipo línea barras\n",
    "        staplelwd = 2,      # Ancho línea barras\n",
    "        staplecol = \"blue\") # Color barras"
   ]
  },
  {
   "cell_type": "markdown",
   "id": "4efa4343",
   "metadata": {},
   "source": [
    "## Histogramas segmentados por nivel,año y materia de la variable promedio para matemática y lengua de primer año"
   ]
  },
  {
   "cell_type": "markdown",
   "id": "4b80c7e0",
   "metadata": {},
   "source": [
    "### Primaria - primer año\n",
    "### Materia: matemática"
   ]
  },
  {
   "cell_type": "code",
   "execution_count": 111,
   "id": "4dd6e9fe",
   "metadata": {},
   "outputs": [
    {
     "data": {
      "image/png": "[encoded data removed]",
      "text/plain": [
       "plot without title"
      ]
     },
     "metadata": {},
     "output_type": "display_data"
    }
   ],
   "source": [
    "primaria_mat <- filter(dataset_mas_limpio, AñoCursado == \"1\" & asignatura == \"MATEMÁTICA\" & Modalidad == 'Primaria')\n",
    "histo_p_1 <- fdt(primaria_mat$Promedio,breaks=\"Sturges\",na.rm=TRUE)\n",
    "plot(histo_mat_pri_1, type=\"cfph\", col=\"pink\")"
   ]
  },
  {
   "cell_type": "markdown",
   "id": "3757bc6b",
   "metadata": {},
   "source": [
    "### Primaria - primer año\n",
    "### Materia: Lengua"
   ]
  },
  {
   "cell_type": "code",
   "execution_count": 114,
   "id": "b4076d3b",
   "metadata": {},
   "outputs": [
    {
     "data": {
      "image/png": "[encoded data removed]",
      "text/plain": [
       "plot without title"
      ]
     },
     "metadata": {},
     "output_type": "display_data"
    }
   ],
   "source": [
    "primaria_l <- filter(dataset_mas_limpio, AñoCursado == \"1\" & asignatura == \"LENGUA\" & Modalidad == 'Primaria')\n",
    "histo_p_2 <- fdt(primaria_l$Promedio,breaks=\"Sturges\",na.rm=TRUE)\n",
    "plot(histo_mat_pri_1, type=\"cfph\", col=\"yellow\")"
   ]
  },
  {
   "cell_type": "markdown",
   "id": "3b2ff8d9",
   "metadata": {},
   "source": [
    "### Secundaria - primer año\n",
    "### Materia: matemática"
   ]
  },
  {
   "cell_type": "code",
   "execution_count": 115,
   "id": "ddd49663",
   "metadata": {},
   "outputs": [
    {
     "name": "stderr",
     "output_type": "stream",
     "text": [
      "`stat_bin()` using `bins = 30`. Pick better value with `binwidth`.\n"
     ]
    },
    {
     "data": {
      "image/png": "[encoded data removed]",
      "text/plain": [
       "plot without title"
      ]
     },
     "metadata": {},
     "output_type": "display_data"
    }
   ],
   "source": [
    "secundaria_mat<- filter(dataset_mas_limpio, AñoCursado == \"1\" & asignatura == \"MATEMATICA\" & Modalidad == 'Secundaria')\n",
    "histo_s_1 <- fdt(secundaria_mat$Promedio,breaks=\"Sturges\",na.rm=TRUE)\n",
    "ggplot(secundaria_mat[!is.na(secundaria_mat$Promedio),],aes(x= Promedio))+\n",
    "    geom_histogram(fill=\"pink\",colour=\"brown\",name=\"matemática\")+\n",
    "        scale_y_continuous(breaks = seq(0, 500,50), name = \"Frecuencia Absoluta\") +\n",
    "  scale_x_continuous(breaks = seq(0,10,1), name = \"Notas\" ) + geom_vline(aes(xintercept = median(Promedio),\n",
    "                  color = \"mediana\"),\n",
    "              linetype = \"dashed\",\n",
    "              size = 1) +\n",
    "   geom_vline(aes(xintercept = mean(Promedio),\n",
    "                  color = \"media\"),\n",
    "              linetype = \"dashed\",\n",
    "              size = 1) +\n",
    "   geom_vline(\n",
    "     aes(xintercept = quantile(Promedio, 0.25),\n",
    "         color = \"cuantil_25\"),\n",
    "     linetype = \"dashed\",\n",
    "     size = 1\n",
    "   ) +\n",
    "   geom_vline(\n",
    "     aes(xintercept = quantile(Promedio, 0.75),\n",
    "         color = \"cuantil_75\"),\n",
    "     linetype = \"dashed\",\n",
    "     size = 1\n",
    "   )  +\n",
    "   scale_color_manual(\n",
    "     name = \"estadisticos\",\n",
    "     values = c(\n",
    "       mediana = \"blue\",\n",
    "       media = \"red\",\n",
    "       cuantil_25 = \"black\",\n",
    "       cuantil_75 = \"orange\"\n",
    "     )\n",
    "   ) +\n",
    "   xlab(\"Longitud\") + ylab(\"n\")"
   ]
  },
  {
   "cell_type": "code",
   "execution_count": 116,
   "id": "d280feb8",
   "metadata": {},
   "outputs": [
    {
     "data": {
      "image/png": "[encoded data removed]",
      "text/plain": [
       "plot without title"
      ]
     },
     "metadata": {},
     "output_type": "display_data"
    }
   ],
   "source": [
    "plot(histo_s_1, type=\"cfph\", col=\"yellow\")"
   ]
  },
  {
   "cell_type": "markdown",
   "id": "a81cece2",
   "metadata": {},
   "source": [
    "### Secundaria - primer año\n",
    "### Materia: Lengua y literatura"
   ]
  },
  {
   "cell_type": "code",
   "execution_count": 119,
   "id": "5f6cc6eb",
   "metadata": {},
   "outputs": [],
   "source": [
    "secundaria_l<- filter(dataset_mas_limpio, AñoCursado == \"1\" & asignatura == \"LENGUA Y LITERATURA\" & Modalidad == 'Secundaria')"
   ]
  },
  {
   "cell_type": "code",
   "execution_count": 122,
   "id": "d2a979d9",
   "metadata": {},
   "outputs": [
    {
     "name": "stderr",
     "output_type": "stream",
     "text": [
      "`stat_bin()` using `bins = 30`. Pick better value with `binwidth`.\n"
     ]
    },
    {
     "data": {
      "image/png": "[encoded data removed]",
      "text/plain": [
       "plot without title"
      ]
     },
     "metadata": {},
     "output_type": "display_data"
    }
   ],
   "source": [
    "\n",
    "histo_s_2 <- fdt(secundaria_l$Promedio,breaks=\"Sturges\",na.rm=TRUE)\n",
    "ggplot(secundaria_l[!is.na(secundaria_l$Promedio),],aes(x= Promedio))+\n",
    "    geom_histogram(fill=\"pink\",colour=\"brown\",name=\"legua y literatura\")+\n",
    "        scale_y_continuous(breaks = seq(0, 500,50), name = \"distribucion promedios en leguany literatura\") +\n",
    "  scale_x_continuous(breaks = seq(0,10,1), name = \"Promedios\" ) + geom_vline(aes(xintercept = median(Promedio),\n",
    "                  color = \"mediana\"),\n",
    "              linetype = \"dashed\",\n",
    "              size = 1) +\n",
    "   geom_vline(aes(xintercept = mean(Promedio),\n",
    "                  color = \"media\"),\n",
    "              linetype = \"dashed\",\n",
    "              size = 1) +\n",
    "   geom_vline(\n",
    "     aes(xintercept = quantile(Promedio, 0.25),\n",
    "         color = \"cuantil_25\"),\n",
    "     linetype = \"dashed\",\n",
    "     size = 1\n",
    "   ) +\n",
    "   geom_vline(\n",
    "     aes(xintercept = quantile(Promedio, 0.75),\n",
    "         color = \"cuantil_75\"),\n",
    "     linetype = \"dashed\",\n",
    "     size = 1\n",
    "   )  +\n",
    "   scale_color_manual(\n",
    "     name = \"estadisticos\",\n",
    "     values = c(\n",
    "       mediana = \"blue\",\n",
    "       media = \"red\",\n",
    "       cuantil_25 = \"black\",\n",
    "       cuantil_75 = \"orange\"\n",
    "     )\n",
    "   ) +\n",
    "   xlab(\"Longitud\") + ylab(\"n\")"
   ]
  },
  {
   "cell_type": "markdown",
   "id": "a055daf3",
   "metadata": {},
   "source": [
    "## Hacer los mismos histogramas para mat y len para el resto de los años"
   ]
  },
  {
   "cell_type": "markdown",
   "id": "e0bd5ce1",
   "metadata": {},
   "source": [
    "## Guía 4"
   ]
  },
  {
   "cell_type": "markdown",
   "id": "ca066669",
   "metadata": {},
   "source": [
    "### a. ¿Son las correlaciones iguales?\n",
    "### b. A partir de lo que vimos en teoría, \n",
    "### ¿usted podría informar todas las correlaciones comocorrelaciones lineales fuertes?\n",
    "### c. ¿Qué importancia tiene el graficar los datos?"
   ]
  },
  {
   "cell_type": "code",
   "execution_count": 127,
   "id": "4f5b6bde",
   "metadata": {},
   "outputs": [
    {
     "data": {
      "image/png": "[encoded data removed]",
      "text/plain": [
       "plot without title"
      ]
     },
     "metadata": {},
     "output_type": "display_data"
    }
   ],
   "source": [
    "library(dplyr)\n",
    "library(gridExtra)\n",
    "anscombe_data = read.delim(file=\"https://goo.gl/mVLz5L\", header = T)\n",
    "# Calcular la correlación\n",
    "cor_1 = cor(anscombe_data$x1, anscombe_data$y1)\n",
    "cor_2 = cor(anscombe_data$x2, anscombe_data$y2)\n",
    "cor_3 = cor(anscombe_data$x3, anscombe_data$y3)\n",
    "cor_4 = cor(anscombe_data$x4, anscombe_data$y4)\n",
    "# Definir la función\n",
    "plot_anscombe <- function(x, y, value, type)\n",
    "{ # 'anscombe_data' es una variable global, esto es\n",
    "# una mala práctica de programación ;)\n",
    "p=ggplot(anscombe_data, aes_string(x,y)) +\n",
    "geom_smooth(method='lm', fill=NA) +\n",
    "geom_point(aes(colour=factor(1),\n",
    "fill = factor(1)),\n",
    "shape=21, size = 2\n",
    ") +\n",
    "ylim(2, 13) +\n",
    "xlim(4, 19) +\n",
    "theme_minimal() +\n",
    "theme(legend.position=\"none\") +\n",
    "annotate(\"text\",\n",
    "x = 12,\n",
    "y =4.5,\n",
    "label =\n",
    "sprintf(\"%s: %s\",\n",
    "type,\n",
    "round(value,2)\n",
    ")\n",
    ")\n",
    "return(p)\n",
    "}\n",
    "# Graficar en una cuadrícula de 2x2\n",
    "grid.arrange(plot_anscombe(\"x1\", \"y1\", cor_1, \"Correlación\"),\n",
    "plot_anscombe(\"x2\", \"y2\", cor_2, \"Correlación\"),\n",
    "plot_anscombe(\"x3\", \"y3\", cor_3, \"Correlación\"),\n",
    "plot_anscombe(\"x4\", \"y4\", cor_4, \"Correlación\"),\n",
    "ncol=2, nrow=2)\n"
   ]
  },
  {
   "cell_type": "markdown",
   "id": "a8129660",
   "metadata": {},
   "source": [
    "## Punto 4\n",
    "### Comparación mediante histograma"
   ]
  },
  {
   "cell_type": "markdown",
   "id": "30d1feeb",
   "metadata": {},
   "source": [
    "### Secundaria - primer año"
   ]
  },
  {
   "cell_type": "code",
   "execution_count": 131,
   "id": "15b1d427",
   "metadata": {},
   "outputs": [],
   "source": [
    "secundarsecundaria_Mat_1<-filter(dataset_mas_limpio, AñoCursado == 1 & asignatura==\"MATEMATICA\" & Modalidad == \"Secundaria\")"
   ]
  },
  {
   "cell_type": "code",
   "execution_count": 132,
   "id": "de21d62e",
   "metadata": {},
   "outputs": [
    {
     "data": {
      "image/png": "[encoded data removed]",
      "text/plain": [
       "Plot with title \"Promedios de matemáticas \""
      ]
     },
     "metadata": {},
     "output_type": "display_data"
    }
   ],
   "source": [
    "#Comparación bivariada usando Histogramas Superpuestos\n",
    "\n",
    "x <- filter(secundaria_Mat_1,EsPrivada==TRUE)$Promedio # Primer grupo\n",
    "y <- filter(secundaria_Mat_1,EsPrivada==FALSE)$Promedio\n",
    "hist(x, col=\"paleturquoise3\",border=\"royalblue\",breaks = \"Sturges\", ylim = c(0, 200),\n",
    "     density=20,angle=70, xlab=\"notas\", ylab=\"frecuencia absoluta\", main=\"Promedios de matemáticas \")\n",
    "hist(y, add = TRUE, col = rgb(1, 1, 0, alpha = 0.5))\n",
    "\n",
    "mean_x <- mean(x,na.rm=TRUE)     \n",
    "med_x <- median(x,na.rm=TRUE)   \n",
    "mean_y <- mean(y,na.rm=TRUE)     \n",
    "med_y <- median(y,na.rm=TRUE)   \n",
    "abline(v = mean_x, col = 'blue')\n",
    "abline(v = med_x, col = 'red')\n",
    "abline(v = mean_y, col = 'black')\n",
    "abline(v = med_y, col = 'green')"
   ]
  },
  {
   "cell_type": "markdown",
   "id": "722e7d72",
   "metadata": {},
   "source": [
    "### Comparación mediante Boxplot"
   ]
  },
  {
   "cell_type": "code",
   "execution_count": 133,
   "id": "9fda7d2c",
   "metadata": {
    "scrolled": false
   },
   "outputs": [
    {
     "data": {
      "image/png": "[encoded data removed]",
      "text/plain": [
       "plot without title"
      ]
     },
     "metadata": {},
     "output_type": "display_data"
    }
   ],
   "source": [
    "g2 <- ggplot(secundaria_Mat_1, aes(factor(EsPrivada), Promedio))\n",
    "g2 + geom_boxplot(aes(fill = factor(EsPrivada)))"
   ]
  },
  {
   "cell_type": "markdown",
   "id": "fa371d52",
   "metadata": {},
   "source": [
    "## Completar para el resto de los años"
   ]
  },
  {
   "cell_type": "markdown",
   "id": "8fb1985f",
   "metadata": {},
   "source": [
    "## Punto 5"
   ]
  },
  {
   "cell_type": "markdown",
   "id": "e6604ebf",
   "metadata": {},
   "source": [
    "### Comparación de promedios de matemáticas de los diferentes años en distintos turnos"
   ]
  },
  {
   "cell_type": "markdown",
   "id": "e302c33e",
   "metadata": {},
   "source": [
    "### Primaria"
   ]
  },
  {
   "cell_type": "code",
   "execution_count": 135,
   "id": "379a555f",
   "metadata": {
    "scrolled": true
   },
   "outputs": [
    {
     "data": {
      "image/png": "[encoded data removed]",
      "text/plain": [
       "plot without title"
      ]
     },
     "metadata": {},
     "output_type": "display_data"
    }
   ],
   "source": [
    "g2 <- ggplot(filter(dataset_mas_limpio,asignatura==\"MATEMÁTICA\" & Modalidad=='Primaria'),aes(factor(turno),Promedio))\n",
    "g2 + geom_boxplot(aes(fill = factor(turno)))"
   ]
  },
  {
   "cell_type": "markdown",
   "id": "8da97cb3",
   "metadata": {},
   "source": [
    "### Secundaria"
   ]
  },
  {
   "cell_type": "code",
   "execution_count": 137,
   "id": "a3ba0647",
   "metadata": {},
   "outputs": [
    {
     "data": {
      "image/png": "[encoded data removed]",
      "text/plain": [
       "plot without title"
      ]
     },
     "metadata": {},
     "output_type": "display_data"
    }
   ],
   "source": [
    "g2 <- ggplot(filter(dataset_mas_limpio,asignatura==\"MATEMATICA\" & Modalidad=='Secundaria'),aes(factor(turno),Promedio))\n",
    "g2 + geom_boxplot(aes(fill = factor(turno)))"
   ]
  },
  {
   "cell_type": "markdown",
   "id": "fca9d952",
   "metadata": {},
   "source": [
    "## Punto 6"
   ]
  },
  {
   "cell_type": "code",
   "execution_count": 30,
   "id": "4d9838da",
   "metadata": {},
   "outputs": [
    {
     "data": {
      "text/html": [
       "<ol class=list-inline>\n",
       "\t<li>887</li>\n",
       "\t<li>3</li>\n",
       "</ol>\n"
      ],
      "text/latex": [
       "\\begin{enumerate*}\n",
       "\\item 887\n",
       "\\item 3\n",
       "\\end{enumerate*}\n"
      ],
      "text/markdown": [
       "1. 887\n",
       "2. 3\n",
       "\n",
       "\n"
      ],
      "text/plain": [
       "[1] 887   3"
      ]
     },
     "metadata": {},
     "output_type": "display_data"
    },
    {
     "data": {
      "text/html": [
       "<ol class=list-inline>\n",
       "\t<li>862</li>\n",
       "\t<li>3</li>\n",
       "</ol>\n"
      ],
      "text/latex": [
       "\\begin{enumerate*}\n",
       "\\item 862\n",
       "\\item 3\n",
       "\\end{enumerate*}\n"
      ],
      "text/markdown": [
       "1. 862\n",
       "2. 3\n",
       "\n",
       "\n"
      ],
      "text/plain": [
       "[1] 862   3"
      ]
     },
     "metadata": {},
     "output_type": "display_data"
    },
    {
     "data": {
      "text/html": [
       "<table>\n",
       "<thead><tr><th scope=col>Documento</th><th scope=col>Prom_Mat</th><th scope=col>EsPrivada</th><th scope=col>Prom_Bio</th><th scope=col>EsPrivada.y</th></tr></thead>\n",
       "<tbody>\n",
       "\t<tr><td>34680594</td><td>4.666667</td><td>FALSE   </td><td>5.333333</td><td>FALSE   </td></tr>\n",
       "\t<tr><td>46082290</td><td>6.666667</td><td>FALSE   </td><td>6.333333</td><td>FALSE   </td></tr>\n",
       "\t<tr><td>46520307</td><td>4.000000</td><td>FALSE   </td><td>7.000000</td><td>FALSE   </td></tr>\n",
       "\t<tr><td>46520314</td><td>2.000000</td><td>FALSE   </td><td>3.333333</td><td>FALSE   </td></tr>\n",
       "\t<tr><td>46778660</td><td>3.000000</td><td>FALSE   </td><td>5.333333</td><td>FALSE   </td></tr>\n",
       "\t<tr><td>46778660</td><td>4.000000</td><td>FALSE   </td><td>5.333333</td><td>FALSE   </td></tr>\n",
       "</tbody>\n",
       "</table>\n"
      ],
      "text/latex": [
       "\\begin{tabular}{r|lllll}\n",
       " Documento & Prom\\_Mat & EsPrivada & Prom\\_Bio & EsPrivada.y\\\\\n",
       "\\hline\n",
       "\t 34680594 & 4.666667 & FALSE    & 5.333333 & FALSE   \\\\\n",
       "\t 46082290 & 6.666667 & FALSE    & 6.333333 & FALSE   \\\\\n",
       "\t 46520307 & 4.000000 & FALSE    & 7.000000 & FALSE   \\\\\n",
       "\t 46520314 & 2.000000 & FALSE    & 3.333333 & FALSE   \\\\\n",
       "\t 46778660 & 3.000000 & FALSE    & 5.333333 & FALSE   \\\\\n",
       "\t 46778660 & 4.000000 & FALSE    & 5.333333 & FALSE   \\\\\n",
       "\\end{tabular}\n"
      ],
      "text/markdown": [
       "\n",
       "| Documento | Prom_Mat | EsPrivada | Prom_Bio | EsPrivada.y |\n",
       "|---|---|---|---|---|\n",
       "| 34680594 | 4.666667 | FALSE    | 5.333333 | FALSE    |\n",
       "| 46082290 | 6.666667 | FALSE    | 6.333333 | FALSE    |\n",
       "| 46520307 | 4.000000 | FALSE    | 7.000000 | FALSE    |\n",
       "| 46520314 | 2.000000 | FALSE    | 3.333333 | FALSE    |\n",
       "| 46778660 | 3.000000 | FALSE    | 5.333333 | FALSE    |\n",
       "| 46778660 | 4.000000 | FALSE    | 5.333333 | FALSE    |\n",
       "\n"
      ],
      "text/plain": [
       "  Documento Prom_Mat EsPrivada Prom_Bio EsPrivada.y\n",
       "1 34680594  4.666667 FALSE     5.333333 FALSE      \n",
       "2 46082290  6.666667 FALSE     6.333333 FALSE      \n",
       "3 46520307  4.000000 FALSE     7.000000 FALSE      \n",
       "4 46520314  2.000000 FALSE     3.333333 FALSE      \n",
       "5 46778660  3.000000 FALSE     5.333333 FALSE      \n",
       "6 46778660  4.000000 FALSE     5.333333 FALSE      "
      ]
     },
     "metadata": {},
     "output_type": "display_data"
    },
    {
     "data": {
      "image/png": "[encoded data removed]",
      "text/plain": [
       "plot without title"
      ]
     },
     "metadata": {},
     "output_type": "display_data"
    }
   ],
   "source": [
    "#diagrama de dispersión\n",
    "#deben tener misma dimension\n",
    "rm(df)\n",
    "dim(dplyr::select(secundaria_Mat_1,\"Documento\",\"Promedio\",\"EsPrivada\"))\n",
    "dim(dplyr::select(filter(dataset_mas_limpio,asignatura==\"BIOLOGIA\" & AñoCursado== 1),\"Documento\",\"Promedio\",\"EsPrivada\"))\n",
    "df<- dplyr::select(secundaria_Mat_1,\"Documento\",\"Promedio\",\"EsPrivada\") %>% inner_join(dplyr::select(filter(dataset_mas_limpio,asignatura==\"BIOLOGIA\" & AñoCursado== 1),\"Documento\",\"Promedio\",\"EsPrivada\"),by=\"Documento\")\n",
    "df<-rename(df,Prom_Mat=Promedio.x, Prom_Bio=Promedio.y,EsPrivada=EsPrivada.x)\n",
    "head(df)\n",
    "plot(df$Prom_Mat, df$Prom_Bio)"
   ]
  },
  {
   "cell_type": "code",
   "execution_count": 31,
   "id": "4cb98efd",
   "metadata": {
    "scrolled": true
   },
   "outputs": [
    {
     "data": {
      "image/png": "[encoded data removed]",
      "text/plain": [
       "plot without title"
      ]
     },
     "metadata": {},
     "output_type": "display_data"
    }
   ],
   "source": [
    "ggplot(data=df, aes(x=Prom_Mat,y=Prom_Bio))+geom_point(aes(colour=EsPrivada)\n",
    ")+xlab(\"Longitud\")+ylab(\"ancho\")"
   ]
  },
  {
   "cell_type": "markdown",
   "id": "3c84d9c5",
   "metadata": {},
   "source": [
    "## Punto 7"
   ]
  },
  {
   "cell_type": "markdown",
   "id": "8d29231e",
   "metadata": {},
   "source": [
    "## Punto 8"
   ]
  },
  {
   "cell_type": "markdown",
   "id": "0fc9bd68",
   "metadata": {},
   "source": [
    "## Punto 9"
   ]
  },
  {
   "cell_type": "code",
   "execution_count": 32,
   "id": "ac7c04da",
   "metadata": {
    "scrolled": true
   },
   "outputs": [
    {
     "data": {
      "image/png": "[encoded data removed]",
      "text/plain": [
       "plot without title"
      ]
     },
     "metadata": {},
     "output_type": "display_data"
    }
   ],
   "source": [
    "ggplot(data=df, aes(x=Prom_Mat,y=Prom_Bio, color = EsPrivada))+geom_point()+ \n",
    "       geom_smooth(method = \"lm\")"
   ]
  },
  {
   "cell_type": "code",
   "execution_count": 33,
   "id": "2b7e6890",
   "metadata": {},
   "outputs": [
    {
     "data": {
      "text/html": [
       "<table>\n",
       "<thead><tr><th></th><th scope=col>Prom_Mat</th><th scope=col>Prom_Bio</th></tr></thead>\n",
       "<tbody>\n",
       "\t<tr><th scope=row>Prom_Mat</th><td>2.929701</td><td>2.290467</td></tr>\n",
       "\t<tr><th scope=row>Prom_Bio</th><td>2.290467</td><td>2.763261</td></tr>\n",
       "</tbody>\n",
       "</table>\n"
      ],
      "text/latex": [
       "\\begin{tabular}{r|ll}\n",
       "  & Prom\\_Mat & Prom\\_Bio\\\\\n",
       "\\hline\n",
       "\tProm\\_Mat & 2.929701 & 2.290467\\\\\n",
       "\tProm\\_Bio & 2.290467 & 2.763261\\\\\n",
       "\\end{tabular}\n"
      ],
      "text/markdown": [
       "\n",
       "| <!--/--> | Prom_Mat | Prom_Bio |\n",
       "|---|---|---|\n",
       "| Prom_Mat | 2.929701 | 2.290467 |\n",
       "| Prom_Bio | 2.290467 | 2.763261 |\n",
       "\n"
      ],
      "text/plain": [
       "         Prom_Mat Prom_Bio\n",
       "Prom_Mat 2.929701 2.290467\n",
       "Prom_Bio 2.290467 2.763261"
      ]
     },
     "metadata": {},
     "output_type": "display_data"
    }
   ],
   "source": [
    "dataM <- na.omit(data.frame(df$Prom_Mat, df$Prom_Bio)) \n",
    "dataM<-rename(dataM,Prom_Mat=df.Prom_Mat, Prom_Bio=df.Prom_Bio)\n",
    "var(dataM)"
   ]
  },
  {
   "cell_type": "code",
   "execution_count": 138,
   "id": "c1ce9ad7",
   "metadata": {},
   "outputs": [
    {
     "data": {
      "image/png": "[encoded data removed]",
      "text/plain": [
       "Plot with title \"\""
      ]
     },
     "metadata": {},
     "output_type": "display_data"
    }
   ],
   "source": [
    "library(\"PerformanceAnalytics\")\n",
    "chart.Correlation(dataM, histogram = TRUE, method = \"pearson\")"
   ]
  },
  {
   "cell_type": "code",
   "execution_count": 35,
   "id": "1b0acbd5",
   "metadata": {},
   "outputs": [
    {
     "data": {
      "text/plain": [
       "\n",
       "\tShapiro-Wilk normality test\n",
       "\n",
       "data:  dataM$Prom_Mat\n",
       "W = 0.978, p-value = 1.866e-10\n"
      ]
     },
     "metadata": {},
     "output_type": "display_data"
    }
   ],
   "source": [
    "#menos de 50 datos\n",
    "shapiro.test(dataM$Prom_Mat)"
   ]
  },
  {
   "cell_type": "code",
   "execution_count": 36,
   "id": "27e5a188",
   "metadata": {},
   "outputs": [
    {
     "data": {
      "text/plain": [
       "\n",
       "\tLilliefors (Kolmogorov-Smirnov) normality test\n",
       "\n",
       "data:  dataM$Prom_Mat\n",
       "D = 0.088996, p-value < 2.2e-16\n"
      ]
     },
     "metadata": {},
     "output_type": "display_data"
    }
   ],
   "source": [
    "#conda install -c conda-forge r-nortest\n",
    "#mas de 50 datos\n",
    "library(nortest)\n",
    "lillie.test(x = dataM$Prom_Mat)"
   ]
  },
  {
   "cell_type": "code",
   "execution_count": 37,
   "id": "238a9281",
   "metadata": {},
   "outputs": [
    {
     "data": {
      "text/html": [
       "<table>\n",
       "<thead><tr><th scope=col>name</th><th scope=col>value</th></tr></thead>\n",
       "<tbody>\n",
       "\t<tr><td>pearson  </td><td>0.8050104</td></tr>\n",
       "\t<tr><td>kendall  </td><td>0.6298612</td></tr>\n",
       "\t<tr><td>spearman </td><td>0.7804692</td></tr>\n",
       "</tbody>\n",
       "</table>\n"
      ],
      "text/latex": [
       "\\begin{tabular}{r|ll}\n",
       " name & value\\\\\n",
       "\\hline\n",
       "\t pearson   & 0.8050104\\\\\n",
       "\t kendall   & 0.6298612\\\\\n",
       "\t spearman  & 0.7804692\\\\\n",
       "\\end{tabular}\n"
      ],
      "text/markdown": [
       "\n",
       "| name | value |\n",
       "|---|---|\n",
       "| pearson   | 0.8050104 |\n",
       "| kendall   | 0.6298612 |\n",
       "| spearman  | 0.7804692 |\n",
       "\n"
      ],
      "text/plain": [
       "  name     value    \n",
       "1 pearson  0.8050104\n",
       "2 kendall  0.6298612\n",
       "3 spearman 0.7804692"
      ]
     },
     "metadata": {},
     "output_type": "display_data"
    }
   ],
   "source": [
    "per <- cor(dataM$Prom_Mat, dataM$Prom_Bio, method = \"pearson\")\n",
    "ken <- cor(dataM$Prom_Mat, dataM$Prom_Bio, method = \"kendall\")\n",
    "spe <- cor(dataM$Prom_Mat, dataM$Prom_Bio, method = \"spearman\")\n",
    "\n",
    "data <- data.frame(name=c(\"pearson\",\"kendall\",\"spearman\") , value=c(per,ken,spe))\n",
    "\n",
    "data"
   ]
  },
  {
   "cell_type": "code",
   "execution_count": 38,
   "id": "5b6219d4",
   "metadata": {
    "scrolled": true
   },
   "outputs": [
    {
     "name": "stderr",
     "output_type": "stream",
     "text": [
      "corrplot 0.88 loaded\n"
     ]
    },
    {
     "data": {
      "image/png": "[encoded data removed]",
      "text/plain": [
       "Plot with title \"\""
      ]
     },
     "metadata": {},
     "output_type": "display_data"
    }
   ],
   "source": [
    "library(corrplot)\n",
    "corrplot.mixed(cor(dataM, method = \"spearman\"),addshade=\"all\")"
   ]
  },
  {
   "cell_type": "code",
   "execution_count": 39,
   "id": "78d6e80a",
   "metadata": {},
   "outputs": [],
   "source": [
    "df2<-dplyr::select(secundaria_len_1,\"Documento\",\"Promedio\",\"EsPrivada\")\n",
    "\n",
    "df<- df %>% inner_join(df2,by=\"Documento\")"
   ]
  },
  {
   "cell_type": "code",
   "execution_count": 40,
   "id": "ad0e1087",
   "metadata": {
    "scrolled": true
   },
   "outputs": [
    {
     "data": {
      "text/html": [
       "<ol class=list-inline>\n",
       "\t<li>1148</li>\n",
       "\t<li>3</li>\n",
       "</ol>\n"
      ],
      "text/latex": [
       "\\begin{enumerate*}\n",
       "\\item 1148\n",
       "\\item 3\n",
       "\\end{enumerate*}\n"
      ],
      "text/markdown": [
       "1. 1148\n",
       "2. 3\n",
       "\n",
       "\n"
      ],
      "text/plain": [
       "[1] 1148    3"
      ]
     },
     "metadata": {},
     "output_type": "display_data"
    },
    {
     "data": {
      "text/html": [
       "<table>\n",
       "<thead><tr><th scope=col>Prom_Mat</th><th scope=col>Prom_Bio</th><th scope=col>Prom_Len</th></tr></thead>\n",
       "<tbody>\n",
       "\t<tr><td>4.666667</td><td>5.333333</td><td>5.000000</td></tr>\n",
       "\t<tr><td>6.666667</td><td>6.333333</td><td>5.333333</td></tr>\n",
       "\t<tr><td>4.000000</td><td>7.000000</td><td>6.000000</td></tr>\n",
       "\t<tr><td>2.000000</td><td>3.333333</td><td>3.666667</td></tr>\n",
       "\t<tr><td>3.000000</td><td>5.333333</td><td>5.333333</td></tr>\n",
       "\t<tr><td>3.000000</td><td>5.333333</td><td>5.333333</td></tr>\n",
       "</tbody>\n",
       "</table>\n"
      ],
      "text/latex": [
       "\\begin{tabular}{r|lll}\n",
       " Prom\\_Mat & Prom\\_Bio & Prom\\_Len\\\\\n",
       "\\hline\n",
       "\t 4.666667 & 5.333333 & 5.000000\\\\\n",
       "\t 6.666667 & 6.333333 & 5.333333\\\\\n",
       "\t 4.000000 & 7.000000 & 6.000000\\\\\n",
       "\t 2.000000 & 3.333333 & 3.666667\\\\\n",
       "\t 3.000000 & 5.333333 & 5.333333\\\\\n",
       "\t 3.000000 & 5.333333 & 5.333333\\\\\n",
       "\\end{tabular}\n"
      ],
      "text/markdown": [
       "\n",
       "| Prom_Mat | Prom_Bio | Prom_Len |\n",
       "|---|---|---|\n",
       "| 4.666667 | 5.333333 | 5.000000 |\n",
       "| 6.666667 | 6.333333 | 5.333333 |\n",
       "| 4.000000 | 7.000000 | 6.000000 |\n",
       "| 2.000000 | 3.333333 | 3.666667 |\n",
       "| 3.000000 | 5.333333 | 5.333333 |\n",
       "| 3.000000 | 5.333333 | 5.333333 |\n",
       "\n"
      ],
      "text/plain": [
       "  Prom_Mat Prom_Bio Prom_Len\n",
       "1 4.666667 5.333333 5.000000\n",
       "2 6.666667 6.333333 5.333333\n",
       "3 4.000000 7.000000 6.000000\n",
       "4 2.000000 3.333333 3.666667\n",
       "5 3.000000 5.333333 5.333333\n",
       "6 3.000000 5.333333 5.333333"
      ]
     },
     "metadata": {},
     "output_type": "display_data"
    }
   ],
   "source": [
    "\n",
    "dataN <-rename(df,Prom_Len=Promedio)\n",
    "dataN <- na.omit(dataN) \n",
    "dataN <-dplyr::select(dataN,Prom_Mat,Prom_Bio,Prom_Len)\n",
    "dim(dataN)\n",
    "head(dataN)"
   ]
  },
  {
   "cell_type": "code",
   "execution_count": 41,
   "id": "4de7433d",
   "metadata": {},
   "outputs": [
    {
     "name": "stderr",
     "output_type": "stream",
     "text": [
      "Loading required package: MASS\n",
      "\n",
      "Attaching package: 'MASS'\n",
      "\n",
      "The following object is masked from 'package:dplyr':\n",
      "\n",
      "    select\n",
      "\n"
     ]
    },
    {
     "data": {
      "text/html": [
       "<dl>\n",
       "\t<dt>$estimate</dt>\n",
       "\t\t<dd><table>\n",
       "<thead><tr><th></th><th scope=col>Prom_Mat</th><th scope=col>Prom_Bio</th></tr></thead>\n",
       "<tbody>\n",
       "\t<tr><th scope=row>Prom_Mat</th><td>1.0000000</td><td>0.7804692</td></tr>\n",
       "\t<tr><th scope=row>Prom_Bio</th><td>0.7804692</td><td>1.0000000</td></tr>\n",
       "</tbody>\n",
       "</table>\n",
       "</dd>\n",
       "\t<dt>$p.value</dt>\n",
       "\t\t<dd><table>\n",
       "<thead><tr><th></th><th scope=col>Prom_Mat</th><th scope=col>Prom_Bio</th></tr></thead>\n",
       "<tbody>\n",
       "\t<tr><th scope=row>Prom_Mat</th><td> 0.000000e+00</td><td>1.344724e-186</td></tr>\n",
       "\t<tr><th scope=row>Prom_Bio</th><td>1.344724e-186</td><td> 0.000000e+00</td></tr>\n",
       "</tbody>\n",
       "</table>\n",
       "</dd>\n",
       "\t<dt>$statistic</dt>\n",
       "\t\t<dd><table>\n",
       "<thead><tr><th></th><th scope=col>Prom_Mat</th><th scope=col>Prom_Bio</th></tr></thead>\n",
       "<tbody>\n",
       "\t<tr><th scope=row>Prom_Mat</th><td> 0.00000</td><td>37.53401</td></tr>\n",
       "\t<tr><th scope=row>Prom_Bio</th><td>37.53401</td><td> 0.00000</td></tr>\n",
       "</tbody>\n",
       "</table>\n",
       "</dd>\n",
       "\t<dt>$n</dt>\n",
       "\t\t<dd>906</dd>\n",
       "\t<dt>$gp</dt>\n",
       "\t\t<dd>0</dd>\n",
       "\t<dt>$method</dt>\n",
       "\t\t<dd>'spearman'</dd>\n",
       "</dl>\n"
      ],
      "text/latex": [
       "\\begin{description}\n",
       "\\item[\\$estimate] \\begin{tabular}{r|ll}\n",
       "  & Prom\\_Mat & Prom\\_Bio\\\\\n",
       "\\hline\n",
       "\tProm\\_Mat & 1.0000000 & 0.7804692\\\\\n",
       "\tProm\\_Bio & 0.7804692 & 1.0000000\\\\\n",
       "\\end{tabular}\n",
       "\n",
       "\\item[\\$p.value] \\begin{tabular}{r|ll}\n",
       "  & Prom\\_Mat & Prom\\_Bio\\\\\n",
       "\\hline\n",
       "\tProm\\_Mat &  0.000000e+00 & 1.344724e-186\\\\\n",
       "\tProm\\_Bio & 1.344724e-186 &  0.000000e+00\\\\\n",
       "\\end{tabular}\n",
       "\n",
       "\\item[\\$statistic] \\begin{tabular}{r|ll}\n",
       "  & Prom\\_Mat & Prom\\_Bio\\\\\n",
       "\\hline\n",
       "\tProm\\_Mat &  0.00000 & 37.53401\\\\\n",
       "\tProm\\_Bio & 37.53401 &  0.00000\\\\\n",
       "\\end{tabular}\n",
       "\n",
       "\\item[\\$n] 906\n",
       "\\item[\\$gp] 0\n",
       "\\item[\\$method] 'spearman'\n",
       "\\end{description}\n"
      ],
      "text/markdown": [
       "$estimate\n",
       ":   \n",
       "| <!--/--> | Prom_Mat | Prom_Bio |\n",
       "|---|---|---|\n",
       "| Prom_Mat | 1.0000000 | 0.7804692 |\n",
       "| Prom_Bio | 0.7804692 | 1.0000000 |\n",
       "\n",
       "\n",
       "$p.value\n",
       ":   \n",
       "| <!--/--> | Prom_Mat | Prom_Bio |\n",
       "|---|---|---|\n",
       "| Prom_Mat |  0.000000e+00 | 1.344724e-186 |\n",
       "| Prom_Bio | 1.344724e-186 |  0.000000e+00 |\n",
       "\n",
       "\n",
       "$statistic\n",
       ":   \n",
       "| <!--/--> | Prom_Mat | Prom_Bio |\n",
       "|---|---|---|\n",
       "| Prom_Mat |  0.00000 | 37.53401 |\n",
       "| Prom_Bio | 37.53401 |  0.00000 |\n",
       "\n",
       "\n",
       "$n\n",
       ":   906\n",
       "$gp\n",
       ":   0\n",
       "$method\n",
       ":   'spearman'\n",
       "\n",
       "\n"
      ],
      "text/plain": [
       "$estimate\n",
       "          Prom_Mat  Prom_Bio\n",
       "Prom_Mat 1.0000000 0.7804692\n",
       "Prom_Bio 0.7804692 1.0000000\n",
       "\n",
       "$p.value\n",
       "              Prom_Mat      Prom_Bio\n",
       "Prom_Mat  0.000000e+00 1.344724e-186\n",
       "Prom_Bio 1.344724e-186  0.000000e+00\n",
       "\n",
       "$statistic\n",
       "         Prom_Mat Prom_Bio\n",
       "Prom_Mat  0.00000 37.53401\n",
       "Prom_Bio 37.53401  0.00000\n",
       "\n",
       "$n\n",
       "[1] 906\n",
       "\n",
       "$gp\n",
       "[1] 0\n",
       "\n",
       "$method\n",
       "[1] \"spearman\"\n"
      ]
     },
     "metadata": {},
     "output_type": "display_data"
    }
   ],
   "source": [
    "library(ppcor)\n",
    "pcor(dataM, method = c(\"spearman\"))"
   ]
  },
  {
   "cell_type": "code",
   "execution_count": 42,
   "id": "803e5c83",
   "metadata": {},
   "outputs": [
    {
     "data": {
      "text/html": [
       "<dl>\n",
       "\t<dt>$estimate</dt>\n",
       "\t\t<dd><table>\n",
       "<thead><tr><th></th><th scope=col>Prom_Mat</th><th scope=col>Prom_Bio</th><th scope=col>Prom_Len</th></tr></thead>\n",
       "<tbody>\n",
       "\t<tr><th scope=row>Prom_Mat</th><td>1.0000000</td><td>0.3925601</td><td>0.4261180</td></tr>\n",
       "\t<tr><th scope=row>Prom_Bio</th><td>0.3925601</td><td>1.0000000</td><td>0.5293377</td></tr>\n",
       "\t<tr><th scope=row>Prom_Len</th><td>0.4261180</td><td>0.5293377</td><td>1.0000000</td></tr>\n",
       "</tbody>\n",
       "</table>\n",
       "</dd>\n",
       "\t<dt>$p.value</dt>\n",
       "\t\t<dd><table>\n",
       "<thead><tr><th></th><th scope=col>Prom_Mat</th><th scope=col>Prom_Bio</th><th scope=col>Prom_Len</th></tr></thead>\n",
       "<tbody>\n",
       "\t<tr><th scope=row>Prom_Mat</th><td>0.000000e+00</td><td>1.464285e-43</td><td>8.339908e-52</td></tr>\n",
       "\t<tr><th scope=row>Prom_Bio</th><td>1.464285e-43</td><td>0.000000e+00</td><td>7.981070e-84</td></tr>\n",
       "\t<tr><th scope=row>Prom_Len</th><td>8.339908e-52</td><td>7.981070e-84</td><td>0.000000e+00</td></tr>\n",
       "</tbody>\n",
       "</table>\n",
       "</dd>\n",
       "\t<dt>$statistic</dt>\n",
       "\t\t<dd><table>\n",
       "<thead><tr><th></th><th scope=col>Prom_Mat</th><th scope=col>Prom_Bio</th><th scope=col>Prom_Len</th></tr></thead>\n",
       "<tbody>\n",
       "\t<tr><th scope=row>Prom_Mat</th><td> 0.00000</td><td>14.44276</td><td>15.93836</td></tr>\n",
       "\t<tr><th scope=row>Prom_Bio</th><td>14.44276</td><td> 0.00000</td><td>21.11199</td></tr>\n",
       "\t<tr><th scope=row>Prom_Len</th><td>15.93836</td><td>21.11199</td><td> 0.00000</td></tr>\n",
       "</tbody>\n",
       "</table>\n",
       "</dd>\n",
       "\t<dt>$n</dt>\n",
       "\t\t<dd>1148</dd>\n",
       "\t<dt>$gp</dt>\n",
       "\t\t<dd>1</dd>\n",
       "\t<dt>$method</dt>\n",
       "\t\t<dd>'pearson'</dd>\n",
       "</dl>\n"
      ],
      "text/latex": [
       "\\begin{description}\n",
       "\\item[\\$estimate] \\begin{tabular}{r|lll}\n",
       "  & Prom\\_Mat & Prom\\_Bio & Prom\\_Len\\\\\n",
       "\\hline\n",
       "\tProm\\_Mat & 1.0000000 & 0.3925601 & 0.4261180\\\\\n",
       "\tProm\\_Bio & 0.3925601 & 1.0000000 & 0.5293377\\\\\n",
       "\tProm\\_Len & 0.4261180 & 0.5293377 & 1.0000000\\\\\n",
       "\\end{tabular}\n",
       "\n",
       "\\item[\\$p.value] \\begin{tabular}{r|lll}\n",
       "  & Prom\\_Mat & Prom\\_Bio & Prom\\_Len\\\\\n",
       "\\hline\n",
       "\tProm\\_Mat & 0.000000e+00 & 1.464285e-43 & 8.339908e-52\\\\\n",
       "\tProm\\_Bio & 1.464285e-43 & 0.000000e+00 & 7.981070e-84\\\\\n",
       "\tProm\\_Len & 8.339908e-52 & 7.981070e-84 & 0.000000e+00\\\\\n",
       "\\end{tabular}\n",
       "\n",
       "\\item[\\$statistic] \\begin{tabular}{r|lll}\n",
       "  & Prom\\_Mat & Prom\\_Bio & Prom\\_Len\\\\\n",
       "\\hline\n",
       "\tProm\\_Mat &  0.00000 & 14.44276 & 15.93836\\\\\n",
       "\tProm\\_Bio & 14.44276 &  0.00000 & 21.11199\\\\\n",
       "\tProm\\_Len & 15.93836 & 21.11199 &  0.00000\\\\\n",
       "\\end{tabular}\n",
       "\n",
       "\\item[\\$n] 1148\n",
       "\\item[\\$gp] 1\n",
       "\\item[\\$method] 'pearson'\n",
       "\\end{description}\n"
      ],
      "text/markdown": [
       "$estimate\n",
       ":   \n",
       "| <!--/--> | Prom_Mat | Prom_Bio | Prom_Len |\n",
       "|---|---|---|---|\n",
       "| Prom_Mat | 1.0000000 | 0.3925601 | 0.4261180 |\n",
       "| Prom_Bio | 0.3925601 | 1.0000000 | 0.5293377 |\n",
       "| Prom_Len | 0.4261180 | 0.5293377 | 1.0000000 |\n",
       "\n",
       "\n",
       "$p.value\n",
       ":   \n",
       "| <!--/--> | Prom_Mat | Prom_Bio | Prom_Len |\n",
       "|---|---|---|---|\n",
       "| Prom_Mat | 0.000000e+00 | 1.464285e-43 | 8.339908e-52 |\n",
       "| Prom_Bio | 1.464285e-43 | 0.000000e+00 | 7.981070e-84 |\n",
       "| Prom_Len | 8.339908e-52 | 7.981070e-84 | 0.000000e+00 |\n",
       "\n",
       "\n",
       "$statistic\n",
       ":   \n",
       "| <!--/--> | Prom_Mat | Prom_Bio | Prom_Len |\n",
       "|---|---|---|---|\n",
       "| Prom_Mat |  0.00000 | 14.44276 | 15.93836 |\n",
       "| Prom_Bio | 14.44276 |  0.00000 | 21.11199 |\n",
       "| Prom_Len | 15.93836 | 21.11199 |  0.00000 |\n",
       "\n",
       "\n",
       "$n\n",
       ":   1148\n",
       "$gp\n",
       ":   1\n",
       "$method\n",
       ":   'pearson'\n",
       "\n",
       "\n"
      ],
      "text/plain": [
       "$estimate\n",
       "          Prom_Mat  Prom_Bio  Prom_Len\n",
       "Prom_Mat 1.0000000 0.3925601 0.4261180\n",
       "Prom_Bio 0.3925601 1.0000000 0.5293377\n",
       "Prom_Len 0.4261180 0.5293377 1.0000000\n",
       "\n",
       "$p.value\n",
       "             Prom_Mat     Prom_Bio     Prom_Len\n",
       "Prom_Mat 0.000000e+00 1.464285e-43 8.339908e-52\n",
       "Prom_Bio 1.464285e-43 0.000000e+00 7.981070e-84\n",
       "Prom_Len 8.339908e-52 7.981070e-84 0.000000e+00\n",
       "\n",
       "$statistic\n",
       "         Prom_Mat Prom_Bio Prom_Len\n",
       "Prom_Mat  0.00000 14.44276 15.93836\n",
       "Prom_Bio 14.44276  0.00000 21.11199\n",
       "Prom_Len 15.93836 21.11199  0.00000\n",
       "\n",
       "$n\n",
       "[1] 1148\n",
       "\n",
       "$gp\n",
       "[1] 1\n",
       "\n",
       "$method\n",
       "[1] \"pearson\"\n"
      ]
     },
     "metadata": {},
     "output_type": "display_data"
    }
   ],
   "source": [
    "pcor(dataN, method = c(\"pearson\"))"
   ]
  },
  {
   "cell_type": "code",
   "execution_count": 43,
   "id": "81fe87b0",
   "metadata": {},
   "outputs": [
    {
     "data": {
      "text/html": [
       "0.392560055189089"
      ],
      "text/latex": [
       "0.392560055189089"
      ],
      "text/markdown": [
       "0.392560055189089"
      ],
      "text/plain": [
       "[1] 0.3925601"
      ]
     },
     "metadata": {},
     "output_type": "display_data"
    }
   ],
   "source": [
    "ggm::pcor(c(\"Prom_Mat\",\"Prom_Bio\",\"Prom_Len\"), cov(dataN))\n",
    "pcor1<-ggm::pcor(c(\"Prom_Mat\",\"Prom_Bio\",\"Prom_Len\"), cov(dataN))"
   ]
  },
  {
   "cell_type": "code",
   "execution_count": 44,
   "id": "459926a4",
   "metadata": {},
   "outputs": [
    {
     "data": {
      "text/plain": [
       "\n",
       "     approximate correlation power calculation (arctangh transformation) \n",
       "\n",
       "              n = 1148\n",
       "              r = 0.3925601\n",
       "      sig.level = 0.05\n",
       "          power = 1\n",
       "    alternative = two.sided\n"
      ]
     },
     "metadata": {},
     "output_type": "display_data"
    }
   ],
   "source": [
    "library(\"pwr\")\n",
    "pwr.r.test(n = length(row.names(dataN)), r = pcor1, sig.level = .05, power = NULL)\n"
   ]
  }
 ],
 "metadata": {
  "kernelspec": {
   "display_name": "R",
   "language": "R",
   "name": "ir"
  },
  "language_info": {
   "codemirror_mode": "r",
   "file_extension": ".r",
   "mimetype": "text/x-r-source",
   "name": "R",
   "pygments_lexer": "r",
   "version": "3.6.1"
  }
 },
 "nbformat": 4,
 "nbformat_minor": 5
}
