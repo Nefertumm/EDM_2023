{
 "cells": [
  {
   "cell_type": "code",
   "execution_count": 26,
   "id": "465ba6c7",
   "metadata": {},
   "outputs": [],
   "source": [
    "#install.packages(\"readxl\")\n",
    "#install.packages(\"dplyr\")\n",
    "#install.packages(\"stringr\")\n",
    "\n",
    "library(readxl)\n",
    "library(dplyr)\n",
    "library(stringr)"
   ]
  },
  {
   "cell_type": "code",
   "execution_count": 37,
   "id": "63e706f8",
   "metadata": {},
   "outputs": [],
   "source": [
    "options(warn=-1)\n",
    "dataset_sin_limpiar <- read_excel(\"./LAPAZ3.xlsx\")"
   ]
  },
  {
   "cell_type": "code",
   "execution_count": 38,
   "id": "3a56bb3f",
   "metadata": {},
   "outputs": [
    {
     "name": "stdout",
     "output_type": "stream",
     "text": [
      "Classes 'tbl_df', 'tbl' and 'data.frame':\t485086 obs. of  25 variables:\n",
      " $ CUE               : num  6e+06 6e+06 6e+06 6e+06 6e+06 ...\n",
      " $ departamento      : chr  \"LA PAZ\" \"LA PAZ\" \"LA PAZ\" \"LA PAZ\" ...\n",
      " $ localidad         : chr  \"LA PAZ\" \"LA PAZ\" \"LA PAZ\" \"LA PAZ\" ...\n",
      " $ EsPrivada         : chr  \"N\" \"N\" \"N\" \"N\" ...\n",
      " $ turno             : chr  \"TARDE\" \"TARDE\" \"TARDE\" \"TARDE\" ...\n",
      " $ curso             : chr  \"3 - U Prim\" \"1 - U Prim\" \"1 - U Prim\" \"1 - U Prim\" ...\n",
      " $ periodoEvaluatorio: chr  \"Tercer Trimestre\" \"Segundo Trimestre\" \"Segundo Trimestre\" \"Segundo Trimestre\" ...\n",
      " $ idalumno          : num  726939 875616 875604 875614 875612 ...\n",
      " $ Documento         : num  53360157 55445296 55243932 54712732 55445366 ...\n",
      " $ anioLectivo       : num  2022 2022 2022 2022 2022 ...\n",
      " $ asignatura        : chr  \"LENGUA\" \"ARTES VISUALES\" \"ARTES VISUALES\" \"ARTES VISUALES\" ...\n",
      " $ nota              : chr  \"6\" \"9\" \"9\" \"7\" ...\n",
      " $ observaciones     : chr  NA NA NA NA ...\n",
      " $ idSubOrganizacion : num  41 41 41 41 41 41 41 41 41 41 ...\n",
      " $ idDivision        : num  69038 69036 69036 69036 69036 ...\n",
      " $ NivelEnsenanza    : chr  \"PRIMARIO\" \"PRIMARIO\" \"PRIMARIO\" \"PRIMARIO\" ...\n",
      " $ orden             : num  3 2 2 2 2 2 2 2 3 1 ...\n",
      " $ motivo_ausente    : logi  NA NA NA NA NA NA ...\n",
      " $ idOrganizaciones  : num  20 20 20 20 20 20 20 20 20 20 ...\n",
      " $ ddivision         : chr  \"B\" \"A\" \"A\" \"U\" ...\n",
      " $ Nivel             : num  2 2 2 2 2 2 2 2 2 2 ...\n",
      " $ esMultianio       : chr  \"N\" \"N\" \"N\" \"N\" ...\n",
      " $ IdModEnsenanza    : num  5 5 5 5 5 5 5 5 5 5 ...\n",
      " $ Modalidad         : chr  \"Primaria\" \"Primaria\" \"Primaria\" \"Primaria\" ...\n",
      " $ ModEnsenaza       : chr  \"Comun\" \"Comun\" \"Comun\" \"Comun\" ...\n"
     ]
    }
   ],
   "source": [
    "str(dataset_sin_limpiar)"
   ]
  },
  {
   "cell_type": "code",
   "execution_count": 39,
   "id": "5eaba0f4",
   "metadata": {
    "scrolled": true
   },
   "outputs": [
    {
     "data": {
      "text/plain": [
       "                       Inicial   NULL Primaria Secundaria Secundaria 3 años\n",
       "                                                                           \n",
       "Adultos                      0      0        0      10685             14267\n",
       "Agrotécnica                  0      0        0      11553                 0\n",
       "Comun                       34     30   174067     218517              4752\n",
       "Ed.Especial                  0      0       35          0                 0\n",
       "Escuelas NINA                0      0     6155          0                 0\n",
       "Formacion Profesional        0     30        0          0                 0\n",
       "NULL                         0    708        0          0                 0\n",
       "Técnica                      0      0        0      44253                 0"
      ]
     },
     "metadata": {},
     "output_type": "display_data"
    }
   ],
   "source": [
    "ftable(dataset_sin_limpiar$ModEnsenaza, dataset_sin_limpiar$Modalidad)"
   ]
  },
  {
   "cell_type": "markdown",
   "id": "58173648",
   "metadata": {},
   "source": [
    "## Antes de comenzar a trabajar, hacemos una copia de nuestro dataset"
   ]
  },
  {
   "cell_type": "code",
   "execution_count": 52,
   "id": "30874cca",
   "metadata": {},
   "outputs": [],
   "source": [
    "dataset <- dataset_sin_limpiar"
   ]
  },
  {
   "cell_type": "markdown",
   "id": "120c617c",
   "metadata": {},
   "source": [
    "## Remplazamos los valores de EsPrivada a \"T\" y \"F\", verdadero y falso respectivamente, para poder transformarlos a variables lógicas. "
   ]
  },
  {
   "cell_type": "code",
   "execution_count": 53,
   "id": "6f4ef8b5",
   "metadata": {},
   "outputs": [
    {
     "data": {
      "text/plain": [
       "      N      S\n",
       "              \n",
       " 427312  57774"
      ]
     },
     "metadata": {},
     "output_type": "display_data"
    }
   ],
   "source": [
    "ftable(dataset$EsPrivada)"
   ]
  },
  {
   "cell_type": "code",
   "execution_count": 54,
   "id": "250d7c45",
   "metadata": {},
   "outputs": [
    {
     "data": {
      "text/plain": [
       "      F      T\n",
       "              \n",
       " 427312  57774"
      ]
     },
     "metadata": {},
     "output_type": "display_data"
    }
   ],
   "source": [
    "dataset$EsPrivada <- str_replace_all(dataset$EsPrivada, \"S\", \"T\")\n",
    "dataset$EsPrivada <- str_replace_all(dataset$EsPrivada, \"N\", \"F\")\n",
    "ftable(dataset$EsPrivada)"
   ]
  },
  {
   "cell_type": "markdown",
   "id": "4d3743ce",
   "metadata": {},
   "source": [
    "## Renombramos las columnas necesarias"
   ]
  },
  {
   "cell_type": "code",
   "execution_count": 55,
   "id": "224bedf0",
   "metadata": {},
   "outputs": [],
   "source": [
    "dataset_rename <- rename(dataset, año = anioLectivo, NivelEnseñanza = NivelEnsenanza, ModEnseñanza = ModEnsenaza)"
   ]
  },
  {
   "cell_type": "code",
   "execution_count": 56,
   "id": "8ead6a4f",
   "metadata": {},
   "outputs": [
    {
     "name": "stdout",
     "output_type": "stream",
     "text": [
      "Classes 'tbl_df', 'tbl' and 'data.frame':\t485086 obs. of  25 variables:\n",
      " $ CUE               : num  6e+06 6e+06 6e+06 6e+06 6e+06 ...\n",
      " $ departamento      : chr  \"LA PAZ\" \"LA PAZ\" \"LA PAZ\" \"LA PAZ\" ...\n",
      " $ localidad         : chr  \"LA PAZ\" \"LA PAZ\" \"LA PAZ\" \"LA PAZ\" ...\n",
      " $ EsPrivada         : chr  \"F\" \"F\" \"F\" \"F\" ...\n",
      " $ turno             : chr  \"TARDE\" \"TARDE\" \"TARDE\" \"TARDE\" ...\n",
      " $ curso             : chr  \"3 - U Prim\" \"1 - U Prim\" \"1 - U Prim\" \"1 - U Prim\" ...\n",
      " $ periodoEvaluatorio: chr  \"Tercer Trimestre\" \"Segundo Trimestre\" \"Segundo Trimestre\" \"Segundo Trimestre\" ...\n",
      " $ idalumno          : num  726939 875616 875604 875614 875612 ...\n",
      " $ Documento         : num  53360157 55445296 55243932 54712732 55445366 ...\n",
      " $ año               : num  2022 2022 2022 2022 2022 ...\n",
      " $ asignatura        : chr  \"LENGUA\" \"ARTES VISUALES\" \"ARTES VISUALES\" \"ARTES VISUALES\" ...\n",
      " $ nota              : chr  \"6\" \"9\" \"9\" \"7\" ...\n",
      " $ observaciones     : chr  NA NA NA NA ...\n",
      " $ idSubOrganizacion : num  41 41 41 41 41 41 41 41 41 41 ...\n",
      " $ idDivision        : num  69038 69036 69036 69036 69036 ...\n",
      " $ NivelEnseñanza    : chr  \"PRIMARIO\" \"PRIMARIO\" \"PRIMARIO\" \"PRIMARIO\" ...\n",
      " $ orden             : num  3 2 2 2 2 2 2 2 3 1 ...\n",
      " $ motivo_ausente    : logi  NA NA NA NA NA NA ...\n",
      " $ idOrganizaciones  : num  20 20 20 20 20 20 20 20 20 20 ...\n",
      " $ ddivision         : chr  \"B\" \"A\" \"A\" \"U\" ...\n",
      " $ Nivel             : num  2 2 2 2 2 2 2 2 2 2 ...\n",
      " $ esMultianio       : chr  \"N\" \"N\" \"N\" \"N\" ...\n",
      " $ IdModEnsenanza    : num  5 5 5 5 5 5 5 5 5 5 ...\n",
      " $ Modalidad         : chr  \"Primaria\" \"Primaria\" \"Primaria\" \"Primaria\" ...\n",
      " $ ModEnseñanza      : chr  \"Comun\" \"Comun\" \"Comun\" \"Comun\" ...\n"
     ]
    }
   ],
   "source": [
    "str(dataset_rename)"
   ]
  },
  {
   "cell_type": "markdown",
   "id": "06089568",
   "metadata": {},
   "source": [
    "## Agregamos una columna de año de cursado que tomará solo el año del curso. En este caso es el primer elemento del string de \"curso\", luego transformamos a numeric."
   ]
  },
  {
   "cell_type": "code",
   "execution_count": 58,
   "id": "5973176a",
   "metadata": {},
   "outputs": [
    {
     "name": "stdout",
     "output_type": "stream",
     "text": [
      "Classes 'tbl_df', 'tbl' and 'data.frame':\t485086 obs. of  26 variables:\n",
      " $ CUE               : num  6e+06 6e+06 6e+06 6e+06 6e+06 ...\n",
      " $ departamento      : chr  \"LA PAZ\" \"LA PAZ\" \"LA PAZ\" \"LA PAZ\" ...\n",
      " $ localidad         : chr  \"LA PAZ\" \"LA PAZ\" \"LA PAZ\" \"LA PAZ\" ...\n",
      " $ EsPrivada         : chr  \"F\" \"F\" \"F\" \"F\" ...\n",
      " $ turno             : chr  \"TARDE\" \"TARDE\" \"TARDE\" \"TARDE\" ...\n",
      " $ curso             : chr  \"3 - U Prim\" \"1 - U Prim\" \"1 - U Prim\" \"1 - U Prim\" ...\n",
      " $ periodoEvaluatorio: chr  \"Tercer Trimestre\" \"Segundo Trimestre\" \"Segundo Trimestre\" \"Segundo Trimestre\" ...\n",
      " $ idalumno          : num  726939 875616 875604 875614 875612 ...\n",
      " $ Documento         : num  53360157 55445296 55243932 54712732 55445366 ...\n",
      " $ año               : num  2022 2022 2022 2022 2022 ...\n",
      " $ asignatura        : chr  \"LENGUA\" \"ARTES VISUALES\" \"ARTES VISUALES\" \"ARTES VISUALES\" ...\n",
      " $ nota              : chr  \"6\" \"9\" \"9\" \"7\" ...\n",
      " $ observaciones     : chr  NA NA NA NA ...\n",
      " $ idSubOrganizacion : num  41 41 41 41 41 41 41 41 41 41 ...\n",
      " $ idDivision        : num  69038 69036 69036 69036 69036 ...\n",
      " $ NivelEnseñanza    : chr  \"PRIMARIO\" \"PRIMARIO\" \"PRIMARIO\" \"PRIMARIO\" ...\n",
      " $ orden             : num  3 2 2 2 2 2 2 2 3 1 ...\n",
      " $ motivo_ausente    : logi  NA NA NA NA NA NA ...\n",
      " $ idOrganizaciones  : num  20 20 20 20 20 20 20 20 20 20 ...\n",
      " $ ddivision         : chr  \"B\" \"A\" \"A\" \"U\" ...\n",
      " $ Nivel             : num  2 2 2 2 2 2 2 2 2 2 ...\n",
      " $ esMultianio       : chr  \"N\" \"N\" \"N\" \"N\" ...\n",
      " $ IdModEnsenanza    : num  5 5 5 5 5 5 5 5 5 5 ...\n",
      " $ Modalidad         : chr  \"Primaria\" \"Primaria\" \"Primaria\" \"Primaria\" ...\n",
      " $ ModEnseñanza      : chr  \"Comun\" \"Comun\" \"Comun\" \"Comun\" ...\n",
      " $ AñoCursado        : num  3 1 1 1 1 1 1 1 3 4 ...\n"
     ]
    }
   ],
   "source": [
    "dataset_rename_curso <- mutate(dataset_rename, AñoCursado= as.numeric(str_sub(dataset_rename$curso, 1, 1)))\n",
    "str(dataset_rename_curso)"
   ]
  },
  {
   "cell_type": "markdown",
   "id": "6cd0c04f",
   "metadata": {},
   "source": [
    "## Modificamos el tipo de dato de las columnas que nos interesan"
   ]
  },
  {
   "cell_type": "code",
   "execution_count": 60,
   "id": "58a254df",
   "metadata": {},
   "outputs": [],
   "source": [
    "dataset_rename_curso$turno <- as.factor(dataset_rename_curso$turno)\n",
    "dataset_rename_curso$Modalidad <- as.factor(dataset_rename_curso$Modalidad)\n",
    "dataset_rename_curso$nota <- as.numeric(dataset_rename_curso$nota)\n",
    "dataset_rename_curso$EsPrivada <- as.logical(dataset_rename_curso$EsPrivada)\n",
    "dataset_rename_curso$ModEnseñanza <- as.factor(dataset_rename_curso$ModEnseñanza)"
   ]
  },
  {
   "cell_type": "code",
   "execution_count": 61,
   "id": "86a58150",
   "metadata": {},
   "outputs": [
    {
     "name": "stdout",
     "output_type": "stream",
     "text": [
      "Classes 'tbl_df', 'tbl' and 'data.frame':\t485086 obs. of  26 variables:\n",
      " $ CUE               : num  6e+06 6e+06 6e+06 6e+06 6e+06 ...\n",
      " $ departamento      : chr  \"LA PAZ\" \"LA PAZ\" \"LA PAZ\" \"LA PAZ\" ...\n",
      " $ localidad         : chr  \"LA PAZ\" \"LA PAZ\" \"LA PAZ\" \"LA PAZ\" ...\n",
      " $ EsPrivada         : logi  FALSE FALSE FALSE FALSE FALSE FALSE ...\n",
      " $ turno             : Factor w/ 8 levels \"COMPLETO\",\"DIURNO\",..: 7 7 7 7 7 7 7 7 7 4 ...\n",
      " $ curso             : chr  \"3 - U Prim\" \"1 - U Prim\" \"1 - U Prim\" \"1 - U Prim\" ...\n",
      " $ periodoEvaluatorio: chr  \"Tercer Trimestre\" \"Segundo Trimestre\" \"Segundo Trimestre\" \"Segundo Trimestre\" ...\n",
      " $ idalumno          : num  726939 875616 875604 875614 875612 ...\n",
      " $ Documento         : num  53360157 55445296 55243932 54712732 55445366 ...\n",
      " $ año               : num  2022 2022 2022 2022 2022 ...\n",
      " $ asignatura        : chr  \"LENGUA\" \"ARTES VISUALES\" \"ARTES VISUALES\" \"ARTES VISUALES\" ...\n",
      " $ nota              : num  6 9 9 7 9 8 9 9 7 6 ...\n",
      " $ observaciones     : chr  NA NA NA NA ...\n",
      " $ idSubOrganizacion : num  41 41 41 41 41 41 41 41 41 41 ...\n",
      " $ idDivision        : num  69038 69036 69036 69036 69036 ...\n",
      " $ NivelEnseñanza    : chr  \"PRIMARIO\" \"PRIMARIO\" \"PRIMARIO\" \"PRIMARIO\" ...\n",
      " $ orden             : num  3 2 2 2 2 2 2 2 3 1 ...\n",
      " $ motivo_ausente    : logi  NA NA NA NA NA NA ...\n",
      " $ idOrganizaciones  : num  20 20 20 20 20 20 20 20 20 20 ...\n",
      " $ ddivision         : chr  \"B\" \"A\" \"A\" \"U\" ...\n",
      " $ Nivel             : num  2 2 2 2 2 2 2 2 2 2 ...\n",
      " $ esMultianio       : chr  \"N\" \"N\" \"N\" \"N\" ...\n",
      " $ IdModEnsenanza    : num  5 5 5 5 5 5 5 5 5 5 ...\n",
      " $ Modalidad         : Factor w/ 5 levels \"Inicial\",\"NULL\",..: 3 3 3 3 3 3 3 3 3 3 ...\n",
      " $ ModEnseñanza      : Factor w/ 8 levels \"Adultos\",\"Agrotécnica\",..: 3 3 3 3 3 3 3 3 3 3 ...\n",
      " $ AñoCursado        : num  3 1 1 1 1 1 1 1 3 4 ...\n"
     ]
    }
   ],
   "source": [
    "str(dataset_rename_curso)"
   ]
  },
  {
   "cell_type": "code",
   "execution_count": 66,
   "id": "e2c4b58a",
   "metadata": {},
   "outputs": [
    {
     "name": "stdout",
     "output_type": "stream",
     "text": [
      "Classes 'tbl_df', 'tbl' and 'data.frame':\t485086 obs. of  13 variables:\n",
      " $ CUE               : num  6e+06 6e+06 6e+06 6e+06 6e+06 ...\n",
      " $ EsPrivada         : logi  FALSE FALSE FALSE FALSE FALSE FALSE ...\n",
      " $ turno             : Factor w/ 8 levels \"COMPLETO\",\"DIURNO\",..: 7 7 7 7 7 7 7 7 7 4 ...\n",
      " $ periodoEvaluatorio: chr  \"Tercer Trimestre\" \"Segundo Trimestre\" \"Segundo Trimestre\" \"Segundo Trimestre\" ...\n",
      " $ Documento         : num  53360157 55445296 55243932 54712732 55445366 ...\n",
      " $ año               : num  2022 2022 2022 2022 2022 ...\n",
      " $ asignatura        : chr  \"LENGUA\" \"ARTES VISUALES\" \"ARTES VISUALES\" \"ARTES VISUALES\" ...\n",
      " $ nota              : num  6 9 9 7 9 8 9 9 7 6 ...\n",
      " $ NivelEnseñanza    : chr  \"PRIMARIO\" \"PRIMARIO\" \"PRIMARIO\" \"PRIMARIO\" ...\n",
      " $ Nivel             : num  2 2 2 2 2 2 2 2 2 2 ...\n",
      " $ Modalidad         : Factor w/ 5 levels \"Inicial\",\"NULL\",..: 3 3 3 3 3 3 3 3 3 3 ...\n",
      " $ ModEnseñanza      : Factor w/ 8 levels \"Adultos\",\"Agrotécnica\",..: 3 3 3 3 3 3 3 3 3 3 ...\n",
      " $ AñoCursado        : num  3 1 1 1 1 1 1 1 3 4 ...\n"
     ]
    }
   ],
   "source": [
    "dataset_nuevo <- select(dataset_rename_curso, CUE, EsPrivada, turno, periodoEvaluatorio, Documento, año, asignatura, nota, NivelEnseñanza, Nivel, Modalidad, ModEnseñanza, AñoCursado)\n",
    "str(dataset_nuevo)"
   ]
  },
  {
   "cell_type": "markdown",
   "id": "d3ee55bc",
   "metadata": {},
   "source": [
    "## Ahora calculamos el promedio de cada estudiante usando las notas del primer, segundo y tercer trimestre"
   ]
  },
  {
   "cell_type": "code",
   "execution_count": 67,
   "id": "eb5a4ccc",
   "metadata": {},
   "outputs": [],
   "source": [
    "PrimerT <- filter(dataset_nuevo, periodoEvaluatorio==\"Primer Trimestre\")\n",
    "PrimerT <- rename(PrimerT, NotasPrimerT=nota)\n",
    "\n",
    "SegundoT <- filter(dataset_nuevo, periodoEvaluatorio==\"Segundo Trimestre\")\n",
    "SegundoT <- rename(SegundoT, NotasSegundoT=nota)\n",
    "\n",
    "TercerT <- filter(dataset_nuevo, periodoEvaluatorio==\"Tercer Trimestre\")\n",
    "TercerT <- rename(TercerT, NotasTercerT=nota)"
   ]
  },
  {
   "cell_type": "code",
   "execution_count": 70,
   "id": "4525012f",
   "metadata": {},
   "outputs": [],
   "source": [
    "dataset_merge_trimestres <- merge(x = PrimerT, y = SegundoT, by = c(\"Documento\", \"asignatura\"))\n",
    "dataset_merge_trimestres <- merge(x = dataset_merge_trimestres, y = TercerT, by = c(\"Documento\", \"asignatura\"))\n",
    "dataset_notas <- select(dataset_merge_trimestres, CUE, EsPrivada, turno, periodoEvaluatorio, Documento, año, asignatura, NivelEnseñanza, Nivel, Modalidad, ModEnseñanza, AñoCursado, NotasPrimerT, NotasSegundoT, NotasTercerT)"
   ]
  },
  {
   "cell_type": "code",
   "execution_count": 71,
   "id": "89ef3edf",
   "metadata": {},
   "outputs": [],
   "source": [
    "dataset_notas_promedio <- mutate(dataset_notas, Promedio = (NotasPrimerT+NotasSegundoT+NotasTercerT)/3)"
   ]
  },
  {
   "cell_type": "markdown",
   "id": "251c1590",
   "metadata": {},
   "source": [
    "## A partir del promedio, sabremos la condición final para la materia"
   ]
  },
  {
   "cell_type": "code",
   "execution_count": 72,
   "id": "ed27e093",
   "metadata": {},
   "outputs": [],
   "source": [
    "dataset_condicion_final <- mutate(dataset_notas_promedio, CondicionFinal = case_when(Promedio < 6 ~ \"DESAPROBADO\", Promedio >= 6 ~ \"APROBADO\"))"
   ]
  },
  {
   "cell_type": "code",
   "execution_count": 74,
   "id": "f930532a",
   "metadata": {},
   "outputs": [
    {
     "data": {
      "text/plain": [
       " APROBADO DESAPROBADO\n",
       "                     \n",
       "   175603       27518"
      ]
     },
     "metadata": {},
     "output_type": "display_data"
    }
   ],
   "source": [
    "ftable(dataset_condicion_final$CondicionFinal)"
   ]
  },
  {
   "cell_type": "code",
   "execution_count": 77,
   "id": "0d6e03f2",
   "metadata": {
    "scrolled": true
   },
   "outputs": [
    {
     "data": {
      "text/plain": [
       "                   Adultos Agrotécnica  Comun Ed.Especial Escuelas NINA Formacion Profesional   NULL Técnica\n",
       "                                                                                                            \n",
       "Inicial                  0           0      8           0             0                     0      0       0\n",
       "NULL                     0           0      0           0             0                     0     86       0\n",
       "Primaria                 0           0  45280           0          1725                     0      0       0\n",
       "Secundaria            4117        3842 138377           0             0                     0      0   12721\n",
       "Secundaria 3 años     4191           0   1433           0             0                     0      0       0"
      ]
     },
     "metadata": {},
     "output_type": "display_data"
    }
   ],
   "source": [
    "ftable(dataset_condicion_final$Modalidad, dataset_condicion_final$ModEnseñanza)"
   ]
  },
  {
   "cell_type": "markdown",
   "id": "69ae4ebd",
   "metadata": {},
   "source": [
    "## Separamos el dataset en primaria y secundaria"
   ]
  },
  {
   "cell_type": "code",
   "execution_count": 83,
   "id": "292c4bce",
   "metadata": {
    "scrolled": false
   },
   "outputs": [
    {
     "data": {
      "text/plain": [
       "                   Adultos Agrotécnica  Comun Ed.Especial Escuelas NINA Formacion Profesional   NULL Técnica\n",
       "                                                                                                            \n",
       "Inicial                  0           0      0           0             0                     0      0       0\n",
       "NULL                     0           0      0           0             0                     0      0       0\n",
       "Primaria                 0           0      0           0             0                     0      0       0\n",
       "Secundaria               0        3842 138377           0             0                     0      0   12721\n",
       "Secundaria 3 años        0           0      0           0             0                     0      0       0"
      ]
     },
     "metadata": {},
     "output_type": "display_data"
    }
   ],
   "source": [
    "dataset_primaria <- filter(dataset_condicion_final, ModEnseñanza == \"Comun\" & Modalidad == \"Primaria\")\n",
    "dataset_secundaria <- filter(dataset_condicion_final, (ModEnseñanza == \"Comun\" | ModEnseñanza == \"Técnica\" | ModEnseñanza == \"Agrotécnica\") & Modalidad == \"Secundaria\")\n",
    "ftable(dataset_secundaria$Modalidad, dataset_secundaria$ModEnseñanza)"
   ]
  },
  {
   "cell_type": "markdown",
   "id": "450936bc",
   "metadata": {},
   "source": [
    "## Tomamos solamente el año 2022 para cada dataset"
   ]
  },
  {
   "cell_type": "code",
   "execution_count": 90,
   "id": "99e5e5ec",
   "metadata": {},
   "outputs": [],
   "source": [
    "dataset_primaria_2022 <- filter(dataset_primaria, año == 2022)\n",
    "dataset_secundaria_2022 <- filter(dataset_secundaria, año == 2022)"
   ]
  },
  {
   "cell_type": "code",
   "execution_count": 91,
   "id": "414b1cb0",
   "metadata": {},
   "outputs": [
    {
     "data": {
      "text/plain": [
       " Acompañamiento al Estudio ACOMPAÑAMIENTO AL ESTUDIO ARTES VISUALES Catequesis CIENCIAS NATURALES CIENCIAS SOCIALES Educación Agropecuaria EDUCACION FISICA EDUCACIÓN FÍSICA EDUCACION MUSICAL EDUCACIÓN MUSICAL EDUCACION TECNOLOGICA EDUCACIÓN TECNOLÓGICA EDUCACUÓN FÍSICA IDIOMA EXTRANJERO IDIOMA EXTRANJERO INGLES ingles INGLES Inglés LENGUA MATEMATICA Música Creatividad y comunicación Talle Tic Taller Acompañamiento al estudio Taller Acompañamiento al Estudio Taller Arte Taller Artes visuales Taller Danzarte Taller de Aceleración Taller de Acompañamiento al Estudio Taller de Artes Visuales TALLER DE ARTES VISUALES TALLER DE DEPORTE TALLER DE HUERTA Taller de Idioma Extranjero-Inglés Taller de idioma Inglés Taller de Ingles Taller de inglés Taller de Inglés TALLER DE INGLÉS Taller de JC Taller de Percusión Taller de Teatro Taller de TIC TALLER DE TIC Taller Deporte Taller Idioma Ingles Taller Inglés Taller Jugando con las Emociones Taller Lengua Extranjera Inglés Taller Marroquineria Taller Percusión\n",
       "                                                                                                                                                                                                                                                                                                                                                                                                                                                                                                                                                                                                                                                                                                                                                                                                                                                                                                                                                                                                                                                    \n",
       "                        13                       227           5111        392               5154              5200                    101             5095               18              5051                31                  5011                    31               13               600                      158     38     96     17   5232       5212                                15        71                               56                               29          71                    54              71                     3                                  53                       28                      129                58               73                                 33                      84               43               17               16               32          101                  25               83            81           127             60                   71            66                               82                             109                   56               45"
      ]
     },
     "metadata": {},
     "output_type": "display_data"
    }
   ],
   "source": [
    "ftable(dataset_primaria_2022$asignatura)"
   ]
  },
  {
   "cell_type": "markdown",
   "id": "52ebc90a",
   "metadata": {},
   "source": [
    "## Acondicionamos los nombres de las asignaturas de primaria para que queden homogeneas"
   ]
  },
  {
   "cell_type": "code",
   "execution_count": 105,
   "id": "149c14f0",
   "metadata": {},
   "outputs": [
    {
     "data": {
      "text/plain": [
       " ACOMPAÑAMIENTO AL ESTUDIO ARTES VISUALES CATEQUESIS CIENCIAS NATURALES CIENCIAS SOCIALES EDUCACIÓN AGROPECUARIA EDUCACIÓN FÍSICA EDUCACION MUSICAL EDUCACIÓN MUSICAL EDUCACION TECNOLOGICA EDUCACIÓN TECNOLÓGICA IDIOMA EXTRANJERO INGLÉS LENGUA MATEMÁTICA MÚSICA CREATIVIDAD Y COMUNICACIÓN TALLE TIC TALLER ACOMPAÑAMIENTO AL ESTUDIO TALLER ARTE TALLER ARTES VISUALES TALLER DANZARTE TALLER DE ACELERACIÓN TALLER DE ACOMPAÑAMIENTO AL ESTUDIO TALLER DE ARTES VISUALES TALLER DE DEPORTE TALLER DE HUERTA TALLER DE JC TALLER DE PERCUSIÓN TALLER DE TEATRO TALLER DE TIC TALLER DEPORTE TALLER JUGANDO CON LAS EMOCIONES TALLER MARROQUINERIA TALLER PERCUSIÓN\n",
       "                                                                                                                                                                                                                                                                                                                                                                                                                                                                                                                                                                                                                                                                       \n",
       "                       240           5111        392               5154              5200                    101             5126              5051                31                  5011                    31               600    780   5232       5212                                15        71                               85          71                    54              71                     3                                  53                      157                58               73          101                  25               83           208             60                               82                   56               45"
      ]
     },
     "metadata": {},
     "output_type": "display_data"
    }
   ],
   "source": [
    "# Pasamos todo a mayúsculas\n",
    "dataset_primaria_2022_asignatura <- mutate(dataset_primaria_2022, asignatura = str_to_upper(dataset_primaria_2022$asignatura, locale=\"es\"))\n",
    "\n",
    "# Matemática\n",
    "dataset_primaria_2022_asignatura <- mutate(dataset_primaria_2022_asignatura, asignatura = str_replace_all(dataset_primaria_2022_asignatura$asignatura, \".*MATEM[ÁA]TICAS?\", \"MATEMÁTICA\"))\n",
    "# Inglés\n",
    "dataset_primaria_2022_asignatura <- mutate(dataset_primaria_2022_asignatura, asignatura = str_replace_all(dataset_primaria_2022_asignatura$asignatura, \".*INGL[ÉE]S\", \"INGLÉS\"))\n",
    "# Educación física\n",
    "dataset_primaria_2022_asignatura <- mutate(dataset_primaria_2022_asignatura, asignatura = str_replace_all(dataset_primaria_2022_asignatura$asignatura, \".+F[IÍ]SICA\", \"EDUCACIÓN FÍSICA\"))\n",
    "ftable(dataset_primaria_2022_asignatura$asignatura)"
   ]
  },
  {
   "cell_type": "code",
   "execution_count": null,
   "id": "fa0a3b92",
   "metadata": {},
   "outputs": [],
   "source": []
  }
 ],
 "metadata": {
  "kernelspec": {
   "display_name": "R",
   "language": "R",
   "name": "ir"
  },
  "language_info": {
   "codemirror_mode": "r",
   "file_extension": ".r",
   "mimetype": "text/x-r-source",
   "name": "R",
   "pygments_lexer": "r",
   "version": "3.6.1"
  }
 },
 "nbformat": 4,
 "nbformat_minor": 5
}
