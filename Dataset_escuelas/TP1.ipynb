{
 "cells": [
  {
   "cell_type": "code",
   "execution_count": 1,
   "id": "465ba6c7",
   "metadata": {},
   "outputs": [
    {
     "name": "stderr",
     "output_type": "stream",
     "text": [
      "\n",
      "Attaching package: 'dplyr'\n",
      "\n",
      "The following objects are masked from 'package:stats':\n",
      "\n",
      "    filter, lag\n",
      "\n",
      "The following objects are masked from 'package:base':\n",
      "\n",
      "    intersect, setdiff, setequal, union\n",
      "\n",
      "\n",
      "Attaching package: 'fdth'\n",
      "\n",
      "The following objects are masked from 'package:stats':\n",
      "\n",
      "    sd, var\n",
      "\n"
     ]
    }
   ],
   "source": [
    "#install.packages(\"readxl\")\n",
    "#install.packages(\"dplyr\")\n",
    "#install.packages(\"stringr\")\n",
    "\n",
    "library(readxl)\n",
    "library(dplyr)\n",
    "library(stringr)\n",
    "library(fdth)"
   ]
  },
  {
   "cell_type": "code",
   "execution_count": 2,
   "id": "63e706f8",
   "metadata": {},
   "outputs": [],
   "source": [
    "options(warn=-1)\n",
    "dataset_sin_limpiar <- read_excel(\"./LAPAZ3.xlsx\")"
   ]
  },
  {
   "cell_type": "code",
   "execution_count": 3,
   "id": "3a56bb3f",
   "metadata": {},
   "outputs": [
    {
     "name": "stdout",
     "output_type": "stream",
     "text": [
      "Classes 'tbl_df', 'tbl' and 'data.frame':\t485086 obs. of  25 variables:\n",
      " $ CUE               : num  6e+06 6e+06 6e+06 6e+06 6e+06 ...\n",
      " $ departamento      : chr  \"LA PAZ\" \"LA PAZ\" \"LA PAZ\" \"LA PAZ\" ...\n",
      " $ localidad         : chr  \"LA PAZ\" \"LA PAZ\" \"LA PAZ\" \"LA PAZ\" ...\n",
      " $ EsPrivada         : chr  \"N\" \"N\" \"N\" \"N\" ...\n",
      " $ turno             : chr  \"TARDE\" \"TARDE\" \"TARDE\" \"TARDE\" ...\n",
      " $ curso             : chr  \"3 - U Prim\" \"1 - U Prim\" \"1 - U Prim\" \"1 - U Prim\" ...\n",
      " $ periodoEvaluatorio: chr  \"Tercer Trimestre\" \"Segundo Trimestre\" \"Segundo Trimestre\" \"Segundo Trimestre\" ...\n",
      " $ idalumno          : num  726939 875616 875604 875614 875612 ...\n",
      " $ Documento         : num  53360157 55445296 55243932 54712732 55445366 ...\n",
      " $ anioLectivo       : num  2022 2022 2022 2022 2022 ...\n",
      " $ asignatura        : chr  \"LENGUA\" \"ARTES VISUALES\" \"ARTES VISUALES\" \"ARTES VISUALES\" ...\n",
      " $ nota              : chr  \"6\" \"9\" \"9\" \"7\" ...\n",
      " $ observaciones     : chr  NA NA NA NA ...\n",
      " $ idSubOrganizacion : num  41 41 41 41 41 41 41 41 41 41 ...\n",
      " $ idDivision        : num  69038 69036 69036 69036 69036 ...\n",
      " $ NivelEnsenanza    : chr  \"PRIMARIO\" \"PRIMARIO\" \"PRIMARIO\" \"PRIMARIO\" ...\n",
      " $ orden             : num  3 2 2 2 2 2 2 2 3 1 ...\n",
      " $ motivo_ausente    : logi  NA NA NA NA NA NA ...\n",
      " $ idOrganizaciones  : num  20 20 20 20 20 20 20 20 20 20 ...\n",
      " $ ddivision         : chr  \"B\" \"A\" \"A\" \"U\" ...\n",
      " $ Nivel             : num  2 2 2 2 2 2 2 2 2 2 ...\n",
      " $ esMultianio       : chr  \"N\" \"N\" \"N\" \"N\" ...\n",
      " $ IdModEnsenanza    : num  5 5 5 5 5 5 5 5 5 5 ...\n",
      " $ Modalidad         : chr  \"Primaria\" \"Primaria\" \"Primaria\" \"Primaria\" ...\n",
      " $ ModEnsenaza       : chr  \"Comun\" \"Comun\" \"Comun\" \"Comun\" ...\n"
     ]
    }
   ],
   "source": [
    "str(dataset_sin_limpiar)"
   ]
  },
  {
   "cell_type": "code",
   "execution_count": 4,
   "id": "5eaba0f4",
   "metadata": {
    "scrolled": true
   },
   "outputs": [
    {
     "data": {
      "text/plain": [
       "                       Inicial   NULL Primaria Secundaria Secundaria 3 años\n",
       "                                                                           \n",
       "Adultos                      0      0        0      10685             14267\n",
       "Agrotécnica                  0      0        0      11553                 0\n",
       "Comun                       34     30   174067     218517              4752\n",
       "Ed.Especial                  0      0       35          0                 0\n",
       "Escuelas NINA                0      0     6155          0                 0\n",
       "Formacion Profesional        0     30        0          0                 0\n",
       "NULL                         0    708        0          0                 0\n",
       "Técnica                      0      0        0      44253                 0"
      ]
     },
     "metadata": {},
     "output_type": "display_data"
    }
   ],
   "source": [
    "ftable(dataset_sin_limpiar$ModEnsenaza, dataset_sin_limpiar$Modalidad)"
   ]
  },
  {
   "cell_type": "markdown",
   "id": "58173648",
   "metadata": {},
   "source": [
    "## Antes de comenzar a trabajar, hacemos una copia de nuestro dataset"
   ]
  },
  {
   "cell_type": "code",
   "execution_count": 5,
   "id": "30874cca",
   "metadata": {},
   "outputs": [],
   "source": [
    "dataset <- dataset_sin_limpiar"
   ]
  },
  {
   "cell_type": "markdown",
   "id": "120c617c",
   "metadata": {},
   "source": [
    "## Remplazamos los valores de EsPrivada a \"T\" y \"F\", verdadero y falso respectivamente, para poder transformarlos a variables lógicas. "
   ]
  },
  {
   "cell_type": "code",
   "execution_count": 6,
   "id": "6f4ef8b5",
   "metadata": {},
   "outputs": [
    {
     "data": {
      "text/plain": [
       "      N      S\n",
       "              \n",
       " 427312  57774"
      ]
     },
     "metadata": {},
     "output_type": "display_data"
    }
   ],
   "source": [
    "ftable(dataset$EsPrivada)"
   ]
  },
  {
   "cell_type": "code",
   "execution_count": 7,
   "id": "250d7c45",
   "metadata": {},
   "outputs": [
    {
     "data": {
      "text/plain": [
       "      F      T\n",
       "              \n",
       " 427312  57774"
      ]
     },
     "metadata": {},
     "output_type": "display_data"
    }
   ],
   "source": [
    "dataset$EsPrivada <- str_replace_all(dataset$EsPrivada, \"S\", \"T\")\n",
    "dataset$EsPrivada <- str_replace_all(dataset$EsPrivada, \"N\", \"F\")\n",
    "ftable(dataset$EsPrivada)"
   ]
  },
  {
   "cell_type": "markdown",
   "id": "4d3743ce",
   "metadata": {},
   "source": [
    "## Renombramos las columnas necesarias"
   ]
  },
  {
   "cell_type": "code",
   "execution_count": 8,
   "id": "224bedf0",
   "metadata": {},
   "outputs": [],
   "source": [
    "dataset_rename <- rename(dataset, año = anioLectivo, NivelEnseñanza = NivelEnsenanza, ModEnseñanza = ModEnsenaza)"
   ]
  },
  {
   "cell_type": "code",
   "execution_count": 9,
   "id": "8ead6a4f",
   "metadata": {},
   "outputs": [
    {
     "name": "stdout",
     "output_type": "stream",
     "text": [
      "Classes 'tbl_df', 'tbl' and 'data.frame':\t485086 obs. of  25 variables:\n",
      " $ CUE               : num  6e+06 6e+06 6e+06 6e+06 6e+06 ...\n",
      " $ departamento      : chr  \"LA PAZ\" \"LA PAZ\" \"LA PAZ\" \"LA PAZ\" ...\n",
      " $ localidad         : chr  \"LA PAZ\" \"LA PAZ\" \"LA PAZ\" \"LA PAZ\" ...\n",
      " $ EsPrivada         : chr  \"F\" \"F\" \"F\" \"F\" ...\n",
      " $ turno             : chr  \"TARDE\" \"TARDE\" \"TARDE\" \"TARDE\" ...\n",
      " $ curso             : chr  \"3 - U Prim\" \"1 - U Prim\" \"1 - U Prim\" \"1 - U Prim\" ...\n",
      " $ periodoEvaluatorio: chr  \"Tercer Trimestre\" \"Segundo Trimestre\" \"Segundo Trimestre\" \"Segundo Trimestre\" ...\n",
      " $ idalumno          : num  726939 875616 875604 875614 875612 ...\n",
      " $ Documento         : num  53360157 55445296 55243932 54712732 55445366 ...\n",
      " $ año               : num  2022 2022 2022 2022 2022 ...\n",
      " $ asignatura        : chr  \"LENGUA\" \"ARTES VISUALES\" \"ARTES VISUALES\" \"ARTES VISUALES\" ...\n",
      " $ nota              : chr  \"6\" \"9\" \"9\" \"7\" ...\n",
      " $ observaciones     : chr  NA NA NA NA ...\n",
      " $ idSubOrganizacion : num  41 41 41 41 41 41 41 41 41 41 ...\n",
      " $ idDivision        : num  69038 69036 69036 69036 69036 ...\n",
      " $ NivelEnseñanza    : chr  \"PRIMARIO\" \"PRIMARIO\" \"PRIMARIO\" \"PRIMARIO\" ...\n",
      " $ orden             : num  3 2 2 2 2 2 2 2 3 1 ...\n",
      " $ motivo_ausente    : logi  NA NA NA NA NA NA ...\n",
      " $ idOrganizaciones  : num  20 20 20 20 20 20 20 20 20 20 ...\n",
      " $ ddivision         : chr  \"B\" \"A\" \"A\" \"U\" ...\n",
      " $ Nivel             : num  2 2 2 2 2 2 2 2 2 2 ...\n",
      " $ esMultianio       : chr  \"N\" \"N\" \"N\" \"N\" ...\n",
      " $ IdModEnsenanza    : num  5 5 5 5 5 5 5 5 5 5 ...\n",
      " $ Modalidad         : chr  \"Primaria\" \"Primaria\" \"Primaria\" \"Primaria\" ...\n",
      " $ ModEnseñanza      : chr  \"Comun\" \"Comun\" \"Comun\" \"Comun\" ...\n"
     ]
    }
   ],
   "source": [
    "str(dataset_rename)"
   ]
  },
  {
   "cell_type": "markdown",
   "id": "06089568",
   "metadata": {},
   "source": [
    "## Agregamos una columna de año de cursado que tomará solo el año del curso. En este caso es el primer elemento del string de \"curso\", luego transformamos a numeric."
   ]
  },
  {
   "cell_type": "code",
   "execution_count": 10,
   "id": "5973176a",
   "metadata": {
    "scrolled": true
   },
   "outputs": [
    {
     "name": "stdout",
     "output_type": "stream",
     "text": [
      "Classes 'tbl_df', 'tbl' and 'data.frame':\t485086 obs. of  26 variables:\n",
      " $ CUE               : num  6e+06 6e+06 6e+06 6e+06 6e+06 ...\n",
      " $ departamento      : chr  \"LA PAZ\" \"LA PAZ\" \"LA PAZ\" \"LA PAZ\" ...\n",
      " $ localidad         : chr  \"LA PAZ\" \"LA PAZ\" \"LA PAZ\" \"LA PAZ\" ...\n",
      " $ EsPrivada         : chr  \"F\" \"F\" \"F\" \"F\" ...\n",
      " $ turno             : chr  \"TARDE\" \"TARDE\" \"TARDE\" \"TARDE\" ...\n",
      " $ curso             : chr  \"3 - U Prim\" \"1 - U Prim\" \"1 - U Prim\" \"1 - U Prim\" ...\n",
      " $ periodoEvaluatorio: chr  \"Tercer Trimestre\" \"Segundo Trimestre\" \"Segundo Trimestre\" \"Segundo Trimestre\" ...\n",
      " $ idalumno          : num  726939 875616 875604 875614 875612 ...\n",
      " $ Documento         : num  53360157 55445296 55243932 54712732 55445366 ...\n",
      " $ año               : num  2022 2022 2022 2022 2022 ...\n",
      " $ asignatura        : chr  \"LENGUA\" \"ARTES VISUALES\" \"ARTES VISUALES\" \"ARTES VISUALES\" ...\n",
      " $ nota              : chr  \"6\" \"9\" \"9\" \"7\" ...\n",
      " $ observaciones     : chr  NA NA NA NA ...\n",
      " $ idSubOrganizacion : num  41 41 41 41 41 41 41 41 41 41 ...\n",
      " $ idDivision        : num  69038 69036 69036 69036 69036 ...\n",
      " $ NivelEnseñanza    : chr  \"PRIMARIO\" \"PRIMARIO\" \"PRIMARIO\" \"PRIMARIO\" ...\n",
      " $ orden             : num  3 2 2 2 2 2 2 2 3 1 ...\n",
      " $ motivo_ausente    : logi  NA NA NA NA NA NA ...\n",
      " $ idOrganizaciones  : num  20 20 20 20 20 20 20 20 20 20 ...\n",
      " $ ddivision         : chr  \"B\" \"A\" \"A\" \"U\" ...\n",
      " $ Nivel             : num  2 2 2 2 2 2 2 2 2 2 ...\n",
      " $ esMultianio       : chr  \"N\" \"N\" \"N\" \"N\" ...\n",
      " $ IdModEnsenanza    : num  5 5 5 5 5 5 5 5 5 5 ...\n",
      " $ Modalidad         : chr  \"Primaria\" \"Primaria\" \"Primaria\" \"Primaria\" ...\n",
      " $ ModEnseñanza      : chr  \"Comun\" \"Comun\" \"Comun\" \"Comun\" ...\n",
      " $ AñoCursado        : num  3 1 1 1 1 1 1 1 3 4 ...\n"
     ]
    }
   ],
   "source": [
    "dataset_rename_curso <- mutate(dataset_rename, AñoCursado= as.numeric(str_sub(dataset_rename$curso, 1, 1)))\n",
    "str(dataset_rename_curso)"
   ]
  },
  {
   "cell_type": "markdown",
   "id": "6cd0c04f",
   "metadata": {},
   "source": [
    "## Modificamos el tipo de dato de las columnas que nos interesan"
   ]
  },
  {
   "cell_type": "code",
   "execution_count": 11,
   "id": "58a254df",
   "metadata": {},
   "outputs": [],
   "source": [
    "dataset_rename_curso$turno <- as.factor(dataset_rename_curso$turno)\n",
    "dataset_rename_curso$Modalidad <- as.factor(dataset_rename_curso$Modalidad)\n",
    "dataset_rename_curso$nota <- as.numeric(dataset_rename_curso$nota)\n",
    "dataset_rename_curso$EsPrivada <- as.logical(dataset_rename_curso$EsPrivada)\n",
    "dataset_rename_curso$ModEnseñanza <- as.factor(dataset_rename_curso$ModEnseñanza)"
   ]
  },
  {
   "cell_type": "code",
   "execution_count": 12,
   "id": "86a58150",
   "metadata": {},
   "outputs": [
    {
     "name": "stdout",
     "output_type": "stream",
     "text": [
      "Classes 'tbl_df', 'tbl' and 'data.frame':\t485086 obs. of  26 variables:\n",
      " $ CUE               : num  6e+06 6e+06 6e+06 6e+06 6e+06 ...\n",
      " $ departamento      : chr  \"LA PAZ\" \"LA PAZ\" \"LA PAZ\" \"LA PAZ\" ...\n",
      " $ localidad         : chr  \"LA PAZ\" \"LA PAZ\" \"LA PAZ\" \"LA PAZ\" ...\n",
      " $ EsPrivada         : logi  FALSE FALSE FALSE FALSE FALSE FALSE ...\n",
      " $ turno             : Factor w/ 8 levels \"COMPLETO\",\"DIURNO\",..: 7 7 7 7 7 7 7 7 7 4 ...\n",
      " $ curso             : chr  \"3 - U Prim\" \"1 - U Prim\" \"1 - U Prim\" \"1 - U Prim\" ...\n",
      " $ periodoEvaluatorio: chr  \"Tercer Trimestre\" \"Segundo Trimestre\" \"Segundo Trimestre\" \"Segundo Trimestre\" ...\n",
      " $ idalumno          : num  726939 875616 875604 875614 875612 ...\n",
      " $ Documento         : num  53360157 55445296 55243932 54712732 55445366 ...\n",
      " $ año               : num  2022 2022 2022 2022 2022 ...\n",
      " $ asignatura        : chr  \"LENGUA\" \"ARTES VISUALES\" \"ARTES VISUALES\" \"ARTES VISUALES\" ...\n",
      " $ nota              : num  6 9 9 7 9 8 9 9 7 6 ...\n",
      " $ observaciones     : chr  NA NA NA NA ...\n",
      " $ idSubOrganizacion : num  41 41 41 41 41 41 41 41 41 41 ...\n",
      " $ idDivision        : num  69038 69036 69036 69036 69036 ...\n",
      " $ NivelEnseñanza    : chr  \"PRIMARIO\" \"PRIMARIO\" \"PRIMARIO\" \"PRIMARIO\" ...\n",
      " $ orden             : num  3 2 2 2 2 2 2 2 3 1 ...\n",
      " $ motivo_ausente    : logi  NA NA NA NA NA NA ...\n",
      " $ idOrganizaciones  : num  20 20 20 20 20 20 20 20 20 20 ...\n",
      " $ ddivision         : chr  \"B\" \"A\" \"A\" \"U\" ...\n",
      " $ Nivel             : num  2 2 2 2 2 2 2 2 2 2 ...\n",
      " $ esMultianio       : chr  \"N\" \"N\" \"N\" \"N\" ...\n",
      " $ IdModEnsenanza    : num  5 5 5 5 5 5 5 5 5 5 ...\n",
      " $ Modalidad         : Factor w/ 5 levels \"Inicial\",\"NULL\",..: 3 3 3 3 3 3 3 3 3 3 ...\n",
      " $ ModEnseñanza      : Factor w/ 8 levels \"Adultos\",\"Agrotécnica\",..: 3 3 3 3 3 3 3 3 3 3 ...\n",
      " $ AñoCursado        : num  3 1 1 1 1 1 1 1 3 4 ...\n"
     ]
    }
   ],
   "source": [
    "str(dataset_rename_curso)"
   ]
  },
  {
   "cell_type": "code",
   "execution_count": 13,
   "id": "e2c4b58a",
   "metadata": {},
   "outputs": [
    {
     "name": "stdout",
     "output_type": "stream",
     "text": [
      "Classes 'tbl_df', 'tbl' and 'data.frame':\t485086 obs. of  13 variables:\n",
      " $ CUE               : num  6e+06 6e+06 6e+06 6e+06 6e+06 ...\n",
      " $ EsPrivada         : logi  FALSE FALSE FALSE FALSE FALSE FALSE ...\n",
      " $ turno             : Factor w/ 8 levels \"COMPLETO\",\"DIURNO\",..: 7 7 7 7 7 7 7 7 7 4 ...\n",
      " $ periodoEvaluatorio: chr  \"Tercer Trimestre\" \"Segundo Trimestre\" \"Segundo Trimestre\" \"Segundo Trimestre\" ...\n",
      " $ Documento         : num  53360157 55445296 55243932 54712732 55445366 ...\n",
      " $ año               : num  2022 2022 2022 2022 2022 ...\n",
      " $ asignatura        : chr  \"LENGUA\" \"ARTES VISUALES\" \"ARTES VISUALES\" \"ARTES VISUALES\" ...\n",
      " $ nota              : num  6 9 9 7 9 8 9 9 7 6 ...\n",
      " $ NivelEnseñanza    : chr  \"PRIMARIO\" \"PRIMARIO\" \"PRIMARIO\" \"PRIMARIO\" ...\n",
      " $ Nivel             : num  2 2 2 2 2 2 2 2 2 2 ...\n",
      " $ Modalidad         : Factor w/ 5 levels \"Inicial\",\"NULL\",..: 3 3 3 3 3 3 3 3 3 3 ...\n",
      " $ ModEnseñanza      : Factor w/ 8 levels \"Adultos\",\"Agrotécnica\",..: 3 3 3 3 3 3 3 3 3 3 ...\n",
      " $ AñoCursado        : num  3 1 1 1 1 1 1 1 3 4 ...\n"
     ]
    }
   ],
   "source": [
    "dataset_nuevo <- select(dataset_rename_curso, CUE, EsPrivada, turno, periodoEvaluatorio, Documento, año, asignatura, nota, NivelEnseñanza, Nivel, Modalidad, ModEnseñanza, AñoCursado)\n",
    "str(dataset_nuevo)"
   ]
  },
  {
   "cell_type": "markdown",
   "id": "d3ee55bc",
   "metadata": {},
   "source": [
    "## Ahora calculamos el promedio de cada estudiante usando las notas del primer, segundo y tercer trimestre"
   ]
  },
  {
   "cell_type": "code",
   "execution_count": 14,
   "id": "eb5a4ccc",
   "metadata": {},
   "outputs": [],
   "source": [
    "PrimerT <- filter(dataset_nuevo, periodoEvaluatorio==\"Primer Trimestre\")\n",
    "PrimerT <- rename(PrimerT, NotasPrimerT=nota)\n",
    "\n",
    "SegundoT <- filter(dataset_nuevo, periodoEvaluatorio==\"Segundo Trimestre\")\n",
    "SegundoT <- rename(SegundoT, NotasSegundoT=nota)\n",
    "\n",
    "TercerT <- filter(dataset_nuevo, periodoEvaluatorio==\"Tercer Trimestre\")\n",
    "TercerT <- rename(TercerT, NotasTercerT=nota)"
   ]
  },
  {
   "cell_type": "code",
   "execution_count": 15,
   "id": "4525012f",
   "metadata": {},
   "outputs": [],
   "source": [
    "dataset_merge_trimestres <- merge(x = PrimerT, y = SegundoT, by = c(\"Documento\", \"asignatura\"))\n",
    "dataset_merge_trimestres <- merge(x = dataset_merge_trimestres, y = TercerT, by = c(\"Documento\", \"asignatura\"))\n",
    "dataset_notas <- select(dataset_merge_trimestres, CUE, EsPrivada, turno, periodoEvaluatorio, Documento, año, asignatura, NivelEnseñanza, Nivel, Modalidad, ModEnseñanza, AñoCursado, NotasPrimerT, NotasSegundoT, NotasTercerT)"
   ]
  },
  {
   "cell_type": "code",
   "execution_count": 16,
   "id": "89ef3edf",
   "metadata": {},
   "outputs": [],
   "source": [
    "dataset_notas_promedio <- mutate(dataset_notas, Promedio = (NotasPrimerT+NotasSegundoT+NotasTercerT)/3)"
   ]
  },
  {
   "cell_type": "markdown",
   "id": "251c1590",
   "metadata": {},
   "source": [
    "## A partir del promedio, sabremos la condición final para la materia"
   ]
  },
  {
   "cell_type": "code",
   "execution_count": 17,
   "id": "ed27e093",
   "metadata": {},
   "outputs": [],
   "source": [
    "dataset_condicion_final <- mutate(dataset_notas_promedio, CondicionFinal = case_when(\n",
    "    Promedio < 6 ~ \"DESAPROBADO\", \n",
    "    Promedio >= 6 ~ \"APROBADO\",\n",
    "    TRUE ~ \"SIN DATOS\"))"
   ]
  },
  {
   "cell_type": "code",
   "execution_count": 18,
   "id": "f930532a",
   "metadata": {},
   "outputs": [
    {
     "data": {
      "text/plain": [
       " APROBADO DESAPROBADO SIN DATOS\n",
       "                               \n",
       "   175603       27518      8659"
      ]
     },
     "metadata": {},
     "output_type": "display_data"
    }
   ],
   "source": [
    "ftable(dataset_condicion_final$CondicionFinal)"
   ]
  },
  {
   "cell_type": "markdown",
   "id": "007a96e0",
   "metadata": {},
   "source": [
    "## La cantidad de filas con notas mal cargadas es de 8659. Esto representa un 4.26% de las notas cargadas, por lo que no consideramos que sea significativa la cantidad de notas mal cargadas."
   ]
  },
  {
   "cell_type": "markdown",
   "id": "b8999f8e",
   "metadata": {},
   "source": [
    "## Ahora veremos las distribuciones entre las diferentes variables"
   ]
  },
  {
   "cell_type": "markdown",
   "id": "61245926",
   "metadata": {},
   "source": [
    "### Por modalidad de enseñanza:"
   ]
  },
  {
   "cell_type": "code",
   "execution_count": 19,
   "id": "0d6e03f2",
   "metadata": {
    "scrolled": false
   },
   "outputs": [
    {
     "data": {
      "text/plain": [
       " Inicial NULL Primaria Secundaria Secundaria 3 años\n",
       "                                                   \n",
       "       1    9     5336       5600               397"
      ]
     },
     "metadata": {},
     "output_type": "display_data"
    }
   ],
   "source": [
    "ftable((dataset_condicion_final %>% distinct(Documento, .keep_all = TRUE))$Modalidad)"
   ]
  },
  {
   "cell_type": "markdown",
   "id": "8f0fc904",
   "metadata": {},
   "source": [
    "### Por turno"
   ]
  },
  {
   "cell_type": "code",
   "execution_count": 20,
   "id": "52d95df9",
   "metadata": {
    "scrolled": true
   },
   "outputs": [
    {
     "data": {
      "text/plain": [
       " COMPLETO DIURNO INTERMEDIO MAÑANA NOCHE ROTATIVO TARDE VESPERTINO\n",
       "                                                                  \n",
       "      112     78          2   5777   766      155  4391         62"
      ]
     },
     "metadata": {},
     "output_type": "display_data"
    }
   ],
   "source": [
    "ftable((dataset_condicion_final %>% distinct(Documento, .keep_all = TRUE))$turno)"
   ]
  },
  {
   "cell_type": "markdown",
   "id": "3ebc16cb",
   "metadata": {},
   "source": [
    "## Ahora vemos por turno pero tomando en cuenta si es secundaria o primaria:"
   ]
  },
  {
   "cell_type": "code",
   "execution_count": 21,
   "id": "b1131de8",
   "metadata": {
    "scrolled": true
   },
   "outputs": [
    {
     "data": {
      "text/plain": [
       "            Inicial NULL Primaria Secundaria Secundaria 3 años\n",
       "                                                              \n",
       "COMPLETO          0    0      112          0                 0\n",
       "DIURNO            0    0        0         78                 0\n",
       "INTERMEDIO        0    0        2          0                 0\n",
       "MAÑANA            1    2     2004       3755                15\n",
       "NOCHE             0    0        0        387               379\n",
       "ROTATIVO          0    0      142         13                 0\n",
       "TARDE             0    7     3076       1305                 3\n",
       "VESPERTINO        0    0        0         62                 0"
      ]
     },
     "metadata": {},
     "output_type": "display_data"
    }
   ],
   "source": [
    "ftable((dataset_condicion_final %>% distinct(Documento, .keep_all = TRUE))$turno,\n",
    "       (dataset_condicion_final %>% distinct(Documento, .keep_all = TRUE))$Modalidad)"
   ]
  },
  {
   "cell_type": "markdown",
   "id": "3c230ece",
   "metadata": {},
   "source": [
    "## Ahora veremos la distribución entre público y privado dependiendo del nivel de enseñanza"
   ]
  },
  {
   "cell_type": "code",
   "execution_count": 22,
   "id": "b5e99b38",
   "metadata": {},
   "outputs": [
    {
     "data": {
      "text/plain": [
       "       Inicial NULL Primaria Secundaria Secundaria 3 años\n",
       "                                                         \n",
       "FALSE        1    9     4716       4808               397\n",
       "TRUE         0    0      620        792                 0"
      ]
     },
     "metadata": {},
     "output_type": "display_data"
    }
   ],
   "source": [
    "ftable((dataset_condicion_final %>% distinct(Documento, .keep_all = TRUE))$EsPrivada,\n",
    "       (dataset_condicion_final %>% distinct(Documento, .keep_all = TRUE))$Modalidad)"
   ]
  },
  {
   "cell_type": "markdown",
   "id": "69ae4ebd",
   "metadata": {},
   "source": [
    "## Separamos el dataset en primaria y secundaria"
   ]
  },
  {
   "cell_type": "code",
   "execution_count": 23,
   "id": "292c4bce",
   "metadata": {
    "scrolled": false
   },
   "outputs": [
    {
     "data": {
      "text/plain": [
       "                   Adultos Agrotécnica  Comun Ed.Especial Escuelas NINA Formacion Profesional   NULL Técnica\n",
       "                                                                                                            \n",
       "Inicial                  0           0      0           0             0                     0      0       0\n",
       "NULL                     0           0      0           0             0                     0      0       0\n",
       "Primaria                 0           0      0           0             0                     0      0       0\n",
       "Secundaria               0        3842 138377           0             0                     0      0   12721\n",
       "Secundaria 3 años        0           0      0           0             0                     0      0       0"
      ]
     },
     "metadata": {},
     "output_type": "display_data"
    }
   ],
   "source": [
    "dataset_primaria <- filter(dataset_condicion_final, ModEnseñanza == \"Comun\" & Modalidad == \"Primaria\")\n",
    "dataset_secundaria <- filter(dataset_condicion_final, (ModEnseñanza == \"Comun\" | ModEnseñanza == \"Técnica\" | ModEnseñanza == \"Agrotécnica\") & Modalidad == \"Secundaria\")\n",
    "ftable(dataset_secundaria$Modalidad, dataset_secundaria$ModEnseñanza)"
   ]
  },
  {
   "cell_type": "markdown",
   "id": "450936bc",
   "metadata": {},
   "source": [
    "## Tomamos solamente el año 2022 para cada dataset"
   ]
  },
  {
   "cell_type": "code",
   "execution_count": 24,
   "id": "99e5e5ec",
   "metadata": {},
   "outputs": [],
   "source": [
    "dataset_primaria_2022 <- filter(dataset_primaria, año == 2022)\n",
    "dataset_secundaria_2022 <- filter(dataset_secundaria, año == 2022)"
   ]
  },
  {
   "cell_type": "code",
   "execution_count": 25,
   "id": "414b1cb0",
   "metadata": {},
   "outputs": [
    {
     "data": {
      "text/plain": [
       " Acompañamiento al Estudio ACOMPAÑAMIENTO AL ESTUDIO ARTES VISUALES Catequesis CIENCIAS NATURALES CIENCIAS SOCIALES Educación Agropecuaria EDUCACION FISICA EDUCACIÓN FÍSICA EDUCACION MUSICAL EDUCACIÓN MUSICAL EDUCACION TECNOLOGICA EDUCACIÓN TECNOLÓGICA EDUCACUÓN FÍSICA IDIOMA EXTRANJERO IDIOMA EXTRANJERO INGLES ingles INGLES Inglés LENGUA MATEMATICA Música Creatividad y comunicación Talle Tic Taller Acompañamiento al estudio Taller Acompañamiento al Estudio Taller Arte Taller Artes visuales Taller Danzarte Taller de Aceleración Taller de Acompañamiento al Estudio Taller de Artes Visuales TALLER DE ARTES VISUALES TALLER DE DEPORTE TALLER DE HUERTA Taller de Idioma Extranjero-Inglés Taller de idioma Inglés Taller de Ingles Taller de inglés Taller de Inglés TALLER DE INGLÉS Taller de JC Taller de Percusión Taller de Teatro Taller de TIC TALLER DE TIC Taller Deporte Taller Idioma Ingles Taller Inglés Taller Jugando con las Emociones Taller Lengua Extranjera Inglés Taller Marroquineria Taller Percusión\n",
       "                                                                                                                                                                                                                                                                                                                                                                                                                                                                                                                                                                                                                                                                                                                                                                                                                                                                                                                                                                                                                                                    \n",
       "                        13                       227           5111        392               5154              5200                    101             5095               18              5051                31                  5011                    31               13               600                      158     38     96     17   5232       5212                                15        71                               56                               29          71                    54              71                     3                                  53                       28                      129                58               73                                 33                      84               43               17               16               32          101                  25               83            81           127             60                   71            66                               82                             109                   56               45"
      ]
     },
     "metadata": {},
     "output_type": "display_data"
    }
   ],
   "source": [
    "ftable(dataset_primaria_2022$asignatura)"
   ]
  },
  {
   "cell_type": "markdown",
   "id": "52ebc90a",
   "metadata": {},
   "source": [
    "## Acondicionamos los nombres de las asignaturas de primaria para que queden homogeneas"
   ]
  },
  {
   "cell_type": "code",
   "execution_count": 26,
   "id": "149c14f0",
   "metadata": {},
   "outputs": [
    {
     "data": {
      "text/plain": [
       "\n",
       "              TALLER DE ACELERACIÓN   MÚSICA CREATIVIDAD Y COMUNICACIÓN \n",
       "                                  3                                  15 \n",
       "                TALLER DE PERCUSIÓN                   EDUCACIÓN MUSICAL \n",
       "                                 25                                  31 \n",
       "              EDUCACIÓN TECNOLÓGICA                    TALLER PERCUSIÓN \n",
       "                                 31                                  45 \n",
       "TALLER DE ACOMPAÑAMIENTO AL ESTUDIO               TALLER ARTES VISUALES \n",
       "                                 53                                  54 \n",
       "               TALLER MARROQUINERIA                   TALLER DE DEPORTE \n",
       "                                 56                                  58 \n",
       "                     TALLER DEPORTE                           TALLE TIC \n",
       "                                 60                                  71 \n",
       "                        TALLER ARTE                     TALLER DANZARTE \n",
       "                                 71                                  71 \n",
       "                   TALLER DE HUERTA    TALLER JUGANDO CON LAS EMOCIONES \n",
       "                                 73                                  82 \n",
       "                   TALLER DE TEATRO    TALLER ACOMPAÑAMIENTO AL ESTUDIO \n",
       "                                 83                                  85 \n",
       "             EDUCACIÓN AGROPECUARIA                        TALLER DE JC \n",
       "                                101                                 101 \n",
       "           TALLER DE ARTES VISUALES                       TALLER DE TIC \n",
       "                                157                                 208 \n",
       "          ACOMPAÑAMIENTO AL ESTUDIO                          CATEQUESIS \n",
       "                                240                                 392 \n",
       "                  IDIOMA EXTRANJERO                              INGLÉS \n",
       "                                600                                 780 \n",
       "              EDUCACION TECNOLOGICA                   EDUCACION MUSICAL \n",
       "                               5011                                5051 \n",
       "                     ARTES VISUALES                    EDUCACIÓN FÍSICA \n",
       "                               5111                                5126 \n",
       "                 CIENCIAS NATURALES                   CIENCIAS SOCIALES \n",
       "                               5154                                5200 \n",
       "                         MATEMÁTICA                              LENGUA \n",
       "                               5212                                5232 "
      ]
     },
     "metadata": {},
     "output_type": "display_data"
    }
   ],
   "source": [
    "# Pasamos todo a mayúsculas\n",
    "dataset_primaria_2022_asignatura <- mutate(dataset_primaria_2022, asignatura = str_to_upper(dataset_primaria_2022$asignatura, locale=\"es\"))\n",
    "\n",
    "# Matemática\n",
    "dataset_primaria_2022_asignatura <- mutate(dataset_primaria_2022_asignatura, asignatura = str_replace_all(dataset_primaria_2022_asignatura$asignatura, \".*MATEM[ÁA]TICAS?\", \"MATEMÁTICA\"))\n",
    "# Inglés\n",
    "dataset_primaria_2022_asignatura <- mutate(dataset_primaria_2022_asignatura, asignatura = str_replace_all(dataset_primaria_2022_asignatura$asignatura, \".*INGL[ÉE]S\", \"INGLÉS\"))\n",
    "# Educación física\n",
    "dataset_primaria_2022_asignatura <- mutate(dataset_primaria_2022_asignatura, asignatura = str_replace_all(dataset_primaria_2022_asignatura$asignatura, \".+F[IÍ]SICA\", \"EDUCACIÓN FÍSICA\"))\n",
    "sort(table(dataset_primaria_2022_asignatura$asignatura))"
   ]
  },
  {
   "cell_type": "code",
   "execution_count": 27,
   "id": "fa0a3b92",
   "metadata": {},
   "outputs": [
    {
     "data": {
      "text/plain": [
       "\n",
       "                     CIENCIAS NATURALES FISICA  QUIMICA \n",
       "                                                      1 \n",
       "                        PRODUCCION DE PLANTAS DE VIVERO \n",
       "                                                      1 \n",
       "                                           CONTABILIDAD \n",
       "                                                      2 \n",
       "                                                 DIBUJO \n",
       "                                                      2 \n",
       "                                    DIBUJO Y CARICATURA \n",
       "                                                      2 \n",
       "                        ETICA Y DEONTOLOGIA PROFESIONAL \n",
       "                                                      2 \n",
       "                                                 Inglés \n",
       "                                                      2 \n",
       "                            LENGUA EXTRANJERA (FRANCES) \n",
       "                                                      2 \n",
       "                       SOCIOLOGIA DE LAS ORGANIZACIONES \n",
       "                                                      2 \n",
       "         TALLER EXPERIMENTAL DE PRODUCCIONES VISUALES I \n",
       "                                                      2 \n",
       "        TALLER EXPERIMENTAL DE PRODUCCIONES VISUALES II \n",
       "                                                      2 \n",
       "                                       DIBUJO ARTISTICO \n",
       "                                                      3 \n",
       "                                Taller de idioma Inglés \n",
       "                                                      3 \n",
       "          TALLER EXPERIMENTAL DE PRODUCCIONES DIGITALES \n",
       "                                                      3 \n",
       "       TALLER EXPERIMENTAL DE PRODUCCIONES VISUALES III \n",
       "                                                      3 \n",
       "                                             Catequesis \n",
       "                                                      4 \n",
       "                                       TALLER DEL COLOR \n",
       "                                                      4 \n",
       "                                              Talle Tic \n",
       "                                                      5 \n",
       "                       Taller Acompañamiento al estudio \n",
       "                                                      5 \n",
       "                                            Taller Arte \n",
       "                                                      5 \n",
       "                                        Taller Danzarte \n",
       "                                                      5 \n",
       "                                         Taller Deporte \n",
       "                                                      5 \n",
       "                                   Taller Idioma Ingles \n",
       "                                                      5 \n",
       "                                   Taller Marroquineria \n",
       "                                                      5 \n",
       "        CULTURAS Y ESTETICAS CONTEMPORANEAS I, II y III \n",
       "                                                      6 \n",
       "                                           BROMATOLOGIA \n",
       "                                                      8 \n",
       "                         DIBUJO Y COMPOSICION VISUAL II \n",
       "                                                      8 \n",
       "                                    EMPRESAS TURISTICAS \n",
       "                                                      8 \n",
       "                                      HISTORIA APLICADA \n",
       "                                                      8 \n",
       "                     HISTORIA SOCIOCULTURAL DEL ARTE II \n",
       "                                                      8 \n",
       "                                              MARKETING \n",
       "                                                      8 \n",
       "                                   PRACTICA PROFESIONAL \n",
       "                                                      8 \n",
       "                                    QUIMICA APLICADA II \n",
       "                                                      8 \n",
       "                                TALLER DE PRODUCCION II \n",
       "                                                      8 \n",
       "                        LENGUAJE Y PRODUCCION MUSICAL I \n",
       "                                                      9 \n",
       "                         LENGUAJE Y PRODUCCION VISUAL I \n",
       "                                                      9 \n",
       "                                                 TEATRO \n",
       "                                                      9 \n",
       "                                      IDIOMA EXTRANJERO \n",
       "                                                     10 \n",
       "                                  TALLER DE GASTRONOMIA \n",
       "                                                     10 \n",
       "                 TECNOLOGIA DE LOS PROCESOS PRODUCTIVOS \n",
       "                                                     10 \n",
       "         PRODUCCION MULTIMEDIAL EN LENGUAJES ARTISTICOS \n",
       "                                                     11 \n",
       "                               TALLER DE PRODUCCION III \n",
       "                                                     11 \n",
       "     TRABAJO PRACTICO ESTATICA Y RESISTENCIA MATERIALES \n",
       "                                                     13 \n",
       "                                 TALLER DE PRODUCCION I \n",
       "                                                     14 \n",
       "                              CIENCIAS NATURALES FISICO \n",
       "                                                     16 \n",
       "                        PROYECTO PRODUCTIVO TECNOLOGICO \n",
       "                                                     16 \n",
       "                              TALLER DE LA ESPECIALIDAD \n",
       "                                                     16 \n",
       "                         TECNICA DE LA COMERCIALIZACION \n",
       "                                                     16 \n",
       "         ACT ESP - SISTEMAS ADMINISTRATIVOS CONTABLES I \n",
       "                                                     17 \n",
       "                                         CONTABILIDAD I \n",
       "                                                     17 \n",
       "                                        CONTABILIDAD II \n",
       "                                                     17 \n",
       "                                   DIRECCION EMPRESARIA \n",
       "                                                     17 \n",
       "                                 ESTUDIO DE PRODUCTOS I \n",
       "                                                     17 \n",
       "                                    GEOGRAFIA ARGENTINA \n",
       "                                                     17 \n",
       "                 HISTORIA DE LA INDUSTRIA Y EL COMERCIO \n",
       "                                                     17 \n",
       "                           PRINCIPIOS DEL DERECHO USUAL \n",
       "                                                     17 \n",
       "                                     PSICOLOGIA GENERAL \n",
       "                                                     17 \n",
       "        ACT ESP - NOCIONES DE ADMINISTRACION FINANCIERA \n",
       "                                                     18 \n",
       "                                   ESTADISTICA APLICADA \n",
       "                                                     18 \n",
       "                             INTERPRETACION DE BALANCES \n",
       "                                                     18 \n",
       "                           ACT ESP - INGLES TECNICO III \n",
       "                                                     19 \n",
       "            ACT ESP - INV Y ANALISIS DE MICRO Y MACROEC \n",
       "                                                     19 \n",
       "                                                 COSTOS \n",
       "                                                     19 \n",
       "                                         DERECHO SOCIAL \n",
       "                                                     19 \n",
       "                 DIRECCION Y ADMINISTRACION DE PERSONAL \n",
       "                                                     19 \n",
       "                               INVESTIGACION DE MERCADO \n",
       "                                                     19 \n",
       "                       ORGANIZACION DE LA PRODUCCION II \n",
       "                                                     19 \n",
       "                                     STE - ELECTRICIDAD \n",
       "                                                     19 \n",
       "                             TECNICA BANCARIA Y SEGUROS \n",
       "                                                     19 \n",
       "                            TEORIA Y TECNICA IMPOSITIVA \n",
       "                                                     19 \n",
       "          TRABAJOS PRACTICOS DE ESTATICA Y RES. DE MAT. \n",
       "                                                     19 \n",
       "                                        VISITA DE OBRAS \n",
       "                                                     19 \n",
       "        ACT ESP - SISTEMAS ADMINISTRATIVOS CONTABLES II \n",
       "                                                     20 \n",
       "                                   EDI QUIMICA APLICADA \n",
       "                                                     20 \n",
       "                                  EDI: EDUCACION FISICA \n",
       "                                                     20 \n",
       "                               EDI: MATEMATICA APLICADA \n",
       "                                                     20 \n",
       "                                  ELEMENTOS DE ECONOMIA \n",
       "                                                     20 \n",
       "                                ESTUDIO DE PRODUCTOS II \n",
       "                                                     20 \n",
       "                          GEOGRAFIA ECONOMICA ARGENTINA \n",
       "                                                     20 \n",
       "          HISTORIA DE LA CULTURA Y LAS INST. ARGENTINAS \n",
       "                                                     20 \n",
       "                         INSTALACIONES ELECTROMECANICAS \n",
       "                                                     20 \n",
       "                         LENGUA EXTRANJERA III (INGLES) \n",
       "                                                     20 \n",
       "                                     MATEMATICA TECNICA \n",
       "                                                     20 \n",
       "                        ORGANIZACION DE LA PRODUCCION I \n",
       "                                                     20 \n",
       "                           PRODUCCION BOVINO PARA CARNE \n",
       "                                                     20 \n",
       "                                 PRODUCCION DE FORRAJES \n",
       "                                                     20 \n",
       "                                  PSICOLOGIA INDUSTRIAL \n",
       "                                                     20 \n",
       "                                  TECNOLOGIA DE CONTROL \n",
       "                                                     20 \n",
       "                   ADMINISTRACION Y CONDUCCION DE OBRAS \n",
       "                                                     22 \n",
       "                                COMPUTOS Y PRESUPUESTOS \n",
       "                                                     22 \n",
       "                                 INSTALACIONES TERMICAS \n",
       "                                                     22 \n",
       "LABORATORIO DEL COLOR E INVESTIGACION DE LOS MATERIALES \n",
       "                                                     22 \n",
       "                                       OBRAS SANITARIAS \n",
       "                                                     22 \n",
       "                                         PROYECTO FINAL \n",
       "                                                     22 \n",
       "                                            PROYECTO II \n",
       "                                                     22 \n",
       "                              TOPOGRAFIA Y OBRAS VIALES \n",
       "                                                     22 \n",
       "                                          ELECTROTECNIA \n",
       "                                                     23 \n",
       "                                       MECANICA TECNICA \n",
       "                                                     23 \n",
       "                                           TECNOLOGIA I \n",
       "                                                     23 \n",
       "                                           COMUNICACION \n",
       "                                                     24 \n",
       "                                       EDI: INFORMATICA \n",
       "                                                     24 \n",
       "                                            INFORMATICA \n",
       "                                                     24 \n",
       "                          LENGUA EXTRANJERA II (INGLES) \n",
       "                                                     24 \n",
       "                                   PRODUCCION DE CERDOS \n",
       "                                                     24 \n",
       "                                   PRODUCCION HORTICOLA \n",
       "                                                     24 \n",
       "                          DIBUJO Y COMPOSICION VISUAL I \n",
       "                                                     25 \n",
       "           LABORATORIO DE ENSAYOS DE MAQUINAS Y MOTORES \n",
       "                                                     27 \n",
       "                  MANTENIMIENTO Y REPARACION DE EQUIPOS \n",
       "                                                     27 \n",
       "                                      MAQUINAS TERMICAS \n",
       "                                                     27 \n",
       "                      ORGANIZACION Y CONTROL INDUSTRIAL \n",
       "                                                     27 \n",
       "        PROYECTO, UNIDADES E INSTALACIONES INDUSTRIALES \n",
       "                                                     27 \n",
       "                                         TECNOLOGIA III \n",
       "                                                     27 \n",
       "                      HISTORIA SOCIOCULTURAL DEL ARTE I \n",
       "                                                     28 \n",
       "             MARCO JURIDICO DE LOS PROCESOS PRODUCTIVOS \n",
       "                                                     28 \n",
       "                      HIDRAULICA Y MAQUINAS HIDRAULICAS \n",
       "                                                     29 \n",
       "                                          TERMODINAMICA \n",
       "                                                     29 \n",
       "                                 CEREALES Y OLEAGINOSAS \n",
       "                                                     30 \n",
       "                   FORMULACION DE PROYECTOS PRODUCTIVOS \n",
       "                                                     30 \n",
       "                                INDUSTRIA CARNE PORCINA \n",
       "                                                     30 \n",
       "       INDUSTRIA DE PROD. LACTEOS DE O BOVINO O CAPRINO \n",
       "                                                     30 \n",
       "                                LEGISLACION DEL TRABAJO \n",
       "                                                     30 \n",
       "       ORGANIZACION Y GESTION DE EMPRESAS AGROPECUARIAS \n",
       "                                                     30 \n",
       "                                     PRODUCCION DE AVES \n",
       "                                                     30 \n",
       "                                    PRODUCCION FORESTAL \n",
       "                                                     30 \n",
       "                                  TECNOLOGIA DE GESTION \n",
       "                                                     30 \n",
       "                                     DIBUJO DE MAQUINAS \n",
       "                                                     31 \n",
       "                    LABORATORIO DE ENSAYOS INDUSTRIALES \n",
       "                                                     31 \n",
       "                     MECANICA APLICADA A LOS MECANISMOS \n",
       "                                                     31 \n",
       "         RESISTENCIA Y CALCULO DE ELEMENTOS DE MAQUINAS \n",
       "                                                     31 \n",
       "                                          TECNOLOGIA II \n",
       "                                                     31 \n",
       "                    TRABAJO PRACTICO DE LA ESPECIALIDAD \n",
       "                                                     32 \n",
       "                                         ARQUITECTURA I \n",
       "                                                     33 \n",
       "                                        ARQUITECTURA II \n",
       "                                                     33 \n",
       "                   ESTATICA Y RESISTENCIA DE MATERIALES \n",
       "                                                     33 \n",
       "                             MATERIALES DE CONSTRUCCION \n",
       "                                                     33 \n",
       "                                             PROYECTO I \n",
       "                                                     33 \n",
       "                           TECNOLOGIA DE LOS MATERIALES \n",
       "                                                     33 \n",
       "                         CONSTRUCCIONES COMPLEMENTARIAS \n",
       "                                                     34 \n",
       "            CONSTRUCCIONES DE ALBAÑILERIA Y FUNDACIONES \n",
       "                                                     34 \n",
       "                   CONSTRUCCIONES METALICAS Y DE MADERA \n",
       "                                                     34 \n",
       "                   DESARROLLO DE LOCALIDADES TURISTICAS \n",
       "                                                     34 \n",
       "             INFRAESTRUCTURA TURISTICA Y TURISMO TERMAL \n",
       "                                                     34 \n",
       "                                     TALLER GASTRONOMIA \n",
       "                                                     34 \n",
       "               TRABAJOS PRACTICOS CALCULO DE ESTRUCTURA \n",
       "                                                     34 \n",
       "                  TRABAJOS PRACTICOS DE LA ESPECIALIDAD \n",
       "                                                     34 \n",
       "                      CONSTRUCCIONES DE HORMIGON ARMADO \n",
       "                                                     35 \n",
       "      CIENCIAS NATURALES APLICADAS A PRO. AGROPECUARIOS \n",
       "                                                     37 \n",
       "                                      CIENCIAS SOCIALES \n",
       "                                                     37 \n",
       "                            INSTALACIONES AGROPECUARIAS \n",
       "                                                     37 \n",
       "                           LENGUA EXTRANJERA I (INGLES) \n",
       "                                                     37 \n",
       "                                     MAQUINAS Y EQUIPOS \n",
       "                                                     37 \n",
       "                                   PROCESOS PRODUCTIVOS \n",
       "                                                     37 \n",
       "                        PRODUCCION DE PLANTAS EN VIVERO \n",
       "                                                     37 \n",
       "                                             DISCIP AUX \n",
       "                                                     38 \n",
       "                         LEGISLACION DE LA CONSTRUCCION \n",
       "                                                     39 \n",
       "                                     CIENCIAS NATURALES \n",
       "                                                     40 \n",
       "                                      EDUCACION MUSICAL \n",
       "                                                     40 \n",
       "                                                 LENGUA \n",
       "                                                     40 \n",
       "                         SEGURIDAD E HIGIENE INDUSTRIAL \n",
       "                                                     42 \n",
       "                                     RELACIONES HUMANAS \n",
       "                                                     48 \n",
       "                                INTRODUCCION AL TURISMO \n",
       "                                                     50 \n",
       "                                       QUIMICA APLICADA \n",
       "                                                     54 \n",
       "                                                ACT ESP \n",
       "                                                     56 \n",
       "                         INTRODUCCION A LA HOSPITALIDAD \n",
       "                                                     61 \n",
       "                                    ANALISIS MATEMATICO \n",
       "                                                     68 \n",
       "                                      PRACTICA CONTABLE \n",
       "                                                     68 \n",
       "                            CIRCUITOS TURISTICOS I y II \n",
       "                                                     74 \n",
       "  INTRODUCCION A LA INVESTIGACION EN CIENCIAS NATURALES \n",
       "                                                     74 \n",
       "                           Practicas Profesionalizantes \n",
       "                                                     74 \n",
       "                                                 TALLER \n",
       "                                                     77 \n",
       "                                CIENCIAS DE LA TIERRA I \n",
       "                                                     95 \n",
       "                                               ECOLOGIA \n",
       "                                                    105 \n",
       "                                                DERECHO \n",
       "                                                    114 \n",
       "                                            ECONOMIA II \n",
       "                                                    116 \n",
       "                        METODOLOGIA DE LA INVESTIGACION \n",
       "                                                    138 \n",
       "                                          MACROECONOMIA \n",
       "                                                    139 \n",
       "                        SISTEMA DE INFORMACION CONTABLE \n",
       "                                                    139 \n",
       "                                      DERECHO COMERCIAL \n",
       "                                                    140 \n",
       "              LEGISLACION LABORAL Y PRACTICA IMPOSITIVA \n",
       "                                                    140 \n",
       "                      SECTOR DE TECNOLOGIAS ESPECIFICAS \n",
       "                                                    141 \n",
       "                                           FILOSOFIA II \n",
       "                                                    147 \n",
       "                                                    STE \n",
       "                                                    148 \n",
       "                                          MICROECONOMIA \n",
       "                                                    149 \n",
       "                                             SOCIOLOGIA \n",
       "                                                    149 \n",
       "                     PRINCIPIOS BASICOS DE CONTABILIDAD \n",
       "                                                    151 \n",
       "         TECNOLOGIA DE LA INFORMACION Y LA COMUNICACION \n",
       "                                                    154 \n",
       "                                    GEOGRAFIA AMBIENTAL \n",
       "                                                    156 \n",
       "                       INTRODUCCION A LA ADMINISTRACION \n",
       "                                                    196 \n",
       "               PROYECTO DE PRACTICAS PROFESIONALIZANTES \n",
       "                                                    237 \n",
       "                    CIENCIAS NATURALES (FISICO QUIMICA) \n",
       "                                                    255 \n",
       "                      CIENCIAS NATURALES FISICO-QUIMICA \n",
       "                                                    288 \n",
       "                 TEORIA Y GESTION DE LAS ORGANIZACIONES \n",
       "                                                    291 \n",
       "                          CIENCIAS NATURALES (BIOLOGIA) \n",
       "                                                    329 \n",
       "                            CIENCIAS NATURALES BIOLOGIA \n",
       "                                                    350 \n",
       "                                   LITERATURA ARGENTINA \n",
       "                                                    397 \n",
       "                                   PRACTICAS EDUCATIVAS \n",
       "                                                    401 \n",
       "            TECNOLOGIA DE LA INFORMACION Y COMUNICACION \n",
       "                                                    435 \n",
       "                             LITERATURA LATINOAMERICANA \n",
       "                                                    443 \n",
       "                                              FILOSOFIA \n",
       "                                                    474 \n",
       "                                             PSICOLOGIA \n",
       "                                                    571 \n",
       "                                               ECONOMIA \n",
       "                                                    694 \n",
       "                          CIENCIAS SOCIALES (GEOGRAFIA) \n",
       "                                                    747 \n",
       "                           CIENCIAS SOCIALES (HISTORIA) \n",
       "                                                    760 \n",
       "                                         DIBUJO TECNICO \n",
       "                                                    805 \n",
       "                             LENGUA EXTRANJERA (INGLES) \n",
       "                                                    892 \n",
       "                                                 FISICA \n",
       "                                                   1304 \n",
       "                                                QUIMICA \n",
       "                                                   1337 \n",
       "                                       FISICA Y QUIMICA \n",
       "                                                   2008 \n",
       "                                  EDUCACION TECNOLOGICA \n",
       "                                                   2684 \n",
       "                                                 MUSICA \n",
       "                                                   3878 \n",
       "                                         ARTES VISUALES \n",
       "                                                   3966 \n",
       "                                    LENGUA Y LITERATURA \n",
       "                                                   4054 \n",
       "                                               BIOLOGIA \n",
       "                                                   5268 \n",
       "                                    LENGUAS EXTRANJERAS \n",
       "                                                   5860 \n",
       "                                               HISTORIA \n",
       "                                                   6003 \n",
       "                                              GEOGRAFIA \n",
       "                                                   6163 \n",
       "                                       EDUCACION FISICA \n",
       "                                                   6963 \n",
       "                            FORMACION ETICA Y CIUDADANA \n",
       "                                                   7015 \n",
       "                                             MATEMATICA \n",
       "                                                   7125 "
      ]
     },
     "metadata": {},
     "output_type": "display_data"
    }
   ],
   "source": [
    "sort(table(dataset_secundaria_2022$asignatura))"
   ]
  },
  {
   "cell_type": "markdown",
   "id": "202a8e50",
   "metadata": {},
   "source": [
    "## Ahora haremos lo mismo con el dataset de secundaria"
   ]
  },
  {
   "cell_type": "code",
   "execution_count": 28,
   "id": "3a1b5dd2",
   "metadata": {},
   "outputs": [
    {
     "data": {
      "text/plain": [
       "\n",
       "                     CIENCIAS NATURALES FISICA  QUIMICA \n",
       "                                                      1 \n",
       "                        PRODUCCION DE PLANTAS DE VIVERO \n",
       "                                                      1 \n",
       "                                           CONTABILIDAD \n",
       "                                                      2 \n",
       "                                                 DIBUJO \n",
       "                                                      2 \n",
       "                                    DIBUJO Y CARICATURA \n",
       "                                                      2 \n",
       "                        ETICA Y DEONTOLOGIA PROFESIONAL \n",
       "                                                      2 \n",
       "                            LENGUA EXTRANJERA (FRANCES) \n",
       "                                                      2 \n",
       "                       SOCIOLOGIA DE LAS ORGANIZACIONES \n",
       "                                                      2 \n",
       "         TALLER EXPERIMENTAL DE PRODUCCIONES VISUALES I \n",
       "                                                      2 \n",
       "        TALLER EXPERIMENTAL DE PRODUCCIONES VISUALES II \n",
       "                                                      2 \n",
       "                                       DIBUJO ARTISTICO \n",
       "                                                      3 \n",
       "          TALLER EXPERIMENTAL DE PRODUCCIONES DIGITALES \n",
       "                                                      3 \n",
       "       TALLER EXPERIMENTAL DE PRODUCCIONES VISUALES III \n",
       "                                                      3 \n",
       "                                             CATEQUESIS \n",
       "                                                      4 \n",
       "                                       TALLER DEL COLOR \n",
       "                                                      4 \n",
       "                                              TALLE TIC \n",
       "                                                      5 \n",
       "                       TALLER ACOMPAÑAMIENTO AL ESTUDIO \n",
       "                                                      5 \n",
       "                                            TALLER ARTE \n",
       "                                                      5 \n",
       "                                        TALLER DANZARTE \n",
       "                                                      5 \n",
       "                                         TALLER DEPORTE \n",
       "                                                      5 \n",
       "                                   TALLER MARROQUINERIA \n",
       "                                                      5 \n",
       "        CULTURAS Y ESTETICAS CONTEMPORANEAS I, II Y III \n",
       "                                                      6 \n",
       "                                           BROMATOLOGIA \n",
       "                                                      8 \n",
       "                         DIBUJO Y COMPOSICION VISUAL II \n",
       "                                                      8 \n",
       "                                    EMPRESAS TURISTICAS \n",
       "                                                      8 \n",
       "                                      HISTORIA APLICADA \n",
       "                                                      8 \n",
       "                     HISTORIA SOCIOCULTURAL DEL ARTE II \n",
       "                                                      8 \n",
       "                                              MARKETING \n",
       "                                                      8 \n",
       "                                   PRACTICA PROFESIONAL \n",
       "                                                      8 \n",
       "                                    QUIMICA APLICADA II \n",
       "                                                      8 \n",
       "                                TALLER DE PRODUCCION II \n",
       "                                                      8 \n",
       "                        LENGUAJE Y PRODUCCION MUSICAL I \n",
       "                                                      9 \n",
       "                         LENGUAJE Y PRODUCCION VISUAL I \n",
       "                                                      9 \n",
       "                                                 TEATRO \n",
       "                                                      9 \n",
       "                                      IDIOMA EXTRANJERO \n",
       "                                                     10 \n",
       "                                  TALLER DE GASTRONOMIA \n",
       "                                                     10 \n",
       "                 TECNOLOGIA DE LOS PROCESOS PRODUCTIVOS \n",
       "                                                     10 \n",
       "         PRODUCCION MULTIMEDIAL EN LENGUAJES ARTISTICOS \n",
       "                                                     11 \n",
       "                               TALLER DE PRODUCCION III \n",
       "                                                     11 \n",
       "     TRABAJO PRACTICO ESTATICA Y RESISTENCIA MATERIALES \n",
       "                                                     13 \n",
       "                                 TALLER DE PRODUCCION I \n",
       "                                                     14 \n",
       "                              CIENCIAS NATURALES FISICO \n",
       "                                                     16 \n",
       "                        PROYECTO PRODUCTIVO TECNOLOGICO \n",
       "                                                     16 \n",
       "                              TALLER DE LA ESPECIALIDAD \n",
       "                                                     16 \n",
       "                         TECNICA DE LA COMERCIALIZACION \n",
       "                                                     16 \n",
       "         ACT ESP - SISTEMAS ADMINISTRATIVOS CONTABLES I \n",
       "                                                     17 \n",
       "                                         CONTABILIDAD I \n",
       "                                                     17 \n",
       "                                        CONTABILIDAD II \n",
       "                                                     17 \n",
       "                                   DIRECCION EMPRESARIA \n",
       "                                                     17 \n",
       "                                 ESTUDIO DE PRODUCTOS I \n",
       "                                                     17 \n",
       "                                    GEOGRAFIA ARGENTINA \n",
       "                                                     17 \n",
       "                 HISTORIA DE LA INDUSTRIA Y EL COMERCIO \n",
       "                                                     17 \n",
       "                           PRINCIPIOS DEL DERECHO USUAL \n",
       "                                                     17 \n",
       "                                     PSICOLOGIA GENERAL \n",
       "                                                     17 \n",
       "        ACT ESP - NOCIONES DE ADMINISTRACION FINANCIERA \n",
       "                                                     18 \n",
       "                                   ESTADISTICA APLICADA \n",
       "                                                     18 \n",
       "                             INTERPRETACION DE BALANCES \n",
       "                                                     18 \n",
       "            ACT ESP - INV Y ANALISIS DE MICRO Y MACROEC \n",
       "                                                     19 \n",
       "                                                 COSTOS \n",
       "                                                     19 \n",
       "                                         DERECHO SOCIAL \n",
       "                                                     19 \n",
       "                 DIRECCION Y ADMINISTRACION DE PERSONAL \n",
       "                                                     19 \n",
       "                                      INGLÉSTECNICO III \n",
       "                                                     19 \n",
       "                               INVESTIGACION DE MERCADO \n",
       "                                                     19 \n",
       "                       ORGANIZACION DE LA PRODUCCION II \n",
       "                                                     19 \n",
       "                                     STE - ELECTRICIDAD \n",
       "                                                     19 \n",
       "                             TECNICA BANCARIA Y SEGUROS \n",
       "                                                     19 \n",
       "                            TEORIA Y TECNICA IMPOSITIVA \n",
       "                                                     19 \n",
       "          TRABAJOS PRACTICOS DE ESTATICA Y RES. DE MAT. \n",
       "                                                     19 \n",
       "                                        VISITA DE OBRAS \n",
       "                                                     19 \n",
       "        ACT ESP - SISTEMAS ADMINISTRATIVOS CONTABLES II \n",
       "                                                     20 \n",
       "                                   EDI QUIMICA APLICADA \n",
       "                                                     20 \n",
       "                                  EDI: EDUCACION FISICA \n",
       "                                                     20 \n",
       "                               EDI: MATEMATICA APLICADA \n",
       "                                                     20 \n",
       "                                  ELEMENTOS DE ECONOMIA \n",
       "                                                     20 \n",
       "                                ESTUDIO DE PRODUCTOS II \n",
       "                                                     20 \n",
       "                          GEOGRAFIA ECONOMICA ARGENTINA \n",
       "                                                     20 \n",
       "          HISTORIA DE LA CULTURA Y LAS INST. ARGENTINAS \n",
       "                                                     20 \n",
       "                         INSTALACIONES ELECTROMECANICAS \n",
       "                                                     20 \n",
       "                                     MATEMATICA TECNICA \n",
       "                                                     20 \n",
       "                        ORGANIZACION DE LA PRODUCCION I \n",
       "                                                     20 \n",
       "                           PRODUCCION BOVINO PARA CARNE \n",
       "                                                     20 \n",
       "                                 PRODUCCION DE FORRAJES \n",
       "                                                     20 \n",
       "                                  PSICOLOGIA INDUSTRIAL \n",
       "                                                     20 \n",
       "                                  TECNOLOGIA DE CONTROL \n",
       "                                                     20 \n",
       "                   ADMINISTRACION Y CONDUCCION DE OBRAS \n",
       "                                                     22 \n",
       "                                COMPUTOS Y PRESUPUESTOS \n",
       "                                                     22 \n",
       "                                 INSTALACIONES TERMICAS \n",
       "                                                     22 \n",
       "LABORATORIO DEL COLOR E INVESTIGACION DE LOS MATERIALES \n",
       "                                                     22 \n",
       "                                       OBRAS SANITARIAS \n",
       "                                                     22 \n",
       "                                         PROYECTO FINAL \n",
       "                                                     22 \n",
       "                                            PROYECTO II \n",
       "                                                     22 \n",
       "                              TOPOGRAFIA Y OBRAS VIALES \n",
       "                                                     22 \n",
       "                                          ELECTROTECNIA \n",
       "                                                     23 \n",
       "                                       MECANICA TECNICA \n",
       "                                                     23 \n",
       "                                           TECNOLOGIA I \n",
       "                                                     23 \n",
       "                                           COMUNICACION \n",
       "                                                     24 \n",
       "                                       EDI: INFORMATICA \n",
       "                                                     24 \n",
       "                                            INFORMATICA \n",
       "                                                     24 \n",
       "                                   PRODUCCION DE CERDOS \n",
       "                                                     24 \n",
       "                                   PRODUCCION HORTICOLA \n",
       "                                                     24 \n",
       "                          DIBUJO Y COMPOSICION VISUAL I \n",
       "                                                     25 \n",
       "           LABORATORIO DE ENSAYOS DE MAQUINAS Y MOTORES \n",
       "                                                     27 \n",
       "                  MANTENIMIENTO Y REPARACION DE EQUIPOS \n",
       "                                                     27 \n",
       "                                      MAQUINAS TERMICAS \n",
       "                                                     27 \n",
       "                      ORGANIZACION Y CONTROL INDUSTRIAL \n",
       "                                                     27 \n",
       "        PROYECTO, UNIDADES E INSTALACIONES INDUSTRIALES \n",
       "                                                     27 \n",
       "                                         TECNOLOGIA III \n",
       "                                                     27 \n",
       "                      HISTORIA SOCIOCULTURAL DEL ARTE I \n",
       "                                                     28 \n",
       "             MARCO JURIDICO DE LOS PROCESOS PRODUCTIVOS \n",
       "                                                     28 \n",
       "                      HIDRAULICA Y MAQUINAS HIDRAULICAS \n",
       "                                                     29 \n",
       "                                          TERMODINAMICA \n",
       "                                                     29 \n",
       "                                 CEREALES Y OLEAGINOSAS \n",
       "                                                     30 \n",
       "                   FORMULACION DE PROYECTOS PRODUCTIVOS \n",
       "                                                     30 \n",
       "                                INDUSTRIA CARNE PORCINA \n",
       "                                                     30 \n",
       "       INDUSTRIA DE PROD. LACTEOS DE O BOVINO O CAPRINO \n",
       "                                                     30 \n",
       "                                LEGISLACION DEL TRABAJO \n",
       "                                                     30 \n",
       "       ORGANIZACION Y GESTION DE EMPRESAS AGROPECUARIAS \n",
       "                                                     30 \n",
       "                                     PRODUCCION DE AVES \n",
       "                                                     30 \n",
       "                                    PRODUCCION FORESTAL \n",
       "                                                     30 \n",
       "                                  TECNOLOGIA DE GESTION \n",
       "                                                     30 \n",
       "                                     DIBUJO DE MAQUINAS \n",
       "                                                     31 \n",
       "                    LABORATORIO DE ENSAYOS INDUSTRIALES \n",
       "                                                     31 \n",
       "                     MECANICA APLICADA A LOS MECANISMOS \n",
       "                                                     31 \n",
       "         RESISTENCIA Y CALCULO DE ELEMENTOS DE MAQUINAS \n",
       "                                                     31 \n",
       "                                          TECNOLOGIA II \n",
       "                                                     31 \n",
       "                    TRABAJO PRACTICO DE LA ESPECIALIDAD \n",
       "                                                     32 \n",
       "                                         ARQUITECTURA I \n",
       "                                                     33 \n",
       "                                        ARQUITECTURA II \n",
       "                                                     33 \n",
       "                   ESTATICA Y RESISTENCIA DE MATERIALES \n",
       "                                                     33 \n",
       "                             MATERIALES DE CONSTRUCCION \n",
       "                                                     33 \n",
       "                                             PROYECTO I \n",
       "                                                     33 \n",
       "                           TECNOLOGIA DE LOS MATERIALES \n",
       "                                                     33 \n",
       "                         CONSTRUCCIONES COMPLEMENTARIAS \n",
       "                                                     34 \n",
       "            CONSTRUCCIONES DE ALBAÑILERIA Y FUNDACIONES \n",
       "                                                     34 \n",
       "                   CONSTRUCCIONES METALICAS Y DE MADERA \n",
       "                                                     34 \n",
       "                   DESARROLLO DE LOCALIDADES TURISTICAS \n",
       "                                                     34 \n",
       "             INFRAESTRUCTURA TURISTICA Y TURISMO TERMAL \n",
       "                                                     34 \n",
       "                                     TALLER GASTRONOMIA \n",
       "                                                     34 \n",
       "               TRABAJOS PRACTICOS CALCULO DE ESTRUCTURA \n",
       "                                                     34 \n",
       "                  TRABAJOS PRACTICOS DE LA ESPECIALIDAD \n",
       "                                                     34 \n",
       "                      CONSTRUCCIONES DE HORMIGON ARMADO \n",
       "                                                     35 \n",
       "      CIENCIAS NATURALES APLICADAS A PRO. AGROPECUARIOS \n",
       "                                                     37 \n",
       "                                      CIENCIAS SOCIALES \n",
       "                                                     37 \n",
       "                            INSTALACIONES AGROPECUARIAS \n",
       "                                                     37 \n",
       "                                     MAQUINAS Y EQUIPOS \n",
       "                                                     37 \n",
       "                                   PROCESOS PRODUCTIVOS \n",
       "                                                     37 \n",
       "                        PRODUCCION DE PLANTAS EN VIVERO \n",
       "                                                     37 \n",
       "                                             DISCIP AUX \n",
       "                                                     38 \n",
       "                         LEGISLACION DE LA CONSTRUCCION \n",
       "                                                     39 \n",
       "                                     CIENCIAS NATURALES \n",
       "                                                     40 \n",
       "                                      EDUCACION MUSICAL \n",
       "                                                     40 \n",
       "                                                 LENGUA \n",
       "                                                     40 \n",
       "                         SEGURIDAD E HIGIENE INDUSTRIAL \n",
       "                                                     42 \n",
       "                                     RELACIONES HUMANAS \n",
       "                                                     48 \n",
       "                                INTRODUCCION AL TURISMO \n",
       "                                                     50 \n",
       "                                       QUIMICA APLICADA \n",
       "                                                     54 \n",
       "                                                ACT ESP \n",
       "                                                     56 \n",
       "                         INTRODUCCION A LA HOSPITALIDAD \n",
       "                                                     61 \n",
       "                                    ANALISIS MATEMATICO \n",
       "                                                     68 \n",
       "                                      PRACTICA CONTABLE \n",
       "                                                     68 \n",
       "                            CIRCUITOS TURISTICOS I Y II \n",
       "                                                     74 \n",
       "  INTRODUCCION A LA INVESTIGACION EN CIENCIAS NATURALES \n",
       "                                                     74 \n",
       "                           PRACTICAS PROFESIONALIZANTES \n",
       "                                                     74 \n",
       "                                                 TALLER \n",
       "                                                     77 \n",
       "                                CIENCIAS DE LA TIERRA I \n",
       "                                                     95 \n",
       "                                               ECOLOGIA \n",
       "                                                    105 \n",
       "                                                DERECHO \n",
       "                                                    114 \n",
       "                                            ECONOMIA II \n",
       "                                                    116 \n",
       "                        METODOLOGIA DE LA INVESTIGACION \n",
       "                                                    138 \n",
       "                                          MACROECONOMIA \n",
       "                                                    139 \n",
       "                        SISTEMA DE INFORMACION CONTABLE \n",
       "                                                    139 \n",
       "                                      DERECHO COMERCIAL \n",
       "                                                    140 \n",
       "              LEGISLACION LABORAL Y PRACTICA IMPOSITIVA \n",
       "                                                    140 \n",
       "                      SECTOR DE TECNOLOGIAS ESPECIFICAS \n",
       "                                                    141 \n",
       "                                           FILOSOFIA II \n",
       "                                                    147 \n",
       "                                                    STE \n",
       "                                                    148 \n",
       "                                          MICROECONOMIA \n",
       "                                                    149 \n",
       "                                             SOCIOLOGIA \n",
       "                                                    149 \n",
       "                     PRINCIPIOS BASICOS DE CONTABILIDAD \n",
       "                                                    151 \n",
       "         TECNOLOGIA DE LA INFORMACION Y LA COMUNICACION \n",
       "                                                    154 \n",
       "                                    GEOGRAFIA AMBIENTAL \n",
       "                                                    156 \n",
       "                       INTRODUCCION A LA ADMINISTRACION \n",
       "                                                    196 \n",
       "               PROYECTO DE PRACTICAS PROFESIONALIZANTES \n",
       "                                                    237 \n",
       "                 TEORIA Y GESTION DE LAS ORGANIZACIONES \n",
       "                                                    291 \n",
       "                                   LITERATURA ARGENTINA \n",
       "                                                    397 \n",
       "                                   PRACTICAS EDUCATIVAS \n",
       "                                                    401 \n",
       "            TECNOLOGIA DE LA INFORMACION Y COMUNICACION \n",
       "                                                    435 \n",
       "                             LITERATURA LATINOAMERICANA \n",
       "                                                    443 \n",
       "                                              FILOSOFIA \n",
       "                                                    474 \n",
       "                                             PSICOLOGIA \n",
       "                                                    571 \n",
       "                                               ECONOMIA \n",
       "                                                    694 \n",
       "                                         DIBUJO TECNICO \n",
       "                                                    805 \n",
       "                                                 INGLÉS \n",
       "                                                    983 \n",
       "                                                 FISICA \n",
       "                                                   1304 \n",
       "                                                QUIMICA \n",
       "                                                   1337 \n",
       "                                       FISICA Y QUIMICA \n",
       "                                                   2551 \n",
       "                                  EDUCACION TECNOLOGICA \n",
       "                                                   2684 \n",
       "                                                 MUSICA \n",
       "                                                   3878 \n",
       "                                         ARTES VISUALES \n",
       "                                                   3966 \n",
       "                                    LENGUA Y LITERATURA \n",
       "                                                   4054 \n",
       "                                    LENGUAS EXTRANJERAS \n",
       "                                                   5860 \n",
       "                                               BIOLOGIA \n",
       "                                                   5947 \n",
       "                                               HISTORIA \n",
       "                                                   6763 \n",
       "                                              GEOGRAFIA \n",
       "                                                   6910 \n",
       "                                       EDUCACION FISICA \n",
       "                                                   6963 \n",
       "                            FORMACION ETICA Y CIUDADANA \n",
       "                                                   7015 \n",
       "                                             MATEMATICA \n",
       "                                                   7125 "
      ]
     },
     "metadata": {},
     "output_type": "display_data"
    }
   ],
   "source": [
    "dataset_secundaria_2022_asignatura <- mutate(dataset_secundaria_2022, asignatura = str_to_upper(dataset_secundaria_2022$asignatura, locale=\"es\"))\n",
    "\n",
    "# Biologia\n",
    "dataset_secundaria_2022_asignatura <- mutate(dataset_secundaria_2022_asignatura, asignatura = str_replace_all(dataset_secundaria_2022_asignatura$asignatura, \".+BIOLOGIA.?\", \"BIOLOGIA\"))\n",
    "# Fisica y quimica\n",
    "dataset_secundaria_2022_asignatura <- mutate(dataset_secundaria_2022_asignatura, asignatura = str_replace_all(dataset_secundaria_2022_asignatura$asignatura, \".+FISICO.QUIMICA.?\", \"FISICA Y QUIMICA\"))\n",
    "# Historia\n",
    "dataset_secundaria_2022_asignatura <- mutate(dataset_secundaria_2022_asignatura, asignatura = str_replace_all(dataset_secundaria_2022_asignatura$asignatura, \".+HISTORIA.?\", \"HISTORIA\"))\n",
    "# Geografía\n",
    "dataset_secundaria_2022_asignatura <- mutate(dataset_secundaria_2022_asignatura, asignatura = str_replace_all(dataset_secundaria_2022_asignatura$asignatura, \".+GEOGRAF[IÍ]A.?\", \"GEOGRAFIA\"))\n",
    "# Geografía\n",
    "dataset_secundaria_2022_asignatura <- mutate(dataset_secundaria_2022_asignatura, asignatura = str_replace_all(dataset_secundaria_2022_asignatura$asignatura, \".*INGL[ÉE]S.?\", \"INGLÉS\"))\n",
    "\n",
    "sort(table(dataset_secundaria_2022_asignatura$asignatura))"
   ]
  },
  {
   "cell_type": "markdown",
   "id": "e1367686",
   "metadata": {},
   "source": [
    "## Ahora filtramos por materias troncales"
   ]
  },
  {
   "cell_type": "code",
   "execution_count": 29,
   "id": "745647e4",
   "metadata": {},
   "outputs": [],
   "source": [
    "dataset_primaria_2022_troncales <- filter(dataset_primaria_2022_asignatura, asignatura %in%\n",
    "                                         c(\"CIENCIAS NATURALES\", \"CIENCIAS SOCIALES\", \"MATEMÁTICA\", \"LENGUA\", \n",
    "                                           \"EDUCACIÓN FÍSICA\", \"INGLÉS\"))\n",
    "dataset_secundaria_2022_troncales <- filter(dataset_secundaria_2022_asignatura, asignatura %in%\n",
    "                                           c(\"MATEMATICA\", \"EDUCACION FISICA\", \"GEOGRAFIA\", \"HISTORIA\", \"BIOLOGIA\",\n",
    "                                            \"LENGUA Y LITERATURA\", \"FISICA Y QUIMICA\", \"QUIMICA\", \"FISICA\", \"INGLÉS\"))"
   ]
  },
  {
   "cell_type": "code",
   "execution_count": 30,
   "id": "a8c19ee4",
   "metadata": {},
   "outputs": [
    {
     "data": {
      "text/html": [
       "<ol class=list-inline>\n",
       "\t<li>70641</li>\n",
       "\t<li>17</li>\n",
       "</ol>\n"
      ],
      "text/latex": [
       "\\begin{enumerate*}\n",
       "\\item 70641\n",
       "\\item 17\n",
       "\\end{enumerate*}\n"
      ],
      "text/markdown": [
       "1. 70641\n",
       "2. 17\n",
       "\n",
       "\n"
      ],
      "text/plain": [
       "[1] 70641    17"
      ]
     },
     "metadata": {},
     "output_type": "display_data"
    }
   ],
   "source": [
    "dataset_limpio <- rbind(dataset_primaria_2022_troncales, dataset_secundaria_2022_troncales)\n",
    "dim(dataset_limpio)"
   ]
  },
  {
   "cell_type": "code",
   "execution_count": 31,
   "id": "4a56e52f",
   "metadata": {},
   "outputs": [],
   "source": [
    "#install.packages(\"writexl\")\n",
    "\n",
    "library(writexl)\n",
    "write_xlsx(dataset_limpio, \"./lapaz_troncales_limpio.xlsx\")"
   ]
  },
  {
   "cell_type": "markdown",
   "id": "27804277",
   "metadata": {},
   "source": [
    "## Escuelas totales, primaria y secundaria"
   ]
  },
  {
   "cell_type": "code",
   "execution_count": 32,
   "id": "4a7edb70",
   "metadata": {},
   "outputs": [
    {
     "data": {
      "text/html": [
       "49"
      ],
      "text/latex": [
       "49"
      ],
      "text/markdown": [
       "49"
      ],
      "text/plain": [
       "[1] 49"
      ]
     },
     "metadata": {},
     "output_type": "display_data"
    }
   ],
   "source": [
    "length(unique(dataset_primaria_2022_troncales$CUE))"
   ]
  },
  {
   "cell_type": "code",
   "execution_count": 33,
   "id": "7a8f416c",
   "metadata": {},
   "outputs": [
    {
     "data": {
      "text/html": [
       "22"
      ],
      "text/latex": [
       "22"
      ],
      "text/markdown": [
       "22"
      ],
      "text/plain": [
       "[1] 22"
      ]
     },
     "metadata": {},
     "output_type": "display_data"
    }
   ],
   "source": [
    "length(unique(dataset_secundaria_2022_troncales$CUE))"
   ]
  },
  {
   "cell_type": "code",
   "execution_count": 34,
   "id": "bdd61584",
   "metadata": {},
   "outputs": [
    {
     "data": {
      "text/html": [
       "65"
      ],
      "text/latex": [
       "65"
      ],
      "text/markdown": [
       "65"
      ],
      "text/plain": [
       "[1] 65"
      ]
     },
     "metadata": {},
     "output_type": "display_data"
    }
   ],
   "source": [
    "length(unique(dataset_limpio$CUE))"
   ]
  },
  {
   "cell_type": "code",
   "execution_count": 35,
   "id": "ea2a8569",
   "metadata": {},
   "outputs": [
    {
     "data": {
      "text/plain": [
       "\n",
       "6003786 6002170 6000576 6003816 6002746 6006732 6006256 6005300 6006402 6001922 \n",
       "      7      10      15      20      36      58     388     426     482     638 \n",
       "6001904 6005388 6005384 6002178 6005302 6001912 6002222 6003782 6002172 6002732 \n",
       "    795    1101    1109    1777    1993    2209    2457    2487    2943    4250 \n",
       "6002220 6003776 \n",
       "   5119   15617 "
      ]
     },
     "metadata": {},
     "output_type": "display_data"
    }
   ],
   "source": [
    "sort(table(dataset_secundaria_2022_troncales$CUE))"
   ]
  },
  {
   "cell_type": "code",
   "execution_count": 36,
   "id": "fc9db60d",
   "metadata": {},
   "outputs": [
    {
     "data": {
      "text/plain": [
       "\n",
       "6002138 6002128 6002134 6003792 6006026 6002122 6002124 6002130 6001842 6001846 \n",
       "      4       5       5       5       6      10      10      10      19      20 \n",
       "6001924 6002140 6002142 6001852 6002102 6002120 6001916 6001850 6004014 6002114 \n",
       "     20      20      20      25      25      25      34      35      35      45 \n",
       "6002108 6001840 6001908 6001848 6002104 6001838 6002118 6003778 6002106 6003790 \n",
       "     50      52      55      60      60      81     115     125     174     204 \n",
       "6002744 6000576 6003816 6003780 6005840 6000044 6002750 6003788 6000046 6003758 \n",
       "    290     437     523     566     654     792     803     930    1022    1037 \n",
       "6002746 6002180 6003820 6002170 6002176 6003794 6003786 6002182 6003776 \n",
       "   1120    1348    1417    1893    2102    2127    2604    2724    2961 "
      ]
     },
     "metadata": {},
     "output_type": "display_data"
    }
   ],
   "source": [
    "sort(table(dataset_primaria_2022_troncales$CUE))"
   ]
  },
  {
   "cell_type": "markdown",
   "id": "d26d8061",
   "metadata": {},
   "source": [
    "## Cantidad de alumnos de la matricula por nivel en primaria"
   ]
  },
  {
   "cell_type": "code",
   "execution_count": 37,
   "id": "32bbe3bb",
   "metadata": {},
   "outputs": [
    {
     "name": "stdout",
     "output_type": "stream",
     "text": [
      "[1] 1\n",
      "[1] \"Cantidad de alumnos totales:\"\n",
      "[1] 982\n",
      "[1] \"Cantidad de alumnos totales con notas:\"\n",
      "[1] 964\n",
      "[1] \"--------------------------------\"\n",
      "[1] 2\n",
      "[1] \"Cantidad de alumnos totales:\"\n",
      "[1] 836\n",
      "[1] \"Cantidad de alumnos totales con notas:\"\n",
      "[1] 814\n",
      "[1] \"--------------------------------\"\n",
      "[1] 3\n",
      "[1] \"Cantidad de alumnos totales:\"\n",
      "[1] 863\n",
      "[1] \"Cantidad de alumnos totales con notas:\"\n",
      "[1] 846\n",
      "[1] \"--------------------------------\"\n",
      "[1] 4\n",
      "[1] \"Cantidad de alumnos totales:\"\n",
      "[1] 840\n",
      "[1] \"Cantidad de alumnos totales con notas:\"\n",
      "[1] 827\n",
      "[1] \"--------------------------------\"\n",
      "[1] 5\n",
      "[1] \"Cantidad de alumnos totales:\"\n",
      "[1] 789\n",
      "[1] \"Cantidad de alumnos totales con notas:\"\n",
      "[1] 783\n",
      "[1] \"--------------------------------\"\n",
      "[1] 6\n",
      "[1] \"Cantidad de alumnos totales:\"\n",
      "[1] 841\n",
      "[1] \"Cantidad de alumnos totales con notas:\"\n",
      "[1] 829\n",
      "[1] \"--------------------------------\"\n"
     ]
    }
   ],
   "source": [
    "for (i in 1:6)\n",
    "{\n",
    "    rm(dataset_primaria_1)\n",
    "    print(i)\n",
    "    dataset_primaria_1 <- filter(dataset_primaria_2022_troncales, AñoCursado == i)\n",
    "    print(\"Cantidad de alumnos totales:\")\n",
    "    print(length(unique(dataset_primaria_1$Documento)))\n",
    "    print(\"Cantidad de alumnos totales con notas:\")\n",
    "    dataset_primaria_1_con_notas <- filter(dataset_primaria_1, CondicionFinal %in% c(\"APROBADO\", \"DESAPROBADO\"))\n",
    "    print(length(unique(dataset_primaria_1_con_notas$Documento)))\n",
    "    print(\"--------------------------------\")\n",
    "}"
   ]
  },
  {
   "cell_type": "markdown",
   "id": "11035511",
   "metadata": {},
   "source": [
    "## Cantidad de alumnos de la matricula por nivel en secundaria"
   ]
  },
  {
   "cell_type": "code",
   "execution_count": 38,
   "id": "c923a33f",
   "metadata": {},
   "outputs": [
    {
     "name": "stdout",
     "output_type": "stream",
     "text": [
      "[1] 1\n",
      "[1] \"Cantidad de alumnos totales:\"\n",
      "[1] 892\n",
      "[1] \"Cantidad de alumnos totales con notas:\"\n",
      "[1] 890\n",
      "[1] \"--------------------------------\"\n",
      "[1] 2\n",
      "[1] \"Cantidad de alumnos totales:\"\n",
      "[1] 844\n",
      "[1] \"Cantidad de alumnos totales con notas:\"\n",
      "[1] 841\n",
      "[1] \"--------------------------------\"\n",
      "[1] 3\n",
      "[1] \"Cantidad de alumnos totales:\"\n",
      "[1] 849\n",
      "[1] \"Cantidad de alumnos totales con notas:\"\n",
      "[1] 847\n",
      "[1] \"--------------------------------\"\n",
      "[1] 4\n",
      "[1] \"Cantidad de alumnos totales:\"\n",
      "[1] 763\n",
      "[1] \"Cantidad de alumnos totales con notas:\"\n",
      "[1] 762\n",
      "[1] \"--------------------------------\"\n",
      "[1] 5\n",
      "[1] \"Cantidad de alumnos totales:\"\n",
      "[1] 598\n",
      "[1] \"Cantidad de alumnos totales con notas:\"\n",
      "[1] 589\n",
      "[1] \"--------------------------------\"\n",
      "[1] 6\n",
      "[1] \"Cantidad de alumnos totales:\"\n",
      "[1] 561\n",
      "[1] \"Cantidad de alumnos totales con notas:\"\n",
      "[1] 559\n",
      "[1] \"--------------------------------\"\n",
      "[1] 7\n",
      "[1] \"Cantidad de alumnos totales:\"\n",
      "[1] 57\n",
      "[1] \"Cantidad de alumnos totales con notas:\"\n",
      "[1] 57\n",
      "[1] \"--------------------------------\"\n"
     ]
    }
   ],
   "source": [
    "for (i in 1:7)\n",
    "{\n",
    "    rm(dataset_secundaria_1)\n",
    "    print(i)\n",
    "    dataset_secundaria_1 <- filter(dataset_secundaria_2022_troncales, AñoCursado == i)\n",
    "    print(\"Cantidad de alumnos totales:\")\n",
    "    print(length(unique(dataset_secundaria_1$Documento)))\n",
    "    print(\"Cantidad de alumnos totales con notas:\")\n",
    "    dataset_secundaria_1_con_notas <- filter(dataset_secundaria_1, CondicionFinal %in% c(\"APROBADO\", \"DESAPROBADO\"))\n",
    "    print(length(unique(dataset_secundaria_1_con_notas$Documento)))\n",
    "    print(\"--------------------------------\")\n",
    "}"
   ]
  },
  {
   "cell_type": "code",
   "execution_count": 39,
   "id": "bb09c05c",
   "metadata": {
    "scrolled": true
   },
   "outputs": [
    {
     "data": {
      "text/html": [
       "<ol class=list-inline>\n",
       "\t<li>'CUE'</li>\n",
       "\t<li>'departamento'</li>\n",
       "\t<li>'localidad'</li>\n",
       "\t<li>'EsPrivada'</li>\n",
       "\t<li>'turno'</li>\n",
       "\t<li>'curso'</li>\n",
       "\t<li>'periodoEvaluatorio'</li>\n",
       "\t<li>'idalumno'</li>\n",
       "\t<li>'Documento'</li>\n",
       "\t<li>'año'</li>\n",
       "\t<li>'asignatura'</li>\n",
       "\t<li>'nota'</li>\n",
       "\t<li>'observaciones'</li>\n",
       "\t<li>'idSubOrganizacion'</li>\n",
       "\t<li>'idDivision'</li>\n",
       "\t<li>'NivelEnseñanza'</li>\n",
       "\t<li>'orden'</li>\n",
       "\t<li>'motivo_ausente'</li>\n",
       "\t<li>'idOrganizaciones'</li>\n",
       "\t<li>'ddivision'</li>\n",
       "\t<li>'Nivel'</li>\n",
       "\t<li>'esMultianio'</li>\n",
       "\t<li>'IdModEnsenanza'</li>\n",
       "\t<li>'Modalidad'</li>\n",
       "\t<li>'ModEnseñanza'</li>\n",
       "\t<li>'AñoCursado'</li>\n",
       "</ol>\n"
      ],
      "text/latex": [
       "\\begin{enumerate*}\n",
       "\\item 'CUE'\n",
       "\\item 'departamento'\n",
       "\\item 'localidad'\n",
       "\\item 'EsPrivada'\n",
       "\\item 'turno'\n",
       "\\item 'curso'\n",
       "\\item 'periodoEvaluatorio'\n",
       "\\item 'idalumno'\n",
       "\\item 'Documento'\n",
       "\\item 'año'\n",
       "\\item 'asignatura'\n",
       "\\item 'nota'\n",
       "\\item 'observaciones'\n",
       "\\item 'idSubOrganizacion'\n",
       "\\item 'idDivision'\n",
       "\\item 'NivelEnseñanza'\n",
       "\\item 'orden'\n",
       "\\item 'motivo\\_ausente'\n",
       "\\item 'idOrganizaciones'\n",
       "\\item 'ddivision'\n",
       "\\item 'Nivel'\n",
       "\\item 'esMultianio'\n",
       "\\item 'IdModEnsenanza'\n",
       "\\item 'Modalidad'\n",
       "\\item 'ModEnseñanza'\n",
       "\\item 'AñoCursado'\n",
       "\\end{enumerate*}\n"
      ],
      "text/markdown": [
       "1. 'CUE'\n",
       "2. 'departamento'\n",
       "3. 'localidad'\n",
       "4. 'EsPrivada'\n",
       "5. 'turno'\n",
       "6. 'curso'\n",
       "7. 'periodoEvaluatorio'\n",
       "8. 'idalumno'\n",
       "9. 'Documento'\n",
       "10. 'año'\n",
       "11. 'asignatura'\n",
       "12. 'nota'\n",
       "13. 'observaciones'\n",
       "14. 'idSubOrganizacion'\n",
       "15. 'idDivision'\n",
       "16. 'NivelEnseñanza'\n",
       "17. 'orden'\n",
       "18. 'motivo_ausente'\n",
       "19. 'idOrganizaciones'\n",
       "20. 'ddivision'\n",
       "21. 'Nivel'\n",
       "22. 'esMultianio'\n",
       "23. 'IdModEnsenanza'\n",
       "24. 'Modalidad'\n",
       "25. 'ModEnseñanza'\n",
       "26. 'AñoCursado'\n",
       "\n",
       "\n"
      ],
      "text/plain": [
       " [1] \"CUE\"                \"departamento\"       \"localidad\"         \n",
       " [4] \"EsPrivada\"          \"turno\"              \"curso\"             \n",
       " [7] \"periodoEvaluatorio\" \"idalumno\"           \"Documento\"         \n",
       "[10] \"año\"                \"asignatura\"         \"nota\"              \n",
       "[13] \"observaciones\"      \"idSubOrganizacion\"  \"idDivision\"        \n",
       "[16] \"NivelEnseñanza\"     \"orden\"              \"motivo_ausente\"    \n",
       "[19] \"idOrganizaciones\"   \"ddivision\"          \"Nivel\"             \n",
       "[22] \"esMultianio\"        \"IdModEnsenanza\"     \"Modalidad\"         \n",
       "[25] \"ModEnseñanza\"       \"AñoCursado\"        "
      ]
     },
     "metadata": {},
     "output_type": "display_data"
    }
   ],
   "source": [
    "names(dataset_rename_curso)"
   ]
  },
  {
   "cell_type": "code",
   "execution_count": 40,
   "id": "0f68fcd6",
   "metadata": {},
   "outputs": [
    {
     "data": {
      "image/png": "[encoded data removed]",
      "text/plain": [
       "plot without title"
      ]
     },
     "metadata": {},
     "output_type": "display_data"
    }
   ],
   "source": [
    "plot(table(dataset_rename_curso$orden),xlab=(\"ORDEN\"), ylab=(\"FRECUENCIA\"),type=\"h\",lty=\"solid\",lwd=4,col=topo.colors(5))"
   ]
  },
  {
   "cell_type": "code",
   "execution_count": 41,
   "id": "409ca0a4",
   "metadata": {
    "scrolled": true
   },
   "outputs": [
    {
     "name": "stdout",
     "output_type": "stream",
     "text": [
      "'data.frame':\t154940 obs. of  17 variables:\n",
      " $ CUE               : num  6e+06 6e+06 6e+06 6e+06 6e+06 ...\n",
      " $ EsPrivada         : logi  FALSE FALSE FALSE FALSE FALSE FALSE ...\n",
      " $ turno             : Factor w/ 8 levels \"COMPLETO\",\"DIURNO\",..: 7 7 7 7 7 7 7 7 7 7 ...\n",
      " $ periodoEvaluatorio: chr  \"Tercer Trimestre\" \"Tercer Trimestre\" \"Tercer Trimestre\" \"Tercer Trimestre\" ...\n",
      " $ Documento         : num  10948172 10948172 10948172 12896526 12896526 ...\n",
      " $ año               : num  2022 2022 2022 2022 2022 ...\n",
      " $ asignatura        : chr  \"PRACTICA PROFESIONAL\" \"PRODUCCION MULTIMEDIAL EN LENGUAJES ARTISTICOS\" \"TALLER DE PRODUCCION III\" \"DIBUJO Y COMPOSICION VISUAL II\" ...\n",
      " $ NivelEnseñanza    : chr  \"SECUNDARIO\" \"SECUNDARIO\" \"SECUNDARIO\" \"SECUNDARIO\" ...\n",
      " $ Nivel             : num  3 3 3 3 3 3 3 3 3 3 ...\n",
      " $ Modalidad         : Factor w/ 5 levels \"Inicial\",\"NULL\",..: 4 4 4 4 4 4 4 4 4 4 ...\n",
      " $ ModEnseñanza      : Factor w/ 8 levels \"Adultos\",\"Agrotécnica\",..: 3 3 3 3 3 3 3 3 3 3 ...\n",
      " $ AñoCursado        : num  3 3 3 2 2 2 2 3 3 3 ...\n",
      " $ NotasPrimerT      : num  7 9 7 8 9 8 9 10 8 8 ...\n",
      " $ NotasSegundoT     : num  9 9 9 10 9 10 9 10 9 9 ...\n",
      " $ NotasTercerT      : num  10 9 10 10 10 10 10 10 10 10 ...\n",
      " $ Promedio          : num  8.67 9 8.67 9.33 9.33 ...\n",
      " $ CondicionFinal    : chr  \"APROBADO\" \"APROBADO\" \"APROBADO\" \"APROBADO\" ...\n"
     ]
    }
   ],
   "source": [
    "str(dataset_secundaria)"
   ]
  },
  {
   "cell_type": "markdown",
   "id": "5a9c0226",
   "metadata": {},
   "source": [
    "## Procedemos a armar tablas de frecuencia para matemática y lengua, para cada año en cada nivel de enseñanza."
   ]
  },
  {
   "cell_type": "markdown",
   "id": "bc90f59d",
   "metadata": {},
   "source": [
    "### Primaria:"
   ]
  },
  {
   "cell_type": "code",
   "execution_count": 42,
   "id": "ac51dfed",
   "metadata": {},
   "outputs": [
    {
     "name": "stdout",
     "output_type": "stream",
     "text": [
      "[1] 1\n",
      "[1] \"Tabla de frecuencia para los promedios de matemáticas\"\n",
      " Class limits   f   rf rf(%)  cf  cf(%)\n",
      "    [5.9,6.8)  79 0.10  9.79  79   9.79\n",
      "    [6.8,7.6)  97 0.12 12.02 176  21.81\n",
      "    [7.6,8.4) 189 0.23 23.42 365  45.23\n",
      "    [8.4,9.3) 186 0.23 23.05 551  68.28\n",
      "     [9.3,10) 256 0.32 31.72 807 100.00\n",
      "[1] \"Tabla de frecuencia para los promedios de lengua\"\n",
      " Class limits   f   rf rf(%)  cf  cf(%)\n",
      "    [5.9,6.8)  89 0.12 11.62  89  11.62\n",
      "    [6.8,7.6)  98 0.13 12.79 187  24.41\n",
      "    [7.6,8.4) 192 0.25 25.07 379  49.48\n",
      "    [8.4,9.3) 160 0.21 20.89 539  70.37\n",
      "     [9.3,10) 227 0.30 29.63 766 100.00\n",
      "[1] 2\n",
      "[1] \"Tabla de frecuencia para los promedios de matemáticas\"\n",
      " Class limits   f   rf rf(%)  cf  cf(%)\n",
      "    [5.9,6.8)  63 0.09  9.32  63   9.32\n",
      "    [6.8,7.6)  97 0.14 14.35 160  23.67\n",
      "    [7.6,8.4) 142 0.21 21.01 302  44.67\n",
      "    [8.4,9.3) 140 0.21 20.71 442  65.38\n",
      "     [9.3,10) 234 0.35 34.62 676 100.00\n",
      "[1] \"Tabla de frecuencia para los promedios de lengua\"\n",
      " Class limits   f   rf rf(%)  cf  cf(%)\n",
      "    [5.9,6.8)  71 0.10 10.40  71  10.40\n",
      "    [6.8,7.6)  72 0.11 10.54 143  20.94\n",
      "    [7.6,8.4) 168 0.25 24.60 311  45.53\n",
      "    [8.4,9.3) 135 0.20 19.77 446  65.30\n",
      "     [9.3,10) 237 0.35 34.70 683 100.00\n",
      "[1] 3\n",
      "[1] \"Tabla de frecuencia para los promedios de matemáticas\"\n",
      " Class limits   f   rf rf(%)  cf  cf(%)\n",
      "    [5.9,6.8)  71 0.10  9.94  71   9.94\n",
      "    [6.8,7.6)  67 0.09  9.38 138  19.33\n",
      "    [7.6,8.4) 160 0.22 22.41 298  41.74\n",
      "    [8.4,9.3) 165 0.23 23.11 463  64.85\n",
      "     [9.3,10) 251 0.35 35.15 714 100.00\n",
      "[1] \"Tabla de frecuencia para los promedios de lengua\"\n",
      " Class limits   f   rf rf(%)  cf  cf(%)\n",
      "    [5.9,6.8)  57 0.08  8.43  57   8.43\n",
      "    [6.8,7.6)  70 0.10 10.36 127  18.79\n",
      "    [7.6,8.4) 160 0.24 23.67 287  42.46\n",
      "    [8.4,9.3) 188 0.28 27.81 475  70.27\n",
      "     [9.3,10) 201 0.30 29.73 676 100.00\n",
      "[1] 4\n",
      "[1] \"Tabla de frecuencia para los promedios de matemáticas\"\n",
      " Class limits   f   rf rf(%)  cf  cf(%)\n",
      "    [5.9,6.8)  68 0.10  9.56  68   9.56\n",
      "    [6.8,7.6)  84 0.12 11.81 152  21.38\n",
      "    [7.6,8.4) 235 0.33 33.05 387  54.43\n",
      "    [8.4,9.3) 179 0.25 25.18 566  79.61\n",
      "     [9.3,10) 145 0.20 20.39 711 100.00\n",
      "[1] \"Tabla de frecuencia para los promedios de lengua\"\n",
      " Class limits   f   rf rf(%)  cf  cf(%)\n",
      "    [5.9,6.8)  78 0.11 10.85  78  10.85\n",
      "    [6.8,7.6) 101 0.14 14.05 179  24.90\n",
      "    [7.6,8.4) 220 0.31 30.60 399  55.49\n",
      "    [8.4,9.3) 168 0.23 23.37 567  78.86\n",
      "     [9.3,10) 152 0.21 21.14 719 100.00\n",
      "[1] 5\n",
      "[1] \"Tabla de frecuencia para los promedios de matemáticas\"\n",
      " Class limits   f   rf rf(%)  cf  cf(%)\n",
      "    [5.9,6.8) 102 0.15 14.70 102  14.70\n",
      "    [6.8,7.6) 103 0.15 14.84 205  29.54\n",
      "    [7.6,8.4) 201 0.29 28.96 406  58.50\n",
      "    [8.4,9.3) 134 0.19 19.31 540  77.81\n",
      "     [9.3,10) 154 0.22 22.19 694 100.00\n",
      "[1] \"Tabla de frecuencia para los promedios de lengua\"\n",
      " Class limits   f   rf rf(%)  cf  cf(%)\n",
      "    [5.9,6.8)  90 0.13 12.64  90  12.64\n",
      "    [6.8,7.6) 104 0.15 14.61 194  27.25\n",
      "    [7.6,8.4) 219 0.31 30.76 413  58.01\n",
      "    [8.4,9.3) 167 0.23 23.46 580  81.46\n",
      "     [9.3,10) 132 0.19 18.54 712 100.00\n",
      "[1] 6\n",
      "[1] \"Tabla de frecuencia para los promedios de matemáticas\"\n",
      " Class limits   f   rf rf(%)  cf  cf(%)\n",
      "    [5.9,6.8)  97 0.14 13.70  97  13.70\n",
      "    [6.8,7.6) 125 0.18 17.66 222  31.36\n",
      "    [7.6,8.4) 210 0.30 29.66 432  61.02\n",
      "    [8.4,9.3) 125 0.18 17.66 557  78.67\n",
      "     [9.3,10) 151 0.21 21.33 708 100.00\n",
      "[1] \"Tabla de frecuencia para los promedios de lengua\"\n",
      " Class limits   f   rf rf(%)  cf  cf(%)\n",
      "    [5.9,6.8) 100 0.14 13.79 100  13.79\n",
      "    [6.8,7.6) 120 0.17 16.55 220  30.34\n",
      "    [7.6,8.4) 233 0.32 32.14 453  62.48\n",
      "    [8.4,9.3) 145 0.20 20.00 598  82.48\n",
      "     [9.3,10) 127 0.18 17.52 725 100.00\n"
     ]
    }
   ],
   "source": [
    "for (i in 1:6)\n",
    "{\n",
    "    print(i)\n",
    "    filtrado <- dplyr::filter(dataset_primaria_2022_troncales, AñoCursado == i)\n",
    "    print(\"Tabla de frecuencia para los promedios de matemáticas\")\n",
    "    tf_mat <- fdt(dplyr::filter(filtrado, asignatura == \"MATEMÁTICA\")$Promedio, k=5, na.rm = TRUE)\n",
    "    print(tf_mat)\n",
    "    print(\"Tabla de frecuencia para los promedios de lengua\")\n",
    "    tf_len <- fdt(dplyr::filter(filtrado, asignatura == \"LENGUA\")$Promedio, k=5, na.rm = TRUE)\n",
    "    print(tf_len)\n",
    "}"
   ]
  },
  {
   "cell_type": "markdown",
   "id": "5da5fdd9",
   "metadata": {},
   "source": [
    "### Secundaria"
   ]
  },
  {
   "cell_type": "code",
   "execution_count": 43,
   "id": "adf63705",
   "metadata": {
    "scrolled": true
   },
   "outputs": [
    {
     "name": "stdout",
     "output_type": "stream",
     "text": [
      "[1] 1\n",
      "[1] \"Tabla de frecuencia para los promedios de matemáticas\"\n",
      " Class limits   f   rf rf(%)  cf  cf(%)\n",
      "   [0.99,2.8)  20 0.02  2.26  20   2.26\n",
      "    [2.8,4.6)  65 0.07  7.35  85   9.62\n",
      "    [4.6,6.5) 300 0.34 33.94 385  43.55\n",
      "    [6.5,8.3) 297 0.34 33.60 682  77.15\n",
      "     [8.3,10) 202 0.23 22.85 884 100.00\n",
      "[1] \"Tabla de frecuencia para los promedios de lengua\"\n",
      " Class limits   f   rf rf(%)  cf  cf(%)\n",
      "    [2.3,3.9)  28 0.03  3.30  28   3.30\n",
      "    [3.9,5.4) 135 0.16 15.90 163  19.20\n",
      "      [5.4,7) 238 0.28 28.03 401  47.23\n",
      "      [7,8.5) 283 0.33 33.33 684  80.57\n",
      "     [8.5,10) 165 0.19 19.43 849 100.00\n",
      "[1] 2\n",
      "[1] \"Tabla de frecuencia para los promedios de matemáticas\"\n",
      " Class limits   f   rf rf(%)  cf  cf(%)\n",
      "    [1.6,3.3)  81 0.10  9.68  81   9.68\n",
      "      [3.3,5) 161 0.19 19.24 242  28.91\n",
      "      [5,6.7) 254 0.30 30.35 496  59.26\n",
      "    [6.7,8.4) 218 0.26 26.05 714  85.30\n",
      "     [8.4,10) 123 0.15 14.70 837 100.00\n",
      "[1] \"Tabla de frecuencia para los promedios de lengua\"\n",
      " Class limits   f   rf rf(%)  cf  cf(%)\n",
      "   [0.99,2.8)  40 0.05  5.29  40   5.29\n",
      "    [2.8,4.6) 105 0.14 13.89 145  19.18\n",
      "    [4.6,6.5) 233 0.31 30.82 378  50.00\n",
      "    [6.5,8.3) 230 0.30 30.42 608  80.42\n",
      "     [8.3,10) 148 0.20 19.58 756 100.00\n",
      "[1] 3\n",
      "[1] \"Tabla de frecuencia para los promedios de matemáticas\"\n",
      " Class limits   f   rf rf(%)  cf  cf(%)\n",
      "   [0.99,2.8)  54 0.06  5.82  54   5.82\n",
      "    [2.8,4.6) 134 0.14 14.44 188  20.26\n",
      "    [4.6,6.5) 328 0.35 35.34 516  55.60\n",
      "    [6.5,8.3) 234 0.25 25.22 750  80.82\n",
      "     [8.3,10) 178 0.19 19.18 928 100.00\n",
      "[1] \"Tabla de frecuencia para los promedios de lengua\"\n",
      " Class limits   f   rf rf(%)  cf  cf(%)\n",
      "   [0.99,2.8)  20 0.02  2.19  20   2.19\n",
      "    [2.8,4.6) 117 0.13 12.79 137  14.97\n",
      "    [4.6,6.5) 325 0.36 35.52 462  50.49\n",
      "    [6.5,8.3) 266 0.29 29.07 728  79.56\n",
      "     [8.3,10) 187 0.20 20.44 915 100.00\n",
      "[1] 4\n",
      "[1] \"Tabla de frecuencia para los promedios de matemáticas\"\n",
      " Class limits   f   rf rf(%)   cf  cf(%)\n",
      "   [0.99,2.8)  85 0.06  6.03   85   6.03\n",
      "    [2.8,4.6) 233 0.17 16.52  318  22.55\n",
      "    [4.6,6.5) 452 0.32 32.06  770  54.61\n",
      "    [6.5,8.3) 392 0.28 27.80 1162  82.41\n",
      "     [8.3,10) 248 0.18 17.59 1410 100.00\n",
      "[1] \"Tabla de frecuencia para los promedios de lengua\"\n",
      " Class limits   f   rf rf(%)   cf  cf(%)\n",
      "   [0.99,2.8)  62 0.05  4.53   62   4.53\n",
      "    [2.8,4.6) 254 0.19 18.54  316  23.07\n",
      "    [4.6,6.5) 452 0.33 32.99  768  56.06\n",
      "    [6.5,8.3) 430 0.31 31.39 1198  87.45\n",
      "     [8.3,10) 172 0.13 12.55 1370 100.00\n",
      "[1] 5\n",
      "[1] \"Tabla de frecuencia para los promedios de matemáticas\"\n",
      " Class limits   f   rf rf(%)   cf  cf(%)\n",
      "    [1.6,3.3)  56 0.04  3.72   56   3.72\n",
      "      [3.3,5) 266 0.18 17.66  322  21.38\n",
      "      [5,6.7) 505 0.34 33.53  827  54.91\n",
      "    [6.7,8.4) 427 0.28 28.35 1254  83.27\n",
      "     [8.4,10) 252 0.17 16.73 1506 100.00\n",
      "[1] \"Tabla de frecuencia para los promedios de lengua\"\n",
      " Class limits  f   rf rf(%)  cf  cf(%)\n",
      "    [2.3,3.9)  2 0.02  1.53   2   1.53\n",
      "    [3.9,5.4)  7 0.05  5.34   9   6.87\n",
      "      [5.4,7) 34 0.26 25.95  43  32.82\n",
      "      [7,8.5) 46 0.35 35.11  89  67.94\n",
      "     [8.5,10) 42 0.32 32.06 131 100.00\n",
      "[1] 6\n",
      "[1] \"Tabla de frecuencia para los promedios de matemáticas\"\n",
      " Class limits   f   rf rf(%)   cf  cf(%)\n",
      "   [0.99,2.8)  26 0.02  1.81   26   1.81\n",
      "    [2.8,4.6) 143 0.10  9.98  169  11.79\n",
      "    [4.6,6.5) 382 0.27 26.66  551  38.45\n",
      "    [6.5,8.3) 485 0.34 33.85 1036  72.30\n",
      "     [8.3,10) 397 0.28 27.70 1433 100.00\n",
      "[1] \"Tabla de frecuencia para los promedios de lengua\"\n",
      " Class limits f   rf rf(%) cf  cf(%)\n",
      "    [6.9,7.4) 1 0.11 11.11  1  11.11\n",
      "    [7.4,7.8) 0 0.00  0.00  1  11.11\n",
      "    [7.8,8.2) 4 0.44 44.44  5  55.56\n",
      "    [8.2,8.7) 0 0.00  0.00  5  55.56\n",
      "    [8.7,9.1) 4 0.44 44.44  9 100.00\n",
      "[1] 7\n",
      "[1] \"Tabla de frecuencia para los promedios de matemáticas\"\n",
      " Class limits  f   rf rf(%) cf  cf(%)\n",
      "    [3.6,4.9)  1 0.03  3.12  1   3.12\n",
      "    [4.9,6.2)  2 0.06  6.25  3   9.38\n",
      "    [6.2,7.5) 11 0.34 34.38 14  43.75\n",
      "    [7.5,8.8)  9 0.28 28.12 23  71.88\n",
      "     [8.8,10)  9 0.28 28.12 32 100.00\n",
      "[1] \"Tabla de frecuencia para los promedios de lengua\"\n",
      "  Class limits f  rf rf(%) cf cf(%)\n",
      "  [7.92,8.019) 1 0.5    50  1    50\n",
      " [8.019,8.119) 0 0.0     0  1    50\n",
      " [8.119,8.218) 0 0.0     0  1    50\n",
      " [8.218,8.317) 0 0.0     0  1    50\n",
      " [8.317,8.417) 1 0.5    50  2   100\n"
     ]
    }
   ],
   "source": [
    "for (i in 1:7)\n",
    "{\n",
    "    print(i)\n",
    "    filtrado <- dplyr::filter(dataset_secundaria_2022_troncales, AñoCursado == i)\n",
    "    print(\"Tabla de frecuencia para los promedios de matemáticas\")\n",
    "    tf_mat <- fdt(dplyr::filter(filtrado, asignatura == \"MATEMATICA\")$Promedio, k=5, na.rm = TRUE)\n",
    "    print(tf_mat)\n",
    "    print(\"Tabla de frecuencia para los promedios de lengua\")\n",
    "    tf_len <- fdt(dplyr::filter(filtrado, asignatura == \"LENGUA Y LITERATURA\")$Promedio, k=5, na.rm = TRUE)\n",
    "    print(tf_len)\n",
    "}"
   ]
  },
  {
   "cell_type": "markdown",
   "id": "df66732b",
   "metadata": {},
   "source": [
    "## Ahora procederemos a sacar summaries de la variable Promedio de cada materia, para cada nivel en su respectivo año de cursado"
   ]
  },
  {
   "cell_type": "markdown",
   "id": "def71106",
   "metadata": {},
   "source": [
    "### Primaria"
   ]
  },
  {
   "cell_type": "code",
   "execution_count": 44,
   "id": "54dba645",
   "metadata": {
    "scrolled": true
   },
   "outputs": [
    {
     "name": "stdout",
     "output_type": "stream",
     "text": [
      "[1] 1\n",
      "# A tibble: 2 x 15\n",
      "  asignatura conteo media varianza desvio minimo maximo   IQR rango mediana\n",
      "  <chr>       <int> <dbl>    <dbl>  <dbl>  <dbl>  <dbl> <dbl> <dbl>   <dbl>\n",
      "1 LENGUA        985  8.36     1.29   1.14      6     10  1.67     4    8.67\n",
      "2 MATEMÁTICA   1010  8.47     1.25   1.12      6     10  1.67     4    8.67\n",
      "# ... with 5 more variables: Q1 <dbl>, Q3 <dbl>, sup <dbl>, inf <dbl>, cv <dbl>\n",
      "[1] \"---------------------------------\"\n",
      "[1] 2\n",
      "# A tibble: 2 x 15\n",
      "  asignatura conteo media varianza desvio minimo maximo   IQR rango mediana\n",
      "  <chr>       <int> <dbl>    <dbl>  <dbl>  <dbl>  <dbl> <dbl> <dbl>   <dbl>\n",
      "1 LENGUA        862  8.50     1.30   1.14      6     10  1.67     4    8.67\n",
      "2 MATEMÁTICA    830  8.49     1.35   1.16      6     10  1.67     4    8.67\n",
      "# ... with 5 more variables: Q1 <dbl>, Q3 <dbl>, sup <dbl>, inf <dbl>, cv <dbl>\n",
      "[1] \"---------------------------------\"\n",
      "[1] 3\n",
      "# A tibble: 2 x 15\n",
      "  asignatura conteo media varianza desvio minimo maximo   IQR rango mediana\n",
      "  <chr>       <int> <dbl>    <dbl>  <dbl>  <dbl>  <dbl> <dbl> <dbl>   <dbl>\n",
      "1 LENGUA        867  8.53     1.15   1.07      6     10  1.67     4    8.67\n",
      "2 MATEMÁTICA    866  8.56     1.29   1.14      6     10  2.00     4    8.67\n",
      "# ... with 5 more variables: Q1 <dbl>, Q3 <dbl>, sup <dbl>, inf <dbl>, cv <dbl>\n",
      "[1] \"---------------------------------\"\n",
      "[1] 4\n",
      "# A tibble: 2 x 15\n",
      "  asignatura conteo media varianza desvio minimo maximo   IQR rango mediana\n",
      "  <chr>       <int> <dbl>    <dbl>  <dbl>  <dbl>  <dbl> <dbl> <dbl>   <dbl>\n",
      "1 LENGUA        856  8.27    1.11   1.05       6     10  1.33     4    8.33\n",
      "2 MATEMÁTICA    851  8.31    0.994  0.997      6     10  1.33     4    8.33\n",
      "# ... with 5 more variables: Q1 <dbl>, Q3 <dbl>, sup <dbl>, inf <dbl>, cv <dbl>\n",
      "[1] \"---------------------------------\"\n",
      "[1] 5\n",
      "# A tibble: 2 x 15\n",
      "  asignatura conteo media varianza desvio minimo maximo   IQR rango mediana\n",
      "  <chr>       <int> <dbl>    <dbl>  <dbl>  <dbl>  <dbl> <dbl> <dbl>   <dbl>\n",
      "1 LENGUA        824  8.16     1.13   1.06      6     10  1.67     4    8.33\n",
      "2 MATEMÁTICA    820  8.16     1.23   1.11      6     10  1.67     4    8.33\n",
      "# ... with 5 more variables: Q1 <dbl>, Q3 <dbl>, sup <dbl>, inf <dbl>, cv <dbl>\n",
      "[1] \"---------------------------------\"\n",
      "[1] 6\n",
      "# A tibble: 2 x 15\n",
      "  asignatura conteo media varianza desvio minimo maximo   IQR rango mediana\n",
      "  <chr>       <int> <dbl>    <dbl>  <dbl>  <dbl>  <dbl> <dbl> <dbl>   <dbl>\n",
      "1 LENGUA        838  8.09     1.14   1.07      6     10  1.67     4       8\n",
      "2 MATEMÁTICA    835  8.12     1.24   1.11      6     10  1.67     4       8\n",
      "# ... with 5 more variables: Q1 <dbl>, Q3 <dbl>, sup <dbl>, inf <dbl>, cv <dbl>\n",
      "[1] \"---------------------------------\"\n"
     ]
    }
   ],
   "source": [
    "for (i in 1:6)\n",
    "{\n",
    "    print(i)\n",
    "    filtrado <- dplyr::filter(dataset_primaria_2022_troncales, AñoCursado == i & asignatura %in% c(\"MATEMÁTICA\", \"LENGUA\"))\n",
    "    sum <- filtrado %>% group_by(asignatura) %>%\n",
    "            summarise(conteo=n(),\n",
    "                     media=mean(Promedio, na.rm=TRUE),\n",
    "                     varianza=var(Promedio, na.rm=TRUE),\n",
    "                     desvio=sd(Promedio, na.rm=TRUE),\n",
    "                     minimo=min(Promedio, na.rm=TRUE),\n",
    "                     maximo=max(Promedio, na.rm=TRUE),\n",
    "                     IQR=IQR(Promedio, na.rm=TRUE),\n",
    "                     rango=maximo-minimo,\n",
    "                     mediana=median(Promedio, na.rm=TRUE),\n",
    "                     Q1=quantile(Promedio, 0, 25, na.rm=TRUE),\n",
    "                     Q3=quantile(Promedio, 0, 75, na.rm=TRUE),\n",
    "                     sup=Q3 + 1.5 * IQR,\n",
    "                     inf=Q1 - 1.5 * IQR,\n",
    "                     cv=desvio / media * 100)\n",
    "    print(sum)\n",
    "    \n",
    "    print(\"---------------------------------\")\n",
    "}"
   ]
  },
  {
   "cell_type": "markdown",
   "id": "250417b9",
   "metadata": {},
   "source": [
    "### Secundaria"
   ]
  },
  {
   "cell_type": "code",
   "execution_count": 45,
   "id": "9e994bb1",
   "metadata": {},
   "outputs": [
    {
     "name": "stdout",
     "output_type": "stream",
     "text": [
      "[1] 1\n",
      "# A tibble: 2 x 15\n",
      "  asignatura conteo media varianza desvio minimo maximo   IQR rango mediana\n",
      "  <chr>       <int> <dbl>    <dbl>  <dbl>  <dbl>  <dbl> <dbl> <dbl>   <dbl>\n",
      "1 LENGUA Y ~    850  6.95     2.59   1.61   2.33     10  2.33  7.67    7   \n",
      "2 MATEMATICA    887  6.80     2.98   1.73   1        10  2     9       6.67\n",
      "# ... with 5 more variables: Q1 <dbl>, Q3 <dbl>, sup <dbl>, inf <dbl>, cv <dbl>\n",
      "[1] \"---------------------------------\"\n",
      "[1] 2\n",
      "# A tibble: 2 x 15\n",
      "  asignatura conteo media varianza desvio minimo maximo   IQR rango mediana\n",
      "  <chr>       <int> <dbl>    <dbl>  <dbl>  <dbl>  <dbl> <dbl> <dbl>   <dbl>\n",
      "1 LENGUA Y ~    756  6.34     3.93   1.98   1        10  2.67  9       6.5 \n",
      "2 MATEMATICA    843  6.32     3.69   1.92   1.67     10  3     8.33    6.33\n",
      "# ... with 5 more variables: Q1 <dbl>, Q3 <dbl>, sup <dbl>, inf <dbl>, cv <dbl>\n",
      "[1] \"---------------------------------\"\n",
      "[1] 3\n",
      "# A tibble: 2 x 15\n",
      "  asignatura conteo media varianza desvio minimo maximo   IQR rango mediana\n",
      "  <chr>       <int> <dbl>    <dbl>  <dbl>  <dbl>  <dbl> <dbl> <dbl>   <dbl>\n",
      "1 LENGUA Y ~    918  6.51     3.40   1.84      1     10  2.5      9    6.33\n",
      "2 MATEMATICA    936  6.23     3.93   1.98      1     10  2.67     9    6.33\n",
      "# ... with 5 more variables: Q1 <dbl>, Q3 <dbl>, sup <dbl>, inf <dbl>, cv <dbl>\n",
      "[1] \"---------------------------------\"\n",
      "[1] 4\n",
      "# A tibble: 2 x 15\n",
      "  asignatura conteo media varianza desvio minimo maximo   IQR rango mediana\n",
      "  <chr>       <int> <dbl>    <dbl>  <dbl>  <dbl>  <dbl> <dbl> <dbl>   <dbl>\n",
      "1 LENGUA Y ~   1377  6.04     3.45   1.86      1     10  2.67     9    6   \n",
      "2 MATEMATICA   1414  6.14     4.10   2.03      1     10  3        9    6.33\n",
      "# ... with 5 more variables: Q1 <dbl>, Q3 <dbl>, sup <dbl>, inf <dbl>, cv <dbl>\n",
      "[1] \"---------------------------------\"\n",
      "[1] 5\n",
      "# A tibble: 2 x 15\n",
      "  asignatura conteo media varianza desvio minimo maximo   IQR rango mediana\n",
      "  <chr>       <int> <dbl>    <dbl>  <dbl>  <dbl>  <dbl> <dbl> <dbl>   <dbl>\n",
      "1 LENGUA Y ~    131  7.52     2.14   1.46   2.33     10  2.33  7.67    7.67\n",
      "2 MATEMATICA   1548  6.63     3.10   1.76   1.67     10  2.67  8.33    6.67\n",
      "# ... with 5 more variables: Q1 <dbl>, Q3 <dbl>, sup <dbl>, inf <dbl>, cv <dbl>\n",
      "[1] \"---------------------------------\"\n",
      "[1] 6\n",
      "# A tibble: 2 x 15\n",
      "  asignatura conteo media varianza desvio minimo maximo   IQR rango mediana\n",
      "  <chr>       <int> <dbl>    <dbl>  <dbl>  <dbl>  <dbl> <dbl> <dbl>   <dbl>\n",
      "1 LENGUA Y ~      9  8.30    0.457  0.676      7      9  1        2       8\n",
      "2 MATEMATICA   1451  6.91    3.30   1.82       1     10  2.67     9       7\n",
      "# ... with 5 more variables: Q1 <dbl>, Q3 <dbl>, sup <dbl>, inf <dbl>, cv <dbl>\n",
      "[1] \"---------------------------------\"\n"
     ]
    }
   ],
   "source": [
    "for (i in 1:6)\n",
    "{\n",
    "    print(i)\n",
    "    filtrado <- dplyr::filter(dataset_secundaria_2022_troncales, AñoCursado == i & asignatura %in% c(\"MATEMATICA\", \"LENGUA Y LITERATURA\"))\n",
    "    sum <- filtrado %>% group_by(asignatura) %>%\n",
    "            summarise(conteo=n(),\n",
    "                     media=mean(Promedio, na.rm=TRUE),\n",
    "                     varianza=var(Promedio, na.rm=TRUE),\n",
    "                     desvio=sd(Promedio, na.rm=TRUE),\n",
    "                     minimo=min(Promedio, na.rm=TRUE),\n",
    "                     maximo=max(Promedio, na.rm=TRUE),\n",
    "                     IQR=IQR(Promedio, na.rm=TRUE),\n",
    "                     rango=maximo-minimo,\n",
    "                     mediana=median(Promedio, na.rm=TRUE),\n",
    "                     Q1=quantile(Promedio, 0, 25, na.rm=TRUE),\n",
    "                     Q3=quantile(Promedio, 0, 75, na.rm=TRUE),\n",
    "                     sup=Q3 + 1.5 * IQR,\n",
    "                     inf=Q1 - 1.5 * IQR,\n",
    "                     cv=desvio / media * 100)\n",
    "    print(sum)\n",
    "    \n",
    "    print(\"---------------------------------\")\n",
    "}"
   ]
  },
  {
   "cell_type": "code",
   "execution_count": null,
   "id": "871882ff",
   "metadata": {},
   "outputs": [],
   "source": []
  }
 ],
 "metadata": {
  "kernelspec": {
   "display_name": "R",
   "language": "R",
   "name": "ir"
  },
  "language_info": {
   "codemirror_mode": "r",
   "file_extension": ".r",
   "mimetype": "text/x-r-source",
   "name": "R",
   "pygments_lexer": "r",
   "version": "3.6.1"
  }
 },
 "nbformat": 4,
 "nbformat_minor": 5
}
